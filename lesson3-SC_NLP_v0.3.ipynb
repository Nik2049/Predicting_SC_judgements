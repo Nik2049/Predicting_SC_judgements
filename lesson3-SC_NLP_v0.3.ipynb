{
 "cells": [
  {
   "cell_type": "markdown",
   "metadata": {},
   "source": [
    "# IMDB"
   ]
  },
  {
   "cell_type": "code",
   "execution_count": 1,
   "metadata": {},
   "outputs": [],
   "source": [
    "%reload_ext autoreload\n",
    "%autoreload 2\n",
    "%matplotlib inline"
   ]
  },
  {
   "cell_type": "code",
   "execution_count": 2,
   "metadata": {},
   "outputs": [],
   "source": [
    "from fastai.text import *"
   ]
  },
  {
   "cell_type": "code",
   "execution_count": 3,
   "metadata": {},
   "outputs": [
    {
     "data": {
      "text/plain": [
       "'/home/jupyter/tutorials/fastai/course-v3/nbs/dl1'"
      ]
     },
     "execution_count": 3,
     "metadata": {},
     "output_type": "execute_result"
    }
   ],
   "source": [
    "pwd"
   ]
  },
  {
   "cell_type": "markdown",
   "metadata": {},
   "source": [
    "## Preparing the data"
   ]
  },
  {
   "cell_type": "markdown",
   "metadata": {},
   "source": [
    "First let's download the dataset we are going to study. The [dataset](http://ai.stanford.edu/~amaas/data/sentiment/) has been curated by Andrew Maas et al. and contains a total of 100,000 reviews on IMDB. 25,000 of them are labelled as positive and negative for training, another 25,000 are labelled for testing (in both cases they are highly polarized). The remaning 50,000 is an additional unlabelled data (but we will find a use for it nonetheless).\n",
    "\n",
    "We'll begin with a sample we've prepared for you, so that things run quickly before going over the full dataset."
   ]
  },
  {
   "cell_type": "code",
   "execution_count": 4,
   "metadata": {},
   "outputs": [
    {
     "name": "stdout",
     "output_type": "stream",
     "text": [
      "1\n",
      "2\n",
      "3\n"
     ]
    }
   ],
   "source": [
    "#path = untar_data(URLs.IMDB_SAMPLE)\n",
    "path = Path('/home/jupyter/tutorials/data')\n",
    "path\n",
    "for i in range(1,4):\n",
    "    print(i)"
   ]
  },
  {
   "cell_type": "code",
   "execution_count": 5,
   "metadata": {},
   "outputs": [
    {
     "data": {
      "text/html": [
       "<div>\n",
       "<style scoped>\n",
       "    .dataframe tbody tr th:only-of-type {\n",
       "        vertical-align: middle;\n",
       "    }\n",
       "\n",
       "    .dataframe tbody tr th {\n",
       "        vertical-align: top;\n",
       "    }\n",
       "\n",
       "    .dataframe thead th {\n",
       "        text-align: right;\n",
       "    }\n",
       "</style>\n",
       "<table border=\"1\" class=\"dataframe\">\n",
       "  <thead>\n",
       "    <tr style=\"text-align: right;\">\n",
       "      <th></th>\n",
       "      <th>label</th>\n",
       "      <th>Facts</th>\n",
       "    </tr>\n",
       "  </thead>\n",
       "  <tbody>\n",
       "    <tr>\n",
       "      <th>0</th>\n",
       "      <td>Overruled</td>\n",
       "      <td>['Page 1Non-ReportableIN THE SUPREME COURT OF ...</td>\n",
       "    </tr>\n",
       "    <tr>\n",
       "      <th>1</th>\n",
       "      <td>Overruled</td>\n",
       "      <td>['']</td>\n",
       "    </tr>\n",
       "    <tr>\n",
       "      <th>2</th>\n",
       "      <td>Overruled</td>\n",
       "      <td>['Page 1Non-ReportableIN THE SUPREME COURT OF ...</td>\n",
       "    </tr>\n",
       "    <tr>\n",
       "      <th>3</th>\n",
       "      <td>Overruled</td>\n",
       "      <td>['']</td>\n",
       "    </tr>\n",
       "    <tr>\n",
       "      <th>4</th>\n",
       "      <td>Overruled</td>\n",
       "      <td>['']</td>\n",
       "    </tr>\n",
       "  </tbody>\n",
       "</table>\n",
       "</div>"
      ],
      "text/plain": [
       "       label                                              Facts\n",
       "0  Overruled  ['Page 1Non-ReportableIN THE SUPREME COURT OF ...\n",
       "1  Overruled                                               ['']\n",
       "2  Overruled  ['Page 1Non-ReportableIN THE SUPREME COURT OF ...\n",
       "3  Overruled                                               ['']\n",
       "4  Overruled                                               ['']"
      ]
     },
     "execution_count": 5,
     "metadata": {},
     "output_type": "execute_result"
    }
   ],
   "source": [
    "t=(pd.read_csv(path/\"FourYears_judgement_label.csv\"))\n",
    "t.head()\n"
   ]
  },
  {
   "cell_type": "code",
   "execution_count": 6,
   "metadata": {},
   "outputs": [
    {
     "data": {
      "text/plain": [
       "label    3679\n",
       "Facts    3679\n",
       "dtype: int64"
      ]
     },
     "execution_count": 6,
     "metadata": {},
     "output_type": "execute_result"
    }
   ],
   "source": [
    "d=np.where(t.applymap(lambda x: x == \"['']\"))\n",
    "t = t.drop(t[t.Facts == \"['']\" ].index)\n",
    "#len(d[1])\n",
    "t.count()"
   ]
  },
  {
   "cell_type": "code",
   "execution_count": 32,
   "metadata": {},
   "outputs": [
    {
     "data": {
      "text/plain": [
       "\"['1REPORTABLE    IN THE SUPREME COURT OF INDIA     CRIMINAL APPELLATE JURISDICTION      CRIMINAL APPEAL NO. 40 OF 2007PADMINI MAHENDRABHAI GADDA                       … APPELLANTVERSUSSTATE OF GUJARAT                    … RESPONDENTJUDGMENTN.V. RAMANA, J.1.Aggrieved by the judgment and order, dated 4th October, 2006,passed by the High Court of Gujarat at Ahmadabad inCriminal Appeal No. 833 of 1997 and Crl.M.A. No. 1121 of1998 in Crl.A. No. 833 of 1997, the appellant is before thisCourt.2.The facts of the case in a nutshell as presented by theprosecution, are that the appellant herein and Mahendrabhai(deceased) had love marriage in the year 1981 and they wereblessed with two daughters. The deceased was running healthclubs in the city of Ahmedabad in the name and style of P.M.Health Club at two different locations; one at Naranpura and2the other at Ambawadi.  Accused No.1 i.e. Kishore Thakkarwas employed by the deceased to work at Naranpura location.With passage of time, the appellant (A2) developedextramarital relationship with Kishore Thakkar (A1) and inconsequence of their pursuit, they planned together toeliminate Mahendrabhai (deceased). In that context, on12.12.1994, when the complainant’s wife contacted theappellant at about 10:30 AM, appellant informed her that thedeceased had gone to Naranpura Health Club. Further, whencomplainant enquired about the deceased at 3:00 PM,appellant is alleged to have replied that the deceased left forBombay. Hearing this, complainant became suspicious aboutthe way his sister replied.  The complainant along with hiswife, at about 4 pm on that day, visited the house of theappellant and asked her to go and get her elder child backfrom the school. After she went out of the house hesitatingly,he searched the house and found his brother-in-law lying deadin a pool of blood in the bathroom and A1 was present there.As soon as he tried to catch hold of A1, he ran away from thespot half naked by pushing him.  While that is so, theappellant who went to bring back her elder child from theschool, did not return to her home.33. Basing on the complaint of the brother-in-law of the deceased,police registered Crime No. I.C.R. 759 of 1994 under Section302 read with Sections 120B and 201 of Indian Penal Code,1860 [hereinafter ‘I.P.C’ for brevity].  After conductingpanchnama at the scene of offence, body of the deceased wassent for postmortem. Carrying on investigation of the crime,police nabbed and arrested both the accused on 23.01.1995from S.T. Bus Station, Mehsana. After that, they collectedevidences from various places where both the accused hadspent their days together after the date of occurrence untiltheir arrest.  Upon filing of charge sheet by the police, the trialcourt took cognizance of the offence and framed charges.Accused pleaded not guilty and claimed to be tried. 4.The trial court framed the following charges for trial:“(1)    On 12-12-1994 before about six o’clock in the evening you all accusedtogether with one another abscondingaccused who has not been arrested, namely,Piyush Sevantilal Raval hatched a criminalconspiracy to commit murder of thedeceased Mahendrabhai at House No.1,Shakuntal Apartment, Opp: C.N.Vidhyalayasituated in Navrangpura area, inAhmedabad and by doing so you committedan offence under Sec. 120(B) of Indian PenalCode within the jurisdiction of this Court.4 (2)Further more, on the aforesaiddate, time and at the aforesaid place, withregard to complete your criminalconspiracy, accused No.1 and theabsconding accused Piyush by inflictingnumerous blows by knife on the body of thedeceased Mahendrabhai Gadda, causinggrievous injuries intentionally caused hisdeath by committing murder and by doingso you accused have committed the offenceU/s.302 r/w sec.120(B) of the Indian PenalCode within the jurisdiction of this Court.(3)Further, on the aforesaid date,time and place, pursuance to your aforesaidcriminal conspiracy, you accused, byshifting the dead body of the deceased andby cleaning the place of offence destroyedthe evidence with an intention to getfreedom from the imprisonment of theoffence of murder and thereby you accusedhave committed the offence punishableu/S.201 of the Indian Penal Code within thejurisdiction of this Court. (4)Further, on the aforesaid date,time and place, pursuant to your criminalconspiracy, to make pieces of the dead body,committed an attempt to destroy theevidence by collecting a needle, jute-thread,plastic bag, iron blade etc., with anintention to destroy the evidence and to seethat no evidence regarding the identity ofthe dead body as also regarding the injuriescaused to Mahendrabhai Gadda is available,and by doing so you have committed anoffence punishable U/s. 201 r/w sec. 511 ofthe Indian Penal Code within thejurisdiction of this Court. (5)Further, on the aforesaid date,time and place, you accused No.1 bypossessing a deadly weapon like knife with5you, committed a breach of Public Notice ofProhibition of Arms published by the PoliceCommissioner, Ahmedabad City and bydoing so you have committed the offencepunishable U/s.135(1) of the Bombay PoliceAct, within the jurisdiction of this Court.”5.The trial court, after full-fledged trial, came to theconclusion that A1 has committed offences punishable underSections 302 and 201 of I.P.C. and Section 135(1) of BombayPolice Act and convicted him to undergo life imprisonment forthe offences punishable under Section 302 of I.P.C., in defaultto suffer rigorous imprisonment for 3 months, and for theoffence punishable under Section 201 of I.P.C. sentenced himto undergo rigorous imprisonment for two years and imposedfine of Rs.5,000/-, in default to suffer rigorous imprisonmentfor three months.  Appellant herein, who was convicted for theoffence punishable under Section 201 of I.P.C alone, wassentenced to undergo rigorous imprisonment for 2 years andimposed fine of Rs. 5,000/-, in default to further sufferrigorous imprisonment for 3 months. 6.Both the accused, being dissatisfied with the judgment ofthe trial court, approached the High Court by way of separatecriminal appeals. The High Court, upon considering the factsand circumstances of the case, initiated suo motu proceedings6for enhancement of sentence in respect of accusedNo.2/appellant herein. The High Court while rejecting theappeals preferred by the accused, passed an order in thecriminal miscellaneous application enhancing the sentenceimposed by the trial court in respect of accusedNo.2/appellant herein for the offence punishable underSection 201 of I.P.C to rigorous imprisonment for seven yearsand imposed fine of Rs.7,000/- failing which she had tofurther suffer rigorous imprisonment for two years.   Assailingthe same, the appellant is before this Court by way of thisappeal. 7.Mr. V. Giri, learned senior counsel appearing for theappellant, vehemently contended that the Courts below havecommitted serious error in appreciating the evidences againstthe appellant and wrongly convicted her under Section 201 ofI.P.C, disregarding numerous vital portions of her statements.The appellant/accused No. 2 had never been part of the crimeand the reason behind her keeping silence when accused No. 1made entry into her house and committed the heinous crimeof brutally murdering her husband was that as a matter offact, on the fateful day at the time of occurrence, the appellantwas sleeping with her children. Accused No. 1 subjected her to7remain under great fear that if she raises any alarm, herchildren may also be assaulted by the intruder, which droveher to be a silent spectator to the incident. 8.It is further contended that after the occurrence, theappellant has not eloped with accused No.1 willfully but bytaking advantage of their relationship, accused No. 1 hasforcefully taken her to various places and kept her underfictitious names. It is also worthwhile to point that theappellant remained silent during her stay with accused No. 1after the incident because of her apprehension that police andfamily members would first of all find fault with her due to herillicit relationship with the main accused. Even during theperiod when the appellant was held hostage by accused No. 1at various places till their arrest, she could not get access toseek help of anyone mainly because, whenever the mainaccused went out of the room, he used to keep the appellantlocked inside. This fact is evident from the deposition of PW19(Ext. 72).  Her behavior at that moment was quite natural andshe had not played any role to destroy the evidence, but theCourts below did not appreciate the same in true legalperspective before convicting her under Section 201 IPC.8Taking a dig at the order of Courts below, learned seniorcounsel submitted that the appellant at any rate could nothave been held guilty for the offence merely basing upon thecircumstantial evidence i.e. needle, jute thread, plastic bag,iron blade etc., were found in the house of appellantconnecting her to the crime and attributing role by way ofaiding the main offender.9.Advancing another fervent argument that the High Courtpassed the impugned order in a mechanical way withoutapplication of legal principles to the case of appellant, learnedsenior counsel invited our attention to Ext. 4 to show that theappellant was in fact charged for the offence under Section201 r/w Section 511 of I.P.C. In that situation, if the appellantis, per se, convicted for the offence, she would have beenawarded the maximum quantum of sentence which comes upto three years and six months only.   Placing reliance on adecision of this Court in Ananda Dagadu Jadhav & Ors. Vs.Rukminibai Anand Jadhav & Anr. (1993) Supp. (3) SCC 68,learned senior counsel made a strenuous attempt that the trialcourt after considering this aspect by tangible legal principletook a right view and accordingly imposed sentence. Even ifthis Court finds the appellant guilty of the offence, the9impugned order passed by the High Court should be set asiderestoring that of the trial court.10.Learned counsel for the State of Gujarat, however, supportedthe judgment of the High Court and submitted that the HighCourt has rendered the impugned judgment following justprinciples of law and taking into account the veracity ofoffence committed by the appellant, the sentence has beenreasonably enhanced and the same does not call forinterference by this Court.11.Having heard the learned counsel for both sides andbestowing attention to the voluminous material placed beforethis Court, following issues fall for consideration of this Court:1)Whether the Courts below were right in convicting theappellant under Section 201 of the Indian Penal Code?2)Whether the High Court was right in suo motuenhancing the sentence from two years to seven years?12.I have given my anxious consideration to several aspectsinvolved in the case. The entire case of the prosecution restsupon circumstantial evidence except for the direct evidence ofAmi, who is the daughter of the deceased and the appellant. Itis well settled that circumstantial evidence should be strong,10convincing and unassailable leading to the only inference thatcrime should have been committed by the accused only and itshould not give any other inference. 13.A thorough look at the facts of the case put forth by theprosecution reveals that accused Nos.1 and 2 are living in anillicit relationship and in pursuit of the same, they havecommitted the murder of the deceased and the complainant isnone other than the brother of appellant and brother-in-law ofthe deceased.  14.Prosecution, to bring home the guilt of the accused, hasexamined 48 witnesses in addition to voluminousdocumentary evidence.  After a full-fledged trial, the trial courthas come to the conclusion that accused No.1 with the help ofthe absconding accused has committed the murder of thedeceased and held him guilty for the offence punishable underSec.302 of I.P.C.   As far as accused No.2/appellant isconcerned, the Court has observed that there is no evidenceavailable to show that she is a consenting party or she had aprevious meeting of mind with accused No.1 to murder thedeceased and as such accused No.2 is not guilty for theoffence of murder and for the acts done by accused No.1 of11committing the murder of the deceased.  The trial courtfurther observed that her silence is due to fear and being in ahelpless condition and with an apprehension that her childrenand herself might be injured by accused No.1 and abscondingaccused.  It is quite natural that accused No.2 could not haveasked for help.  But the trial court opined that up to 1.00 or2.00 p.m., accused No.1 was away from the place of offenceand during that time, she could have got the help.  15.The trial court further observed that her subsequentconduct can be attributed for her consent or abetment of theoffence of destroying the proof of murder.  Cutting instrument,its blades, plastic yellow color tags and other articles found atthe place of offence and second part of the plastic yellow tagfound from the house of relative of accused No.1 would go toshow that the preparation for destroying the proof of murderwas planned by accused No.1 and accused No.2 by remainingsilent.  Still the Court felt that she is not a conspirator butafter 7.30 a.m. on 12-12-1994, she allowed accused No.2 toenter into her house again and remain with the dead body inthe bathroom of the bedroom.  That act shows that either outof fear or for reasons best known to her, she abetted or aidedthe offence punishable under Section 201 I.P.C.  Regarding12disappearance of the evidence of offence, it is further observedby the trial court that though there is no evidence ofparticipation of accused No.2 in causing disappearance of thesaid proof of offence of murder but by remaining silent, sheabetted the offence of causing disappearance of evidence ofmurder and as such convicted both the accused for the offenceunder Section 201 I.P.C. 16.The High Court while hearing the appeals as well as themiscellaneous petition for the suo motu enhancement ofsentence, has categorically observed that accused No.1 mighthave entered into the house of the deceased with the consentof A2.  Further, she gave all false replies to the complainantand his wife.   The High Court observed that when accusedNo.1 was not present in the house for 6 to 7 hours, at leastshe should have informed anyone about the incident.  Allthese clearly involve her actively in the crime along withaccused No.1.  The evidence also establishes that accusedNo.2 permitted accused No.1 to enter into the house andallowed him to keep other articles.  All the above actsdemonstrate her active involvement in the crime in questionindicating that conspiracy has been established byprosecution, but as no appeal is filed by the State, the High13Court has not dealt with the issue.   The High Court finallyheld that by way of cogent, reliable and consistent evidence,the prosecution proved that accused No.2, though knowingfully well that her husband was brutally murdered by accusedNo.1, did not inform anyone nor filed complaint.  The HighCourt held that the trial court was therefore justified inconvicting accused No.2 for commission of offence punishableunder Section 201 I.P.C, but the trial court has imposed lessersentence which is improper, miscarriage of justice and in theresult, enhanced the punishment to seven years.17.At this juncture, I deem it appropriate to extract Section201 of I.P.C for better appreciation. 201. Causing disappearance of evidenceof offence, or giving false information toscreen offender.—Whoever, knowing orhaving reason to believe that an offence hasbeen committed, causes any evidence of thecommission of that offence to disappear,with the intention of screening the offenderfrom legal punishment, or with thatintention gives any information respectingthe offence which he knows or believes to befalse; if a capital offence.—shall, if theoffence which he knows or believes to havebeen committed is punishable with death,be punished with imprisonment of eitherdescription for a term which may extend toseven years, and shall also be liable to fine;if punishable with imprisonment for life.—and if the offence is punishable with141[imprisonment for life], or withimprisonment which may extend to tenyears, shall be punished with imprisonmentof either description for a term which mayextend to three years, and shall also beliable to fine; if punishable with less thanten years’ imprisonment.—and if the offenceis punishable with imprisonment for anyterm not extending to ten years, shall bepunished with imprisonment of thedescription provided for the offence, for aterm which may extend to one-fourth part ofthe longest term of the imprisonment pro-vided for the offence, or with fine, or withboth. Illustration A, knowing that B has murderedZ, assists B to hide the body with theintention of screening B from punishment. Ais liable to imprisonment of eitherdescription for seven years, and also to fine.18.As laid down by this Court in Sou. Vijaya alias Baby Vs.State of Maharashtra, (2003) 8 SCC 296, in order to convicta person under Section 201 of I.P.C, following ingredients arenecessary-a.That an offence has been committed;b.That the accused knew or had reason tobelieve the commission of such offence;c.That with such knowledge or beliefhe/she-1.caused any evidence of the commission ofthat offence to disappear; or2.gave any information respecting thatoffence which he/she knew or believed to15be false;d.That he did so as aforesaid with theintention of screening the offender fromlegal punishment.……..Therefore, to make an accessory expost facto, the first requisite is that theaccused should know about the crimecommitted. In the next place, he mustreceive, relieve, comfort, or assist him andgenerally any assistance whatever given toan offender to hinder his beingapprehended, tried or suffering punishment,makes the assister an accessory.What Section 201 of IPC requires is that theaccused must have had the intention ofscreening the offender. To put it differently,the intention to screen the offender, must bethe primary and sole object of the accused.The fact that the concealment was likely tohave that effect is not sufficient,for Section 201 speaks of intention asdistinct from a mere likelihood.”19.Criminal trial can never be a fanciful flight of imagination.While considering the charge under Section 201 of I.P.C, it ismandatory for the prosecution to prove that the accusedactively participated in the matter of disappearance of evidenceand with an intention to screen the offender.  To convict theaccused for the offence punishable under Section 201 of I.P.C,it is necessary that all the ingredients are satisfied pointingout at the guilt of the accused and a mere suspicion is notsufficient.  Accused can never be convicted on the basis of16probabilities or on assumptions and presumptions.  In thelight of the above, it has to be examined whether the appellanthas committed the offence punishable under Section 201 ofI.P.C.20.The appellant is before this Court questioning the convictionimposed by the trial court which was confirmed by the HighCourt on one hand and on the other hand, she is aggrieved bythe order passed by the High Court in enhancing the sentencefrom 2 years to 7 years.    Having gone through the judgmentpassed by the trial court and specifically the reasoning givenby the Court for convicting the appellant/accused No.2,admittedly, accused No.2/appellant was charged for theoffences punishable under Sections 302, 120(B) and 201 ofI.P.C. read with Section 511 of I.P.C  The trial court hasacquitted accused No.2/appellant on all other charges butconvicted for the offence under Section 201 of I.P.C Here, forbetter appreciation of the issues involved in the case, I wouldlike to extract the relevant portion of the findings of the trialcourt, which read as under: “I am unable to hold accused No.2guilty for the offence of murder for the actdone by accused No.1 of committing themurder of the deceased.  It is true that hersilence may be due to fear and one can17understand that said fear in the mind of thelady who has seen her husband beingattacked with knives as seen in helplesscondition and she had a mind to saveherself and her children from furtherattack…… So, I am aware of the fact thatthis silence on the part of accused No.2 maysuggest that accused No.2 is also one of theconspirators…….……she has declared her desire to have adivorce.  So, she has no mind to murder herhusband at any point of time.  So, these twocircumstances lead me to not to holdaccused No.2 as one of the conspirators ofthe conspiracy to commit the murder of thedeceased.  ….subsequent conduct of accused aresufficient to prove her guilt. Accused No.2can be held for abetting the offence ofdisappearing the evidence of offencecommitted by them.  ….From the above discussed evidence, I amof the view that prosecution has provedbeyond all reasonable doubts that accusedNo.1 had committed the murder of thedeceased by inflicting the multiple injuriesto the deceased with the help of abscondingaccused.   I am of the opinion that accusedNo.2 is not held guilty for the offence ofmurder of the deceased.  Regarding thedisappearance of the evidence of offence,though there is no evidence of theparticipation of accused No.2 indisappearing the said proof of offence ofmurder, but by remaining silence, she hasindirectly abetted the offence ofdisappearance of evidence of murder.  Ireply point is held guilty for the offence ofmurder and accused No.2 is held not guiltyfor the said offence of murder.          I reply18point No.4 that both the accused are heldguilty for the offence of sec. 201 IPC.”21.Looking at the entire findings of the trial court, it is crystalclear that the court has given a clean chit to the appellantsaying that she is in no way involved in commission of thecrime.  At para 73 of the judgment, at one breath a categoricalfinding was given by the trial court that there is no evidence ofparticipation of accused No.2 in disappearing the said proof ofoffence of murder, but by remaining silent, she has indirectlyabetted the offence. At another breath the trial court hasobserved that either out of fear or for the best reason known toher, she remained silent and abetted or aided the offencepunishable under section 201 of IPC. 22.Admittedly, the whole case of the prosecution is based uponcircumstantial evidence except for the evidence of sole eyewitness Ami.  The eye witness, in her statement, has clearlystated that the appellant was crying and she was pleadingaccused No.1 not to kill her husband.  She further stated inthe cross-examination that accused No.1 told hermother/appellant to keep mum and not to make any troubleas accused No1 and the absconding accused will come back.Accused No.2/appellant reiterated the same in her statement19under Section 313 of CrPC.   23.The relevant portion of the evidence of Ami, eye witness, isextracted below:“I jumped from the cot towards my mummy.I went there immediately after getting up.My mummy immediately took me to thedrawing room.  It is not true that my motherwas standing there silently with Pooja, shewas saying “don’t beat…..don’t beat…”“Next day morning, when I got up at 7:30 o’clock morning, Kishorbhai, one more personcame out from the bedroom, and Kishorbhaitried to adore me but I rejected his gesture.At that time, the person with him did nottell anything.  Kishorbhai told my mummyto keep mum and not to make any troubleas they were coming back.”24.The relevant portion of the statement of accusedNo.2/appellant under Section 313 CrPC is as under: “It is true.  While going Kishore hadthreatened me that the corpse is lying inyour house, we are going the entireresponsibility will fall on you, therefore tillthe time we come back till then remainquiet, do not do anything.”25.I am unable to accept the finding of the courts below, thatby remaining silent, accused No.2/appellant has indirectlyabetted the offence of causing disappearance of proof ofmurder.  Remaining silent and absconding with accused No.1and moving from one place to another place will not supply the20evidence or fill the gap which is necessary to prove theingredients under Section 201 of I.P.C.   The trial court, havingspecifically observed that accused No.2 has nothing to do withthe disappearance of evidence and without recording anyfinding with regard to motive, has convicted her under Section201 of I.P.C. In fact the reasoning given by the trial courtmakes it clear that court could not give any reasoning withregard to motive which is the crucial aspect to fasten theliability on the accused. With regard to the factum ofremaining silent the reason is forthcoming from the evidenceof eye witness and the 313 statement of appellant which wasnot taken into consideration. In the present case theprosecution has miserably failed to prove the same.26.The Five Judge Bench of this Court in Raghav PrapannaTripathi v. State of U.P.,  AIR 1963 SC 74, has dealt withSection 201 of I.P.C. and the ingredients to be satisfied forconvicting an accused under Section 201 of I.P.C.  Therelevant portion of the same is as under:“Thus these two appellants have beenrightly convicted and their appeals aredismissed. In regard to the case of RamanujDas and Jai Devi the finding of the HighCourt is that the dead bodies of Kamla andher son Madbusudan were not found in thehouse of Ramanuj Das and they must have21therefore been removed ; that an attemptwas made to wash out the bloodstains frominside the rooms and also outside on theroof ; that the dead bodies could not havebeen removed without the knowledge andactive cooperation of Ramanuj Das and JaiDevi and further that both Ramanuj Dasand Jai Devi absconded. On this basis theconviction of these appellants was held bythe High Court to be justified. It is true thatthe murder was committed in the house ofRamanuj Das and that there is the evidenceto show that the blood inside and outsidethe living rooms was washed and anattempt was made to obliterate any sign of itthough it was unsuccessful. It also may bethat both Ramanuj Das and Jai Devi hadknowledge of the removal of the dead-bodiesbut what s. 201 requires is causing anyevidence of the commission of the offence todisappear or for giving any informationrespecting the offence which a personknows or believes to be false. In this casethere is no evidence of either. It is notshown that these two appellants caused anyevidence to disappear. There may be a verystrong suspicion that if from the house deadbodies are removed or blood was washed,person placed in the position of theappellants must have had a hand in it butstill that remains a suspicion even a strongsuspicion at that. It is true that they wereabsconding but merely absconding will notfill the gap or supply the evidence which isnecessary to prove the ingredients of section201 of the Indian Penal Code. In our opinionthe case against Ramanuj Das and Jai Devihas not been made out. There appeals musttherefore be allowed and they be set atliberty.” 27.In view of the above discussion, I am of the considered22opinion that the trial court went wrong in convicting theappellant without there being any finding with regard to themens rea of the accused as settled by this Court in severalcases.  Particularly, when a specific finding is recorded by thetrial court that there is no evidence for convicting the accusedunder Section 201 of I.P.C., it ought not to have convicted herfor the same more on assumptions and presumptions.  Whenthe appellant and accused no 1 assailed the order of trial courtbefore the High Court, the High Court has issued notice underSection 377 of the Criminal Procedure Code for suo motuenhancement of sentence to the appellant. The High Court hasenhanced the sentence to 7 years by dismissing the appealpreferred by the accused.  The reasoning given by the HighCourt is extracted below: “Evidence shows that accused travelled bypublic transport i.e. AMTC bus.  Therefore,in absence of accused No.1 for nearly 6-7hours in the house, at least she could haveinformed somebody.  Moreover, when shewas moving in various places, she hadample opportunities.  However, she did notutilize any of these opportunities.  All theseclearly involve her actively in the crime inquestion along with accused No.1.”….Thereafter also, she remained silent,went away with the accused No.1, stayed atdifferent public places on fictitious namesas husband and wife and absconded for a23period of one and half months.  From theaforesaid, her active involvement in thecrime in question indicating conspiracy hasbeen established by the prosecution.  Courtbelow dealt with the same howeverdisbelieved the theory of conspiracy.  Eventhough we are not satisfied with the saidreasonings given by the Court below, we arenot dealing with the same as no appeal hasbeen filed in that respect by the State.” ….It may be noted that accused No.2 wasacquitted by the court below for the chargeunder Sec. 302 IPC and conviction onlyunder Sec. 201 IPC.  As stated earlier, sinceState did not prefer any appeal against theacquittal for the charge under Sec. 302 IPC,we are not in a position to deal with the saidaspect.….Though she was knowing fully well thather husband was brutally murdered by theoriginal accused No.1, she did not informanyone nor filed the complaint.  The trialcourt was therefore justified in convictingthe accused No.2 for commission of offencepunishable under Sec. 201 IPC and herconviction is hereby upheld.….It is required to be noted that trial courthas improperly evaluated the evidence onrecord overlooking not only the object ofSec. 201 but also shocking facts of the caseleading to murder of deceased by accusedNo.1 and commission of offence under Sec.201 by accused No.2 and has imposedsentence which is improper and is amiscarriage of justice.  trial court oughthave borne in mind that Sec. 201 is joinedwith Sec. 302 of IPC and should haveawarded sentence accordingly.” 28.There is no dispute with regard to the fact that let24punishment fit the crime is one of the main objects ofsentencing policy.  The sentence should be adequatelyreasonable, proportionate to the nature of culpability is a keyfactor.   Sentencing is a matter of discretion of the trial courtand the appellate Court in the normal circumstances will notinterfere with such discretion.  But will interfere only when itfinds that there is miscarriage of justice, flagrant abuse of lawand where the discretion is not properly exercised by thesentencing Court.  The High Court first and foremost has todeal with the conviction appeal on its own merits and once itcomes to the conclusion that the trial court was right inimposing conviction, then it has to delve into the aspectwhether the punishment was proportionate or not.  From thefinding of the High Court that the appellant is involved activelyin committing the murder and the findings with regard toconspiracy and particularly, in observing that as the State hasnot preferred any appeal against acquittal it is not in aposition to deal with the same, it appears to us that the HighCourt in a prejudiced manner has enhanced the sentence.looking at the entire reasoning of the High Court, I find thatthe findings of the trial court were not disturbed and infactwere upheld by the High Court but it only differed with the25sentencing aspect.   The reasoning given by the appellate courtfor enhancing the sentence and dismissing the appeals can bea valid and correct reasoning for convicting the accused undersection 302 or 120b of I.P.C when the state has preferred anappeal against acquittal. But basing on such reasoning theappellant cannot be convicted under section 201 of I.P.C. Theingredients to attract the offence under section 201 of I.P.C arealtogether different. Her mere silence cannot give rise to apresumption that she has committed the offence.  In theinstant case both the trial court and the appellate Court, failedto appreciate the case in its proper perspective, relied more onassumptions and based on presumptions has convicted theappellant, which is contrary to the settled law.  29.In view of the foregoing discussion, I hold both issues infavor of accused No.2/appellant and against respondent State.30.Generally, in an appeal against conviction, whereconcurrent findings were recorded by both the Courts below,this Court will not interfere.  But, this is a case where both theCourts below, without satisfying the ingredients of Section 201of I.P.C., have convicted accused No.2/appellant more onsurmises and conjectures, which invited interference of thiscourt.2631.Pondering over the ongoing discussion, I hold thatprosecution has not been able to prove the guilt of theappellant/accused No.2 for the offence punishable underSection 201 of I.P.C beyond reasonable doubt.   It is broughtto the notice of this Court that the appellant/accused No.2 hasalready undergone the sentence imposed by the trial court.  Iset aside the order passed by the High Court in CriminalAppeal No. 833 of 1997 and Crl.M.A. No. 1121 of 1998 inCrl.A. No. 833 of 1997 and accordingly the appeal standsallowed.   .................................J(N. V. RAMANA)NEW DELHIDATED:  July 17, 201727                                                                  REPORTABLEIN THE SUPREME COURT OF INDIACRIMINAL APPELLATE JURISDICTIONCRIMINAL APPEAL NO. 40 OF 2007Padmini Mahendrabhai Gadda                    Appellant                         VersusState of Gujarat                               RespondentJ U D G M E N TPrafulla C. Pant, J.I have benefit of reading draft judgment dictated by My LordHon’ble Mr. Justice N.V. Ramana whereby His Lordship has heldthat the charge of offence punishable under Section 201 ofIndian Penal Code (IPC) against the appellant stood notproved, and conviction recorded against her is liable to beset aside.  With great respect, I humbly differ with the saidview for the reasons recorded hereunder: -2. Briefly stated the prosecution story is that the appellantgot married to Mahendrabhai (deceased) in the year 1981 andtwo daughters born from the wedlock.  The family used to livein Shakuntal Apartments, Ahmedabad.  The deceased was running28a Health Club one in Chitranjan Society, Naranpura andanother in Shakuntal Apartments.  PW-3 Pradip Kamdar(complainant) is the brother of the appellant.  Earlier theappellant along with her family used to live with thecomplainant, before they shifted to Shakuntal Apartments.Kishore Thakker (A-1) was employee in the Health Club run bythe deceased.  He developed illicit relationship with theappellant.  When appellant told the complainant that shewanted to sever her relations with the deceased, thecomplainant and his wife advised her not to take such step asshe had two children from the wedlock.  On this she respondedby saying that Kishorebhai (A-1) also looks after them well.Thereafter, when Mahendrabhai was advised by the complainantnot to allow A-1 in his house, he removed A-1 from service.On 11.12.1994, the appellant along with her husband(deceased) and children came to the house of the complainantfor lunch and returned at about 2.30 p.m. The daughters wereaged eight years and four years. The two families used tokeep in touch regularly on phone.  In the morning of12.12.1994, wife of the complainant tried to enquire aboutthe health of younger daughter of the appellant.  But thephone was continuously engaged.  At about 11.30 a.m. when sherang the appellant and enquired about her husband (deceased),she (appellant) told her that he had gone to Naranpura HealthClub.  Thereafter, the complainant (PW-3) gave a ring at 3.00p.m.  The appellant informed that Mahendrabhai (deceased) hadgone to Bombay.  This made the complainant suspicious as29Mahendrabhai, whenever went out from Ahmedabad, used toinform him.  At about 4.00 p.m., the complainant along withhis wife came to the house of his sister (appellant) and rangthe door bell.  When they entered in the house, they saw thatyounger daughter Pooja was lying near the dining table infever.  When the complainant asked the appellant as to thereason for Mahendrabhai to go to Bombay, the appellant gaveexplanation that Mahendrabhai had asked her not to disclosehis visit to Bombay.  Since it was 4.00 p.m. and Ami (PW-34),elder daughter of the appellant was to be brought back fromthe school, PW-3 asked the appellant to go and bring thechild.  Meanwhile, PW-3 found that bath room of the appellantwas locked from inside.  Suddenly the door of the bath roomwas opened from inside and Kishore (A-1), who had illicitrelations with the appellant, came out, and tried to runaway.  His shirt was not buttoned. When he was attempted tobe stopped, his shirt dropped and he ran away with pantsonly.  Thereafter, the complainant entered inside thebathroom and saw the dead body of Mahendrabhai was in thepool of blood.  The appellant, who was sent to bring Ami(PW-34) did not return.  As such, the complainant leaving hiswife in the house of the appellant, went to the school andbrought Ami.  3. Thereafter, the complainant went to Ellisbridge PoliceStation, then to Navrangpura Police Station, and gave theFirst Information Report (Exh. 22), which was registered asICR No. 759 of 1994.  The police came to the house of the30appellant, took the dead body into their possession, preparedthe inquest report and the dead body was sent for post mortemexamination.   PW-1 Dr. Dilip Manubhai Desai conducted postmortem examination and prepared the autopsy report(Exh.-17/18).  On completion of investigation, charge sheetwas filed against Kishorebhai (A-1) and the appellant (A-2)for their trial in respect of offences punishable underSections 302, 120B and 201 IPC.  The trial court, onconclusion of trial, convicted A-1 under Sections 302 and 201IPC. However, the appellant (A-2) was acquitted of the chargeunder Section 302 IPC, but convicted under Section 201 IPC.A-1 was awarded imprisonment for life and fine of Rs.5000/-under Section 302 IPC, and each one of A-1 and A-2 wassentenced to rigorous imprisonment for two years and to payfine of Rs.5000/-, in default of which to undergo furtherthree months rigorous imprisonment under Section 201 IPC.4. The two convicts filed separate appeals (Criminal AppealNo. 831 of 1997 by A-1 and Criminal Appeal No. 833 of 1997 byA-2) before the High Court.  The High Court issued notice forenhancement of sentence as against A-2 only in respect ofoffence punishable under Section 201 IPC.  It is relevant tomention here that the State did not file any appeal againstacquittal of A-2 in respect of offence punishable underSection 302 IPC.  After hearing the parties, the appeals ofA-1 as well as of A-2 were dismissed by the High Court, andthe sentence of A-2 was enhanced to rigorous imprisonment forseven years and to pay fine of Rs.7,000/-, in default she was31directed to undergo rigorous imprisonment for two years.Aggrieved by said order dated 04.10.2006 passed by the HighCourt, A-2 is before us in this appeal.5. Contentions of learned counsel for the parties are alreadymentioned in the judgment by my Lord Hon’ble Mr. Justice N.V.Ramana and need not be repeated.6. Perusal of the record shows that in all 48 witnesses wereexamined by the prosecution.  7. PW-1 Dr. Dilip Manubhai Desai, who conducted post mortemexamination on the dead body of the deceased on 13.12.1994,has proved homicidal death of the deceased (Mahendrabhai).He has deposed that there were fifty ante mortem externalinjuries on the dead body out of which external injury Nos.13, 14, 16, 18, 20, 21, 28 and 30 were sufficient to causedeath in the ordinary course of nature.  He further told thatthe injuries were possibly caused by knife.  The cause ofdeath reported by him was shock and hemorrhage as a result ofstab injuries sustained by the deceased.  He has proved hisreports Exh. 17/18.8. PW-3 Pradip Kamdar (complainant), who is brother of theappellant, has narrated the entire prosecution story, asmentioned above.  For brevity, the same is not beingrepeated.9. PW-34 Ami is the elder (minor) daughter of the appellant.She has stated that her father used to run Health Clubs inNaranpura and Shakuntal Apartments.  Kishore (A-1) used towork in the Health Club, who was removed from service before32Diwali.  She further told that in the fateful night (11th and12th December, 1994) she woke up when the bed was pushed.She saw two persons – Kishore and one lean person beating herfather.  (The said lean person is still reported to beabsconding) She further told that her mother was standingnear the door with Pooja (younger daughter of the appellant).She further stated that when she started crying, she wastaken by her mother to drawing room.  She further told thatthereafter she did not know as to what had happened, and whenin the morning she got up, she saw Kishore (A-1) and hisassociate leaving the room.  She further stated that nextmorning her mother told her to take bath in the bathroomattached to another room.  She stated that she was studyingin Vandana School.  She has also corroborated the fact in thecross-examination that her maternal uncle (complainant) cameto receive her in the school.  10. The statement of PW-3 Pradip Kamdar gets corroborated notonly from the statement of PW-34 Ami, but also from thestatement of PW-23 Minaben Deepakbhai Desai.  This witnesshas stated that on 12.12.1994 when she was bringing her sonfrom Vandana School to her home, she met the appellant nearVandana School.  She also saw that Kishore (A-1) came in anautorikshaw.  There was no clothe on his upper part of thebody and he was only in pants.  He asked her (PW-23) to callPadmini (appellant).  She called her and Padmini went inautorikshaw with Kishore (A-1).3311. PW-7 Yogesh Pannalal has deposed that on 12.12.1994between 4.00 and 5.00 p.m. a man barefooted and without anyclothe on the upper part of the body came in his shop with alady.  They asked for a T-shirt and purchased a jersey.  Thelady paid for it.  This witness has identified A-1 as the manwho came barefoot and without clothe on the upper part of thebody and A-2 as the lady who paid the money.  12. PW-6 Navabahamad Rafiyuddin Shaikh further corroboratesthe story by deposing that he was running a shoe shop and on12.12.1994 at about 6.00 p.m. a person barefoot came to hisshop along with a lady and purchased chappal for Rs.45/- andthe lady paid the money.13. Subsequent to the incident as to how A-1 and A-2absconded and lived together that too has come on record inthe testimony of PW-19, PW-28, PW-32, PW-39 and PW-40.  PW-19Kanubhai Somabhai Valand has stated that he is Manager ofNayisamaj Dharamshala and he told that A-1 and A-2 lived inthe Dharamshala (with fictitious names).  PW-28 IbrahimbhaiNasirbhai who is owner of Dreamland Hotel, PW-32 SuryakantChamanlal, PW-39 Ramaji Rupsing, Manager of DadavadiGurumandir Dharamshala, PW-40 Jagdishkumar Amrutlal Soni,Manager of Shree Parshwanath Bhaktivihar Jain TrustDharamshala, have also given the similar statements regardingabove fact for different dates as to how A-1 and A-2 lived inDharamshalas and Hotel with fictitious names.  Theyidentified both the accused in the court.  The two accused34lived together in the above manner from 12.12.1994 till23.01.1995, before they were arrested.14. It has also come on record in the evidence of policewitnesses that after commission of murder the bed room wasfound cleaned and body of the deceased was found concealed inthe bathroom in an attempt to cut and dispose of the same inpieces for which needle, jute thread, plastic bags, ironblade, etc. were collected from the house.  It has also comeon record that around noon A-1 was allowed by A-2 to go outto get his hand bandaged.  In this connection PW-4 Dr.Rajendra Hiralal Shah has adduced the evidence relating tobandaging and proved the relevant entries.  15. In the light of the circumstances, from the evidence onrecord, in my opinion it is clearly established that bymaking false statement by appellant to her own brother PW-3(complainant) as to whereabouts of the deceased, and notallowing PW-34 Ami to use the bathroom attached to thebedroom (where dead body was concealed), the appellant hasgiven false information to screen offender (A-1).  As such,she was rightly held guilty by the courts below in respect ofcharge of offence punishable under Section 201 IPC.  Someobservations of the trial court against its own finding as toguilt of A-2 are not relevant for the decision of this court,particularly when judgment of the trial court stands mergedin the judgment of the High Court which is impugned before usand, as such, the appellant cannot be acquitted from thecharge of offence punishable under Section 201 IPC.  I agree35with the principle of law laid down by this Court, asreferred to by my Lord Hon’ble Mr. Justice N.V. Ramana, butfinally in each case the facts and evidence of thatparticular case are to be seen to come to the conclusion asto whether the ingredients of a particular offence have beenmade out or not.16. For the reasons, as discussed above, I find no error oflaw in the orders passed by the courts below in concludingthat the appellant Padmini is guilty of the charge of offencepunishable under Section 201 IPC.  However, as to thesentence, the High Court has awarded the maximum sentence toA-2 (appellant).  Learned counsel for the appellant pointedout from the record that the appellant has already servedmore than two years’ imprisonment during the period oftrial/appeal.  She is sixty years old, and twenty three yearshave passed from the date of incident.  In thesecircumstances, I am of the view that since the sentence underSection 201 IPC awarded to A-1 has attained the finality inrespect of the same charge, as such, it would not bejustified to award A-2 the enhanced sentence as directed bythe High Court, particularly considering her role in respectof said charge, compared to that of A-1.17. Therefore, the appeal is partly allowed.  The convictionrecorded by the courts below against the appellant in respectof offence punishable under Section 201 IPC is upheld but thesentence awarded by the High Court is reduced to two years']\""
      ]
     },
     "execution_count": 32,
     "metadata": {},
     "output_type": "execute_result"
    }
   ],
   "source": [
    "t.iloc[3387,1]"
   ]
  },
  {
   "cell_type": "code",
   "execution_count": null,
   "metadata": {},
   "outputs": [],
   "source": [
    "#cont=(pd.read_csv(path/\"consti.csv\"))\n",
    "#cont.columns = [\"Facts\"]\n",
    "#cont[\"label\"]=\"Allowed\"\n",
    "#cont=cont[[\"label\",\"Facts\"]]\n",
    "#cont.tail()\n",
    "\n",
    "#IPC=(pd.read_csv(path/\"IPC.csv\"))\n",
    "#IPC = IPC.insert(0,'label','Allowed', True)\n",
    "#IPC.columns = [\"Facts\"]\n",
    "#IPC[\"label\"]=\"Allowed\"\n",
    "#IPC=IPC[[\"label\",\"Facts\"]]\n",
    "IPC.tail()"
   ]
  },
  {
   "cell_type": "code",
   "execution_count": null,
   "metadata": {},
   "outputs": [],
   "source": [
    "t=t.append(cont,ignore_index=True)"
   ]
  },
  {
   "cell_type": "code",
   "execution_count": null,
   "metadata": {},
   "outputs": [],
   "source": [
    "#len(pd.read_csv(path/'011018_311218output_judgement_label.csv'))\n",
    "fout=open(path/\"OneYear011018_301019_judgement_label.csv\",\"a\")\n",
    "# first file:\n",
    "for line in open(path/\"010719_301019output_judgement_label.csv\"):\n",
    "    fout.write(line)\n",
    "# now the rest:    \n",
    "for num in range(2,201):\n",
    "    f = open(path/(next((*'output_judgement_label.csv'))))\n",
    "    f.next() # skip the header\n",
    "    for line in f:\n",
    "         fout.write(line)\n",
    "    f.close() # not really needed\n",
    "fout.close()"
   ]
  },
  {
   "cell_type": "markdown",
   "metadata": {},
   "source": [
    "# It only contains one csv file, let's have a look at it."
   ]
  },
  {
   "cell_type": "code",
   "execution_count": 5,
   "metadata": {},
   "outputs": [
    {
     "data": {
      "text/html": [
       "<div>\n",
       "<style scoped>\n",
       "    .dataframe tbody tr th:only-of-type {\n",
       "        vertical-align: middle;\n",
       "    }\n",
       "\n",
       "    .dataframe tbody tr th {\n",
       "        vertical-align: top;\n",
       "    }\n",
       "\n",
       "    .dataframe thead th {\n",
       "        text-align: right;\n",
       "    }\n",
       "</style>\n",
       "<table border=\"1\" class=\"dataframe\">\n",
       "  <thead>\n",
       "    <tr style=\"text-align: right;\">\n",
       "      <th></th>\n",
       "      <th>label</th>\n",
       "      <th>Facts</th>\n",
       "    </tr>\n",
       "  </thead>\n",
       "  <tbody>\n",
       "    <tr>\n",
       "      <th>0</th>\n",
       "      <td>Overruled</td>\n",
       "      <td>['Page 1Non-ReportableIN THE SUPREME COURT OF ...</td>\n",
       "    </tr>\n",
       "    <tr>\n",
       "      <th>1</th>\n",
       "      <td>Overruled</td>\n",
       "      <td>['']</td>\n",
       "    </tr>\n",
       "    <tr>\n",
       "      <th>2</th>\n",
       "      <td>Overruled</td>\n",
       "      <td>['Page 1Non-ReportableIN THE SUPREME COURT OF ...</td>\n",
       "    </tr>\n",
       "    <tr>\n",
       "      <th>3</th>\n",
       "      <td>Overruled</td>\n",
       "      <td>['']</td>\n",
       "    </tr>\n",
       "    <tr>\n",
       "      <th>4</th>\n",
       "      <td>Overruled</td>\n",
       "      <td>['']</td>\n",
       "    </tr>\n",
       "  </tbody>\n",
       "</table>\n",
       "</div>"
      ],
      "text/plain": [
       "       label                                              Facts\n",
       "0  Overruled  ['Page 1Non-ReportableIN THE SUPREME COURT OF ...\n",
       "1  Overruled                                               ['']\n",
       "2  Overruled  ['Page 1Non-ReportableIN THE SUPREME COURT OF ...\n",
       "3  Overruled                                               ['']\n",
       "4  Overruled                                               ['']"
      ]
     },
     "execution_count": 5,
     "metadata": {},
     "output_type": "execute_result"
    }
   ],
   "source": [
    "df = pd.read_csv(path/'FourYears_judgement_label.csv')\n",
    "df = df[['label','Facts']]\n",
    "df.head()"
   ]
  },
  {
   "cell_type": "code",
   "execution_count": 6,
   "metadata": {},
   "outputs": [],
   "source": [
    "#df=np.where(df.applymap(lambda x: x == \"['']\"))\n",
    "df = df.drop(df[df.Facts == \"['']\" ].index)"
   ]
  },
  {
   "cell_type": "code",
   "execution_count": 7,
   "metadata": {},
   "outputs": [
    {
     "data": {
      "text/plain": [
       "label    3679\n",
       "Facts    3679\n",
       "dtype: int64"
      ]
     },
     "execution_count": 7,
     "metadata": {},
     "output_type": "execute_result"
    }
   ],
   "source": [
    "df.count()"
   ]
  },
  {
   "cell_type": "markdown",
   "metadata": {},
   "source": [
    "It contains one line per review, with the label ('negative' or 'positive'), the text and a flag to determine if it should be part of the validation set or the training set. If we ignore this flag, we can create a DataBunch containing this data in one line of code:"
   ]
  },
  {
   "cell_type": "code",
   "execution_count": null,
   "metadata": {},
   "outputs": [],
   "source": [
    "data_lm = TextDataBunch.from_csv(path, 'OneYear011018_301019_judgement_label.csv',0.2)"
   ]
  },
  {
   "cell_type": "markdown",
   "metadata": {},
   "source": [
    "By executing this line a process was launched that took a bit of time. Let's dig a bit into it. Images could be fed (almost) directly into a model because they're just a big array of pixel values that are floats between 0 and 1. A text is composed of words, and we can't apply mathematical functions to them directly. We first have to convert them to numbers. This is done in two differents steps: tokenization and numericalization. A `TextDataBunch` does all of that behind the scenes for you.\n",
    "\n",
    "Before we delve into the explanations, let's take the time to save the things that were calculated."
   ]
  },
  {
   "cell_type": "code",
   "execution_count": null,
   "metadata": {},
   "outputs": [],
   "source": [
    "data_lm.save()"
   ]
  },
  {
   "cell_type": "code",
   "execution_count": null,
   "metadata": {},
   "outputs": [],
   "source": [
    "help(TextDataBunch)"
   ]
  },
  {
   "cell_type": "markdown",
   "metadata": {},
   "source": [
    "Next time we launch this notebook, we can skip the cell above that took a bit of time (and that will take a lot more when you get to the full dataset) and load those results like this:"
   ]
  },
  {
   "cell_type": "code",
   "execution_count": null,
   "metadata": {},
   "outputs": [],
   "source": [
    "data_lm.show_batch(ds_type=DatasetType.Valid)"
   ]
  },
  {
   "cell_type": "code",
   "execution_count": null,
   "metadata": {},
   "outputs": [],
   "source": [
    "type(data_lm)"
   ]
  },
  {
   "cell_type": "code",
   "execution_count": null,
   "metadata": {},
   "outputs": [],
   "source": [
    "data = load_data(path)"
   ]
  },
  {
   "cell_type": "markdown",
   "metadata": {},
   "source": [
    "### Tokenization"
   ]
  },
  {
   "cell_type": "markdown",
   "metadata": {},
   "source": [
    "The first step of processing we make the texts go through is to split the raw sentences into words, or more exactly tokens. The easiest way to do this would be to split the string on spaces, but we can be smarter:\n",
    "\n",
    "- we need to take care of punctuation\n",
    "- some words are contractions of two different words, like isn't or don't\n",
    "- we may need to clean some parts of our texts, if there's HTML code for instance\n",
    "\n",
    "To see what the tokenizer had done behind the scenes, let's have a look at a few texts in a batch."
   ]
  },
  {
   "cell_type": "code",
   "execution_count": null,
   "metadata": {},
   "outputs": [],
   "source": [
    "#data = TextClasDataBunch.from_csv(path, '010719_301019output_judgement_label.csv')\n",
    "data_lm.show_batch()\n",
    "#len(data_lm)"
   ]
  },
  {
   "cell_type": "markdown",
   "metadata": {},
   "source": [
    "The texts are truncated at 100 tokens for more readability. We can see that it did more than just split on space and punctuation symbols: \n",
    "- the \"'s\" are grouped together in one token\n",
    "- the contractions are separated like this: \"did\", \"n't\"\n",
    "- content has been cleaned for any HTML symbol and lower cased\n",
    "- there are several special tokens (all those that begin by xx), to replace unknown tokens (see below) or to introduce different text fields (here we only have one)."
   ]
  },
  {
   "cell_type": "markdown",
   "metadata": {},
   "source": [
    "### Numericalization"
   ]
  },
  {
   "cell_type": "markdown",
   "metadata": {},
   "source": [
    "Once we have extracted tokens from our texts, we convert to integers by creating a list of all the words used. We only keep the ones that appear at least twice with a maximum vocabulary size of 60,000 (by default) and replace the ones that don't make the cut by the unknown token `UNK`.\n",
    "\n",
    "The correspondance from ids to tokens is stored in the `vocab` attribute of our datasets, in a dictionary called `itos` (for int to string)."
   ]
  },
  {
   "cell_type": "code",
   "execution_count": null,
   "metadata": {},
   "outputs": [],
   "source": [
    "data_lm.vocab.itos[:10]"
   ]
  },
  {
   "cell_type": "markdown",
   "metadata": {},
   "source": [
    "And if we look at what a what's in our datasets, we'll see the tokenized text as a representation:"
   ]
  },
  {
   "cell_type": "code",
   "execution_count": null,
   "metadata": {},
   "outputs": [],
   "source": [
    "data_lm.train_ds[0][0]"
   ]
  },
  {
   "cell_type": "markdown",
   "metadata": {},
   "source": [
    "But the underlying data is all numbers"
   ]
  },
  {
   "cell_type": "code",
   "execution_count": null,
   "metadata": {},
   "outputs": [],
   "source": [
    "data_lm.train_ds[0][0].data[:10]"
   ]
  },
  {
   "cell_type": "markdown",
   "metadata": {},
   "source": [
    "### With the data block API"
   ]
  },
  {
   "cell_type": "markdown",
   "metadata": {},
   "source": [
    "We can use the data block API with NLP and have a lot more flexibility than what the default factory methods offer. In the previous example for instance, the data was randomly split between train and validation instead of reading the third column of the csv.\n",
    "\n",
    "With the data block API though, we have to manually call the tokenize and numericalize steps. This allows more flexibility, and if you're not using the defaults from fastai, the various arguments to pass will appear in the step they're revelant, so it'll be more readable."
   ]
  },
  {
   "cell_type": "code",
   "execution_count": null,
   "metadata": {},
   "outputs": [],
   "source": [
    "data = (TextList.from_csv(path, 'texts.csv', cols='text')\n",
    "                .split_from_df(col=2)\n",
    "                .label_from_df(cols=0)\n",
    "                .databunch())"
   ]
  },
  {
   "cell_type": "markdown",
   "metadata": {},
   "source": [
    "## Language model"
   ]
  },
  {
   "cell_type": "markdown",
   "metadata": {},
   "source": [
    "Note that language models can use a lot of GPU, so you may need to decrease batchsize here."
   ]
  },
  {
   "cell_type": "code",
   "execution_count": 8,
   "metadata": {},
   "outputs": [],
   "source": [
    "bs=16"
   ]
  },
  {
   "cell_type": "markdown",
   "metadata": {},
   "source": [
    "Now let's grab the full dataset for what follows."
   ]
  },
  {
   "cell_type": "code",
   "execution_count": null,
   "metadata": {},
   "outputs": [],
   "source": [
    "pathtest = untar_data(URLs.WT103)\n",
    "path.ls()"
   ]
  },
  {
   "cell_type": "code",
   "execution_count": null,
   "metadata": {},
   "outputs": [],
   "source": [
    "#(path/'train').ls()\n",
    "type(URLs)"
   ]
  },
  {
   "cell_type": "markdown",
   "metadata": {},
   "source": [
    "The reviews are in a training and test set following an imagenet structure. The only difference is that there is an `unsup` folder on top of `train` and `test` that contains the unlabelled data.\n",
    "\n",
    "We're not going to train a model that classifies the reviews from scratch. Like in computer vision, we'll use a model pretrained on a bigger dataset (a cleaned subset of wikipedia called [wikitext-103](https://einstein.ai/research/blog/the-wikitext-long-term-dependency-language-modeling-dataset)). That model has been trained to guess what the next word is, its input being all the previous words. It has a recurrent structure and a hidden state that is updated each time it sees a new word. This hidden state thus contains information about the sentence up to that point.\n",
    "\n",
    "We are going to use that 'knowledge' of the English language to build our classifier, but first, like for computer vision, we need to fine-tune the pretrained model to our particular dataset. Because the English of the reviews left by people on IMDB isn't the same as the English of wikipedia, we'll need to adjust the parameters of our model by a little bit. Plus there might be some words that would be extremely common in the reviews dataset but would be barely present in wikipedia, and therefore might not be part of the vocabulary the model was trained on."
   ]
  },
  {
   "cell_type": "markdown",
   "metadata": {},
   "source": [
    "This is where the unlabelled data is going to be useful to us, as we can use it to fine-tune our model. Let's create our data object with the data block API (next line takes a few minutes)."
   ]
  },
  {
   "cell_type": "code",
   "execution_count": null,
   "metadata": {},
   "outputs": [],
   "source": [
    "data_lm = (TextList.from_folder(path)\n",
    "           #Inputs: all the text files in path\n",
    "            .filter_by_folder(include=['train', 'test', 'unsup']) \n",
    "           #We may have other temp folders that contain text files so we only keep what's in train and test\n",
    "            .split_by_rand_pct(0.1)\n",
    "           #We randomly split and keep 10% (10,000 reviews) for validation\n",
    "            .label_for_lm()           \n",
    "           #We want to do a language model so we label accordingly\n",
    "            .databunch(bs=bs))\n",
    "data_lm.save('data_lm.pkl')"
   ]
  },
  {
   "cell_type": "code",
   "execution_count": 9,
   "metadata": {},
   "outputs": [],
   "source": [
    "data_lmT = (TextList.from_df(df = df, cols=1) \n",
    "             .split_by_rand_pct(0.1) \n",
    "             .label_for_lm()\n",
    "             .databunch(bs=bs))"
   ]
  },
  {
   "cell_type": "markdown",
   "metadata": {},
   "source": [
    "We have to use a special kind of `TextDataBunch` for the language model, that ignores the labels (that's why we put 0 everywhere), will shuffle the texts at each epoch before concatenating them all together (only for training, we don't shuffle for the validation set) and will send batches that read that text in order with targets that are the next word in the sentence.\n",
    "\n",
    "The line before being a bit long, we want to load quickly the final ids by using the following cell."
   ]
  },
  {
   "cell_type": "code",
   "execution_count": 14,
   "metadata": {},
   "outputs": [],
   "source": [
    "data_lmT.save(path/'data_lmT_LMC.pkl')"
   ]
  },
  {
   "cell_type": "code",
   "execution_count": null,
   "metadata": {},
   "outputs": [],
   "source": [
    "help(TextList)"
   ]
  },
  {
   "cell_type": "code",
   "execution_count": 6,
   "metadata": {},
   "outputs": [],
   "source": [
    "data_lmT = load_data(path, 'data_lmT_LMC.pkl', bs=bs)"
   ]
  },
  {
   "cell_type": "code",
   "execution_count": 15,
   "metadata": {},
   "outputs": [
    {
     "data": {
      "text/html": [
       "<table border=\"1\" class=\"dataframe\">\n",
       "  <thead>\n",
       "    <tr style=\"text-align: right;\">\n",
       "      <th>idx</th>\n",
       "      <th>text</th>\n",
       "    </tr>\n",
       "  </thead>\n",
       "  <tbody>\n",
       "    <tr>\n",
       "      <td>0</td>\n",
       "      <td>xxup rao , xxunk xxmaj electricity xxmaj supply xxmaj company xxunk ) , the xxmaj appellant herein , is a distribution licensee . m / s. xxup amr xxmaj power xxmaj private xxmaj limited , the xxmaj first xxmaj respondentherein , is a renewable power generator which has xxunk is operating a xxunk xxup mw run of the river mini xxunk xxunk project in the xxmaj state of xxmaj karnataka</td>\n",
       "    </tr>\n",
       "    <tr>\n",
       "      <td>1</td>\n",
       "      <td>the xxmaj state xxmaj government onthe subject without the xxmaj advocate xxmaj general in turn xxunk selection process , assessing inter se merit on an xxunk or maintaining any record of any such process havingbeen undertaken . xxmaj the affidavits also do not rule out thepossibility of the xxmaj governments themselves xxunk over and above those recommended by theadvocate xxmaj general on the basis of what the xxmaj affidavit of</td>\n",
       "    </tr>\n",
       "    <tr>\n",
       "      <td>2</td>\n",
       "      <td>- f - xxunk - f - xxunk was submitted , that there was no legitimate basis for recording such a xxunk was also the contention of learned counsel , that the judgment rendered bythe xxmaj high xxmaj court , rightly negated the financial impact of ‘ the 1999 xxmaj scheme’ , becausein terms of the conclusions drawn in the judgment , the same would not be applicableto future employees</td>\n",
       "    </tr>\n",
       "    <tr>\n",
       "      <td>3</td>\n",
       "      <td>furnished , declarant is duty bound to furnish it correctly and any suppression ofmaterial facts or submitting false information , may by itself lead to termination ofhis services or cancellation of candidature in an appropriate case . xxmaj however , in acriminal case incumbent has not been acquitted and case is pending trial , xxunk well be justified in not appointing such an incumbent or in terminating theservices as conviction</td>\n",
       "    </tr>\n",
       "    <tr>\n",
       "      <td>4</td>\n",
       "      <td>principal xxmaj act by a xxmaj state xxmaj legislature or a 31page xxunk xxmaj court before the commencement of this xxmaj act shall , except insofar as such amendment or provision is consistent with the provisions of the principal xxmaj act as amended by this xxmaj act , stand repealed . ” ( xxmaj noticed again for xxunk language of xxmaj section 97(1 ) of the xxmaj amendment xxmaj act</td>\n",
       "    </tr>\n",
       "  </tbody>\n",
       "</table>"
      ],
      "text/plain": [
       "<IPython.core.display.HTML object>"
      ]
     },
     "metadata": {},
     "output_type": "display_data"
    }
   ],
   "source": [
    "data_lmT.show_batch()"
   ]
  },
  {
   "cell_type": "markdown",
   "metadata": {},
   "source": [
    "We can then put this in a learner object very easily with a model loaded with the pretrained weights. They'll be downloaded the first time you'll execute the following line and stored in `~/.fastai/models/` (or elsewhere if you specified different paths in your config file)."
   ]
  },
  {
   "cell_type": "code",
   "execution_count": 7,
   "metadata": {},
   "outputs": [],
   "source": [
    "learn = language_model_learner(data_lmT, AWD_LSTM, drop_mult=0.3)"
   ]
  },
  {
   "cell_type": "code",
   "execution_count": null,
   "metadata": {},
   "outputs": [],
   "source": [
    "learn.lr_find()"
   ]
  },
  {
   "cell_type": "code",
   "execution_count": null,
   "metadata": {},
   "outputs": [],
   "source": [
    "learn.recorder.plot(skip_end=15)"
   ]
  },
  {
   "cell_type": "code",
   "execution_count": 14,
   "metadata": {},
   "outputs": [
    {
     "data": {
      "text/html": [
       "<table border=\"1\" class=\"dataframe\">\n",
       "  <thead>\n",
       "    <tr style=\"text-align: left;\">\n",
       "      <th>epoch</th>\n",
       "      <th>train_loss</th>\n",
       "      <th>valid_loss</th>\n",
       "      <th>accuracy</th>\n",
       "      <th>time</th>\n",
       "    </tr>\n",
       "  </thead>\n",
       "  <tbody>\n",
       "    <tr>\n",
       "      <td>0</td>\n",
       "      <td>3.495407</td>\n",
       "      <td>3.639196</td>\n",
       "      <td>0.383546</td>\n",
       "      <td>34:40</td>\n",
       "    </tr>\n",
       "  </tbody>\n",
       "</table>"
      ],
      "text/plain": [
       "<IPython.core.display.HTML object>"
      ]
     },
     "metadata": {},
     "output_type": "display_data"
    }
   ],
   "source": [
    "learn.fit_one_cycle(1, 1e-2, moms=(0.8,0.7))"
   ]
  },
  {
   "cell_type": "code",
   "execution_count": 15,
   "metadata": {},
   "outputs": [],
   "source": [
    "learn.save(path/'fit_head_FD_LMC')"
   ]
  },
  {
   "cell_type": "code",
   "execution_count": null,
   "metadata": {},
   "outputs": [],
   "source": [
    "learn.load(path/'fit_head_FD_LMC');"
   ]
  },
  {
   "cell_type": "markdown",
   "metadata": {},
   "source": [
    "To complete the fine-tuning, we can then unfeeze and launch a new training."
   ]
  },
  {
   "cell_type": "code",
   "execution_count": 9,
   "metadata": {},
   "outputs": [],
   "source": [
    "learn.unfreeze()"
   ]
  },
  {
   "cell_type": "code",
   "execution_count": 12,
   "metadata": {},
   "outputs": [
    {
     "data": {
      "text/html": [
       "<table border=\"1\" class=\"dataframe\">\n",
       "  <thead>\n",
       "    <tr style=\"text-align: left;\">\n",
       "      <th>epoch</th>\n",
       "      <th>train_loss</th>\n",
       "      <th>valid_loss</th>\n",
       "      <th>accuracy</th>\n",
       "      <th>time</th>\n",
       "    </tr>\n",
       "  </thead>\n",
       "  <tbody>\n",
       "    <tr>\n",
       "      <td>0</td>\n",
       "      <td>2.670135</td>\n",
       "      <td>2.941345</td>\n",
       "      <td>0.465095</td>\n",
       "      <td>34:49</td>\n",
       "    </tr>\n",
       "  </tbody>\n",
       "</table>"
      ],
      "text/plain": [
       "<IPython.core.display.HTML object>"
      ]
     },
     "metadata": {},
     "output_type": "display_data"
    }
   ],
   "source": [
    "learn.fit_one_cycle(1, 1e-3, moms=(0.8,0.7))\n",
    "#46.26"
   ]
  },
  {
   "cell_type": "code",
   "execution_count": 13,
   "metadata": {},
   "outputs": [],
   "source": [
    "learn.save(path/'fine_tuned_FD_LMC')\n",
    "#data_lmT.save(path/'data_lmT.pkl')\n",
    "#44.6"
   ]
  },
  {
   "cell_type": "markdown",
   "metadata": {},
   "source": [
    "How good is our model? Well let's try to see what it predicts after a few given words."
   ]
  },
  {
   "cell_type": "code",
   "execution_count": 8,
   "metadata": {},
   "outputs": [],
   "source": [
    "learn.load(path/'fine_tuned_FD_LMC');\n"
   ]
  },
  {
   "cell_type": "code",
   "execution_count": 14,
   "metadata": {},
   "outputs": [],
   "source": [
    "TEXT = \"THE APPEAL IS ALLOWED BECAUSE\"\n",
    "N_WORDS = 40\n",
    "N_SENTENCES = 2"
   ]
  },
  {
   "cell_type": "code",
   "execution_count": 15,
   "metadata": {},
   "outputs": [
    {
     "name": "stdout",
     "output_type": "stream",
     "text": [
      "THE APPEAL IS ALLOWED BECAUSE OF ACQUITTAL OF THE JUDGES OF THE HIGH COURT OF INDIACIVIL APPELLATE JURISDICTIONCIVIL APPEAL NO . courtas OF 2017(ARISING OUT OF\n",
      "THE APPEAL IS ALLOWED BECAUSE OF THE SUPREME COURT OF INDIACIVIL APPELLATE JURISDICTIONCIVIL APPEAL NO . 133 OF 2017(ARISING OUT OF SLP ( c ) NO . 123 of\n"
     ]
    }
   ],
   "source": [
    "print(\"\\n\".join(learn.predict(TEXT, N_WORDS, temperature=0.75) for _ in range(N_SENTENCES)))"
   ]
  },
  {
   "cell_type": "markdown",
   "metadata": {},
   "source": [
    "We have to save not only the model, but also its encoder, the part that's responsible for creating and updating the hidden state. For the next part, we don't care about the part that tries to guess the next word."
   ]
  },
  {
   "cell_type": "code",
   "execution_count": 16,
   "metadata": {},
   "outputs": [],
   "source": [
    "learn.save_encoder(path/'fine_tuned_enc_FD_LMC')"
   ]
  },
  {
   "cell_type": "markdown",
   "metadata": {},
   "source": [
    "## Classifier"
   ]
  },
  {
   "cell_type": "markdown",
   "metadata": {},
   "source": [
    "Now, we'll create a new data object that only grabs the labelled data and keeps those labels. Again, this line takes a bit of time."
   ]
  },
  {
   "cell_type": "code",
   "execution_count": null,
   "metadata": {},
   "outputs": [],
   "source": [
    "path = untar_data(URLs.IMDB)"
   ]
  },
  {
   "cell_type": "code",
   "execution_count": 21,
   "metadata": {},
   "outputs": [],
   "source": [
    "data_clas = (TextList.from_df(df = df, cols=1, vocab=data_lmT.vocab) \n",
    "             .split_by_rand_pct(0.1) \n",
    "             .label_from_df(cols=0)\n",
    "             .databunch(bs=bs))"
   ]
  },
  {
   "cell_type": "code",
   "execution_count": null,
   "metadata": {},
   "outputs": [],
   "source": [
    "data_clas = (TextList.from_folder(path, vocab=data_lm.vocab)\n",
    "             #grab all the text files in path\n",
    "             .split_by_folder(valid='test')\n",
    "             #split by train and valid folder (that only keeps 'train' and 'test' so no need to filter)\n",
    "             .label_from_folder(classes=['neg', 'pos'])\n",
    "             #label them all with their folders\n",
    "             .databunch(bs=bs))\n",
    "\n",
    "data_clas.save('data_clas.pkl')"
   ]
  },
  {
   "cell_type": "code",
   "execution_count": 22,
   "metadata": {},
   "outputs": [],
   "source": [
    "data_clas.save(path/'data_clas_FD_LMC.pkl')"
   ]
  },
  {
   "cell_type": "code",
   "execution_count": 9,
   "metadata": {},
   "outputs": [],
   "source": [
    "data_clas = load_data(path, 'data_clas_FD_LMC.pkl', bs=bs)"
   ]
  },
  {
   "cell_type": "code",
   "execution_count": 7,
   "metadata": {},
   "outputs": [
    {
     "data": {
      "text/html": [
       "<table border=\"1\" class=\"dataframe\">\n",
       "  <thead>\n",
       "    <tr style=\"text-align: right;\">\n",
       "      <th>text</th>\n",
       "      <th>target</th>\n",
       "    </tr>\n",
       "  </thead>\n",
       "  <tbody>\n",
       "    <tr>\n",
       "      <td>xxbos [ ' xxup reportablein xxup the xxup supreme xxup court xxup of xxup indiacivil xxup original xxup jurisdictionwrit xxup petition ( xxup civil ) xxup no . 494 xxup of xxup xxunk xxup k.s. xxup puttaswamy ( xxup retd . ) xxup and xxup another xxrep 5 . xxup petitioner(s)versusunion xxup of xxup india xxup and xxup others xxrep 5 . xxup xxunk xxup case ( xxup civil )</td>\n",
       "      <td>Allowed</td>\n",
       "    </tr>\n",
       "    <tr>\n",
       "      <td>xxbos [ ' xxmaj page 11 xxup in xxup the xxup supreme xxup court xxup of xxup india xxup civil xxup appellate xxup jurisdiction xxup civil xxup appeal xxup no . 3453 / 2002 xxup jindal xxup stainless xxup ltd . &amp; xxup anr . … xxmaj appellants xxup vs . xxup state xxup of xxup haryana &amp; xxup ors . … xxmaj respondents xxup with xxup c.a. xxup no</td>\n",
       "      <td>Overruled</td>\n",
       "    </tr>\n",
       "    <tr>\n",
       "      <td>xxbos [ ' 1 xxup in xxup the xxup supreme xxup court xxup of xxup india xxup civil xxup original xxup jurisdiction xxup writ xxup petition ( xxup civil ) xxup no 494 xxup of 2012 xxup justice k s xxup puttaswamy ( xxup retd . ) , xxup and xxup anr . .. xxmaj petitioners xxup versus xxup union xxup of xxup india xxup and xxup ors . ..</td>\n",
       "      <td>Overruled</td>\n",
       "    </tr>\n",
       "    <tr>\n",
       "      <td>xxbos [ ' 1 xxup reportable xxup in xxup the xxup supreme xxup court xxup of xxup india xxup civil xxup original / xxup appellate xxup jurisdiction xxup writ xxup petition ( xxup civil ) xxup no . 43 xxup of 2019 xxmaj pioneer xxmaj urban xxmaj land and xxmaj infrastructure … xxmaj petitioners xxmaj limited &amp; xxmaj anr . xxmaj versus xxmaj union of xxmaj india &amp; xxmaj ors</td>\n",
       "      <td>Overruled</td>\n",
       "    </tr>\n",
       "    <tr>\n",
       "      <td>xxbos [ ' 1 xxup in xxup the xxup supreme xxup court xxup of xxup india xxup civil / xxup criminal xxup original xxup jurisdiction xxup writ xxup petition ( xxup civil ) xxup no 19 xxup of 2018 xxup xxunk xxup xxunk .. xxmaj petitioner xxup versus xxup union xxup of xxup india xxup and xxup anr .. xxmaj respondents xxup with xxup writ xxup petition ( xxup civil</td>\n",
       "      <td>Overruled</td>\n",
       "    </tr>\n",
       "  </tbody>\n",
       "</table>"
      ],
      "text/plain": [
       "<IPython.core.display.HTML object>"
      ]
     },
     "metadata": {},
     "output_type": "display_data"
    }
   ],
   "source": [
    "data_clas.show_batch()"
   ]
  },
  {
   "cell_type": "markdown",
   "metadata": {},
   "source": [
    "We can then create a model to classify those reviews and load the encoder we saved before."
   ]
  },
  {
   "cell_type": "code",
   "execution_count": 10,
   "metadata": {},
   "outputs": [
    {
     "data": {
      "text/plain": [
       "RNNLearner(data=TextClasDataBunch;\n",
       "\n",
       "Train: LabelList (3312 items)\n",
       "x: TextList\n",
       "xxbos [ ' xxmaj page 1non - reportablein xxup the xxup supreme xxup court xxup of xxup indiacivil xxup appellate xxup jurisdictioncivil xxup appeal xxup no . 1665 of xxup xxunk xxup electricity xxup supply xxup company xxup limited xxrep 4 . appellant(s)versusm / xxup s. xxup amr xxup power xxup private xxup limited & xxup anr. … .respondent(s)j u d g m e n xxup tl . xxup nageswara xxup rao , xxunk xxmaj electricity xxmaj supply xxmaj company xxunk ) , the xxmaj appellant herein , is a distribution licensee . m / s. xxup amr xxmaj power xxmaj private xxmaj limited , the xxmaj first xxmaj respondentherein , is a renewable power generator which has xxunk is operating a xxunk xxup mw run of the river mini xxunk xxunk project in the xxmaj state of xxmaj karnataka . xxmaj the xxunk xxmaj electricity xxmaj regulatory xxmaj commission is the secondrespondent in the present appeal.2.the xxmaj appellant and the xxmaj first xxmaj respondent entered into apower xxmaj purchase xxmaj agreement ( hereinafter referred to as ‘ xxunk 02.08.2006 for the supply of 24 xxup mw of electricity . xxmaj it wasmentioned in the xxup ppa that the xxmaj government of xxmaj xxunk its sanction to the proposal of the firstrespondent for installation of a mini xxunk electric xxunk station of 24 xxup mw capacity across xxunk , xxmaj xxunk xxmaj kannada xxmaj district and that theappellant was permitted to enter into a xxup ppa with the firstrespondent for purchase of electricity . xxmaj article 5 of the xxunk for payment of xxmaj rs 2.80 per kilowatt - hour for thefirst 10 years for the delivered energy . xxmaj from the 11th xxunk , the xxup ppa provides that the xxmaj appellant shall pay tothe company a rate determined by the xxmaj commission for theenergy delivered at the metering point . xxmaj article 6 of the xxunk with billing and payment , xxmaj article 9 covers the xxunk xxunk and default of the xxup ppa . xxmaj as per xxmaj article xxunk , theppa shall continue to be in force for a period of 20 yearsfrom the commercial operation date and may be renewed fora period of 10 years on such terms and conditions as maybe mutually agreed upon . xxmaj article 6 and xxmaj article 9 which xxunk consideration in this case will be dealt with in detail inthe subsequent paragraphs . xxmaj on xxunk , the firstrespondent increased the capacity from 24 xxup mw to xxunk xxmaj first xxmaj respondent started generating power andcommenced supply of electricity to the xxmaj appellant xxunk . xxmaj the xxmaj first xxmaj respondent approached thekarnataka xxmaj electricity xxmaj regulatory xxmaj commission , the secondrespondent herein , by filing xxup o.p. xxmaj no . 28 of 2009 for adeclaration that the xxup ppa executed on 02.08.2006 was nulland void . a further relief for grant of open access was alsosought by the xxmaj first xxmaj respondent . xxmaj an interim order waspassed by the xxmaj second xxmaj respondent xxmaj commission xxunk directing the xxmaj appellant to xxunk the xxunk 4and pay for the power at the rate of xxmaj rs . 2.80 per xxunk final adjudication . xxmaj the xxmaj second xxunk dismissed xxup o.p. xxmaj no . 28 of 2009 on xxunk to the observations made in the said order xxunk , the xxmaj first xxmaj respondent requested the xxmaj appellantto revise the tariff which was not considered by theappellant . xxmaj the xxmaj first xxmaj respondent also filed a review of theorder passed in xxup o.p. xxmaj no . 28 of 2009 which was dismissedon xxunk xxmaj first xxmaj respondent by a letter dated xxunk a xxmaj default xxmaj notice as provided in xxmaj article 9.3.2 of theppa and requested the xxmaj appellant to remedy the default . xxmaj the xxmaj first xxmaj respondent referred to default in payment ofpower bills , default in payment of interest for the xxunk in payment of the power bills and default in xxunk xxmaj letter of xxmaj credit . xxmaj details of the default were annexed tothe said letter dated 26.05.2011 . xxmaj the xxmaj appellant xxunk the xxmaj default xxmaj notice by sending a letter dated 04.07.2011 in which it was stated that an attempt was being made xxunk xxunk all dues towards power purchase to all the xxunk any delay . xxmaj the xxmaj appellant also stated that thepayment of bills for the month of xxmaj january , xxmaj february xxunk 2011 were delayed because of the inter - xxunk not being produced by the xxmaj first xxmaj respondent . xxmaj itwas also stated that an endeavour would be made in thefuture to make the payments without delay and that theletters of xxmaj credit would be opened . xxmaj the xxmaj first xxmaj respondent , not being satisfied with the reply dated 04.07.2011 , issueda xxmaj notice of xxmaj termination of the xxup ppa on xxunk xxmaj first xxmaj respondent approached the secondrespondent by filing xxup o.p. xxmaj no . 48 of 2011 seeking adeclaration that the xxup ppa dated 02.08.2006 stood xxunk was not subsisting . a further declaration xxunk - state open access was sought . xxmaj the secondrespondent xxmaj commission by an order dated xxunk an interim order for payment of tariff at the rate ofrs . 2.80 per unit , pending disposal of xxup o.p. xxmaj no . 48 of xxunk xxunk , the xxmaj first xxmaj respondent moved an xxunk xxunk withdrawal of xxup o.p. xxmaj no . 48 of 2011 . xxmaj the secondrespondent xxmaj commission dismissed xxup o.p. xxmaj no . 48 of 2011 aswithdrawn . xxmaj the xxmaj first xxmaj respondent approached the xxunk xxmaj regulatory xxmaj commission ( xxup cerc ) by filing petitionno . 141 / xxup mp / 2012 seeking permission for inter - state xxunk to supply electricity to third parties . xxmaj on xxunk xxmaj appellant filed xxup o.p. xxmaj no . 37 of 2012 before the secondrespondent xxmaj commission seeking quashing of thetermination notice dated 22.07.2011 and for a declarationthat the xxup ppa dated 02.08.2006 was valid and subsisting . xxmaj afurther direction was also sought to the xxmaj first xxmaj respondent toact in accordance with the xxup ppa dated 02.08.2006 and tosupply power in terms thereof . xxmaj the xxup cerc xxunk xxmaj no . 141 of 2012 filed by the xxmaj first xxmaj respondent forgrant of inter - state open access in view of the pendency xxunk xxmaj no . 37 of 2012 before the xxmaj state xxmaj commission in whichthe validity of the xxup ppa was challenged . xxmaj the secondrespondent xxmaj commission directed status quo to bemaintained on 23.08.2012 in xxup o.p. xxmaj no . 37 of 2012 . xxmaj the xxunk xxunk order dated 23.08.2012 was challenged by the firstrespondent before the xxmaj appellate xxmaj tribunal for xxunk ) . xxmaj the xxup aptel continued the interim xxunk clarified that the order of status quo passed by thesecond xxmaj respondent xxmaj commission would not mean that theoperation of the termination of the xxup ppa was stayed . xxmaj by anorder dated xxunk the xxmaj second xxunk dismissed xxup o.p. xxmaj no . 37 of 2012 upholding thetermination xxmaj notice dated 22.07.2011 and declaring that theappellant was not entitled for a direction to the firstrespondent to act in accordance with the xxup ppa xxunk . xxmaj appeal xxmaj no . 275 of 2013 filed by the xxmaj appellantbefore the xxup aptel was dismissed on 17.10.2014 , thecorrectness of which is assailed in the present xxmaj civil appeal.6.the xxmaj second xxmaj respondent xxmaj commission framed xxunk for consideration . xxmaj they are as xxunk the termination of the xxup ppa xxunk - 08 - 2006 by the xxmaj respondent is illegal and invalid , as contended by the xxunk xxunk the petitioner has made out a case for adirection by the xxmaj commission to the xxmaj respondent to actin accordance with the xxup ppa dated 02 - 08 - 2006 andsupply power in terms of the xxup ppa , as prayed xxunk xxmaj commission held that the xxmaj appellant in its reply tothe xxmaj default xxmaj notice did not deny the delay in payment . thecommission further found that the xxmaj appellant made anattempt to justify the delay and virtually admitted the delay . xxmaj the xxmaj commission also held that in response to the defaultnotice dated 26.05.2011 the xxmaj appellant should have xxunk the pending bills including interest within the timespecified in the xxup ppa for curing the defects . xxmaj issue xxmaj no.1 washeld in favour of the xxmaj first xxmaj respondent and the terminationnotice dated 22.07.2011 was upheld . xxmaj as a consequence , xxmaj issue xxmaj no . 2 pertaining to a direction to the xxmaj respondent toact in accordance with the xxup ppa was xxunk xxup aptel after considering the submissions made bythe parties held that the xxmaj appellant failed to make out a caseof either res judicata or issue estoppel as the scope of the8page xxunk in the petitions filed by the xxmaj first xxmaj respondentwas different . xxmaj after a detailed consideration of the defaultnotice dated 26.05.2011 , the reply to the notice xxunk and the xxmaj termination xxmaj notice dated 22.07.2011 inthe light of the provisions contained in the xxup ppa , the xxunk the order of the xxunk . xxup v. xxmaj giri , learned xxmaj senior xxmaj counsel appearing for theappellant submitted that the xxmaj first xxmaj respondent xxunk made valiant efforts to wriggle out of theobligations under the xxup ppa . xxmaj he submitted that the firstrespondent initially filed a petition for a declaration thatthe xxup ppa was void . xxmaj having failed in that attempt , the firstrespondent resorted to issuance of the xxmaj termination xxmaj noticefor delay in xxunk . xxmaj giri urged that the xxmaj first xxmaj respondent should nothave been permitted to take a defence justifying thetermination xxmaj notice and seeking open access in xxup o.p. xxmaj no . 37of 2012 , particularly after xxup o.p. xxmaj no . 48 of 2011 waswithdrawn from the xxmaj state xxmaj commission without xxunk xxunk to initiate fresh proceedings . xxmaj he submitted thatthe withdrawal of xxup o.p. xxmaj no . 48 of 2011 by the firstrespondent before the xxmaj state xxmaj commission would act as a barunder xxmaj order 23 , xxmaj rule 1 of the xxmaj code of xxmaj civil xxmaj procedure , xxunk the xxmaj respondent should not be permitted to raise thegrounds in xxup o.p. xxmaj no . 48 of 2011 before any other forum . xxmaj xxunk reliance upon the judgment of this xxmaj court in xxunk xxmaj service v. xxmaj state xxmaj transport xxmaj appellate xxmaj tribunal , xxup mp xxmaj gwalior and xxmaj ors . reported in ( 1987 ) xxup scc 5 , wherein itwas held that a fresh xxmaj writ xxmaj petition was not xxunk withdrawal of a xxmaj writ xxmaj petition without permission to filea fresh xxmaj petition in respect of the same subject matter . xxmaj healso submitted that there is no admission of any default inhis letter dated 04.07.2011 . xxmaj in any event , according to him , the delay was not inordinate and there was no further delayin making payments after xxmaj may 2011 . xxmaj he also stated thatthe xxmaj first xxmaj respondent continued to supply power even afterthe xxmaj termination xxmaj notice dated 22.07.2011 which amounts xxunk the default , if there was any , in the payment xxunk xxunk bills . xxmaj he also stated that the inter - xxunk was obtained by the xxmaj first xxmaj respondent xxunk and the xxmaj first xxmaj respondent can not complain ofany delay in payments made prior to that xxunk . xxmaj basava xxmaj prabhu xxup s. xxmaj patil , learned xxmaj senior xxmaj counselappearing for the xxmaj first xxmaj respondent submitted that it is clearfrom the reply to the default notice that the xxmaj xxunk the delay in payments . xxmaj he stated that theappellant did not deal with the xxmaj letter of xxmaj credit at all in thesaid reply to the default notice . xxmaj he also submitted that thedefects were not cured within a period of 30 days , as thepayment for the months of xxmaj jan 2011 and xxmaj feb 2011 whichwere due on 18.02.2011 and xxunk were made only xxunk . xxmaj no interest for the delayed payment was paidas provided for in the agreement . a xxmaj letter of xxmaj credit was xxunk even after the default notice . xxmaj mr. xxmaj patil stated thatthe inter - connection approval was only an excuse fornon - payment and that it was not a condition precedent forpayment of tariff invoices . xxmaj he relied upon an xxunk xxunk of the xxup aptel in xxmaj appeal xxmaj no . 152 of xxunk the argument of the xxmaj appellant on xxmaj order xxunk 1 , xxmaj mr. xxmaj patil stated that withdrawal of a petition xxunk to file a fresh petition would not bar the firstrespondent from taking a defence in another round oflitigation . xxmaj he relied upon a judgment of this xxmaj court xxunk xxmaj nadar & xxmaj ors . v. xxmaj xxunk & xxmaj xxunk in ( 2007 ) 7 xxup scc xxunk reply , xxmaj mr. xxmaj giri submitted that no time limit isprescribed for payment of bills in xxmaj article 9.2.2 . xxmaj letters ofcredit would not fall within the purview of the xxunk default ” in xxmaj clause 9.2.2 . xxmaj he also submitted thatthe right to terminate the contract ought not to have beenexercised by the xxmaj first xxmaj respondent for non - opening of aletter of xxmaj credit which was not a fundamental default of theconditions of the xxup ppa . xxmaj he further stated that the xxmaj appellantis a public utility and any order against the xxmaj appellant wouldhave a huge impact on public revenue . 12page xxunk point for determination in the present xxunk to the validity of the xxmaj termination xxmaj notice xxunk and the entitlement of the xxmaj appellant to seek adeclaration that the xxup ppa is valid and binding on respondentno.1 . xxmaj it would be necessary to examine the relevant xxmaj xxunk the xxup ppa for a proper adjudication of the lis in this case . xxmaj article 6.3 of the xxup ppa provides for payment of penal interestat the rate of xxup sbi xxmaj medium xxmaj term xxmaj lending xxmaj rate per annum incase of delay in payment by the xxmaj appellant . xxmaj clauses 9.2 xxunk are also relevant and they are as xxunk xxmaj events of xxmaj xxunk xxmaj company ’s xxmaj xxunk . xxunk xxup mescom xxmaj default : xxmaj the occurrence of any of thefollowing at any time during the xxmaj term of thisagreement shall constitute an xxmaj event of xxmaj default xxunk or refusal by xxup mescom to perform xxunk and other material obligations under thisagreement . 2.in the event of any payment default by xxunk for a continuous period of three months , the13page xxunk shall be permitted to sell electricity to thirdparties by entering into a wheeling & xxunk with the xxup mescom for which it shall xxunk and other charges to the xxup mescom at therates applicable from time to time and as approved bythe xxmaj commission . xxunk for xxmaj company ’s xxmaj xxunk . xxunk for xxup mescom ’s xxmaj default : xxmaj uponthe occurrence of an event of default as set out insub - clause 9.2.2 above , xxmaj company may deliver adefault xxmaj notice to the xxup mescom in writing which xxunk in reasonable detail the xxmaj event of xxmaj default givingrise to the default notice , and calling upon xxunk to remedy the same . xxmaj at the expiry of 30 ( thirty ) days from the delivery ofthis default notice and unless the xxmaj parties have xxunk , or the xxmaj event of xxmaj default giving rise to thedefault xxmaj notice has been remedied , xxmaj company xxunk a xxmaj termination xxmaj notice to xxup mescom . xxmaj xxunk terminate this agreement by delivering such atermination xxmaj notice to xxup mescom and intimate the sameto the xxmaj commission . xxmaj upon delivery of the xxunk xxunk this xxmaj agreement shall stand terminated xxunk shall stand discharged of its obligations . ” xxunk 9.2.2 contemplates that the failure of theappellant in performing its financial and other xxunk under the xxup ppa would constitute an event ofdefault on its part . xxmaj the said xxmaj article also provides for thefirst xxmaj respondent being permitted to sell electricity to thirdparties in the event of payment default by the appellant fora continuous period of three months . xxmaj the procedureprescribed in xxmaj article 9.3.2 for termination for theappellant ’s default is that the xxmaj first xxmaj respondent xxunk a xxmaj default xxmaj notice giving details in the event of xxunk asking the xxmaj appellant to remedy the same . xxmaj if theappellant does not remedy the defaults within theprescribed period of 30 days or any extended period xxunk agreed upon , the xxmaj first xxmaj respondent may issue atermination xxmaj notice . 15.the xxmaj default xxmaj notice dated 26.05.2011 refers to defaultin payments of bills , non - payment of interest for the xxunk xxunk and non - opening of a xxmaj letter of xxmaj credit as providedfor in xxmaj article 6.5 of the xxmaj agreement . xxmaj in the reply xxunk , the xxmaj appellant did not expressly deal with any ofthe defaults mentioned in the xxmaj default xxmaj notice . xxmaj on the otherhand the xxmaj appellant stated that it relied heavily xxunk subsidy for payment to be made , an xxunk be made in the future to make payments promptly , xxunk would be opened and that payment for xxmaj january , xxmaj february and xxmaj march 2011 were delayed because theapproval for inter - connection was given only on xxunk invoice for xxmaj december 2010 which was due to be paid xxunk was actually paid on xxunk . xxmaj the xxunk be made for the months of xxmaj january 2011 and xxmaj xxunk due on 18.02.2011 and xxunk was actually doneon xxunk . xxmaj admittedly , interest on the xxunk as provided for in xxmaj article 6 was not paid and aletter of xxmaj credit was not opened . xxmaj in view of the xxunk by the xxmaj first xxmaj respondent in the notice not xxunk within a period of 30 days , we are of the xxunk xxunk the xxmaj second xxmaj respondent xxmaj commission and the xxunk correct in upholding the termination xxunk . xxmaj we do not agree with the submissions ofmr . xxmaj giri that non - opening of xxmaj letter of xxmaj credit would not be adefault covered by xxmaj article 9.2.2 . xxmaj as per xxmaj article xxunk , afailure or refusal by the xxmaj appellant to perform its xxunk other material obligations under a xxup ppa constitutes anevent of default . xxmaj both the parties to the xxup ppa are bound bythe terms thereof and they are free to resort to action inaccordance with the provisions contained xxunk xxmaj court in xxmaj sarguja xxmaj transport xxmaj service ( supra ) heldthat withdrawal of a xxmaj writ xxmaj petition without seekingpermission to file a fresh xxmaj writ xxmaj petition would bar filing of afresh xxmaj writ xxmaj petition . xxmaj but there is no bar for taking a defencein a fresh round of litigation in respect of the same xxunk in a suit which was withdrawn without xxunk . ( xxmaj see xxmaj xxunk xxmaj nadar , ( supra ) ) . xxmaj the firstrespondent initially sought for open access for sale ofelectricity to third parties intra - state by filing xxup o.p. xxmaj no . 48 xxunk xxunk . xxmaj after withdrawing xxup o.p. xxmaj no . 48 of 2011 , the firstrespondent filed a xxmaj petition before the xxup cerc for inter - xxunk access . xxmaj it is no doubt true that in xxup o.p. xxmaj no . 48 of xxunk xxmaj first xxmaj respondent also sought for a relief of a declarationthat the xxup ppa is not binding on it . xxmaj strictly speaking , therewas no need for such a declaration being sought by thefirst xxmaj respondent as the xxup ppa was terminated by issuance ofa notice dated 22.07.2011 . xxmaj in any event , we are at xxunk with xxunk of 2012 in which the firstrespondent raised a defence that xxmaj termination xxmaj notice wasvalid and that it was entitled to open access , which is legallypermissible . 17.the xxup aptel found that the grant of inter - xxunk on xxunk could not be a justification xxunk payment of bills . xxmaj it was held that there was delayin payment of bills for xxmaj january and xxmaj february 2011 evenafter the inter - connection approval was given xxunk , as admittedly the payments were made only xxunk . xxmaj the xxup aptel relied upon an earlier order xxunk ' ],xxbos [ ' xxmaj page 1non - reportablein xxup the xxup supreme xxup court xxup of xxup indiacivil xxup appellate xxup jurisdictioncivil xxup appeal xxup no . xxunk xxup of 2006 xxmaj the xxmaj land xxmaj acquisition xxmaj officer , xxup a.p. xxunk xxmaj santosh xxunk ) by l.rs . respondent(s)j u d g m e n t xxmaj abhay xxmaj manohar xxmaj sapre , xxup j. 1)this appeal is filed against the final order xxunk of the xxmaj high xxmaj court of xxmaj judicature , andhrapradesh at xxmaj hyderabad in xxup c.r.p. xxmaj no . 928 of xxunk the xxmaj high xxmaj court dismissed the revision filed bythe appellant herein against the order xxunk passed by the xxmaj subordinate xxmaj judge xxunk xxunk , xxmaj xxunk xxmaj dist . xxmaj in xxup e.a. xxmaj no . 41 of 1997 in xxunk . 34 of 1993 in xxup o.p. xxmaj no.7 of xxunk facts need mention for the disposal of theappeal , which involves short xxunk appellant - xxmaj state acquired 53 acres of xxunk to the notification issued under xxmaj section 4(1)of the xxmaj land xxmaj acquisition xxmaj act , 1894 ( hereinafter referredto as “ the xxmaj act ” ) on xxunk . xxmaj this xxunk the land belonging to the xxunk measuring around 13 acres 18 xxunk in xxmaj xxunk village xxmaj xxunk in xxmaj district xxmaj xxunk xxup ap . xxmaj it was acquired for the purpose of laying xxunk xxmaj broad xxmaj gauge line . 4)on xxunk , the xxmaj land xxmaj acquisition xxunk ) by his xxmaj award xxmaj no . 12 of 1980 divided the xxunk three categories and awarded the compensation toall the landowners whose lands had been xxunk the respondents’ predecessor at the rate of2page xxunk / - , xxmaj rs.1200 / - and xxmaj xxunk / - per xxunk . 5)the respondents’ predecessor then filed xxunk xxmaj civil xxmaj court ( subordinate xxmaj judge , xxmaj bhongir ) undersection 18 of the xxmaj act being xxup o.p. xxmaj no.7 of 1987 forre - determination of the compensation . xxmaj this referencewas referred to xxmaj lok xxmaj adalat for mutual settlement . 6)on xxunk , in pursuance of the order passedby the xxmaj lok xxmaj adalat , the subordinate xxmaj judge at xxmaj xxunk an award and enhanced the compensationpayable to the respondents . xxmaj in terms of the award , therespondents were entitled to claim a sum of xxmaj xxunk / - by way of compensation for his land fromthe xxunk respondents’ predecessor then filed theexecution petition being xxup e.p. xxmaj no . 34 of 1993 xxunk of the entire decreetal amount in terms ofthe said award . xxmaj during the pendency of the xxunk 4the respondents’ predecessor died and his legalrepresentatives , i.e. , present respondents were broughton record . xxmaj by order dated 15.09.1997 , the executingcourt bi - party determined the amount payable to therespondents by the xxmaj state towards compensation andissued warrants against the judgment - debtor ( xxmaj xxunk recovery of the interest amount of xxmaj rs.50,000 / -and odd as it was found still payable by the xxmaj state tothe respondents due to delay on their part in payingthe decreetal sum . xxmaj it is pertinent to mention that thisorder was not challenged by the xxmaj state in higher xxmaj courtsand hence it attained xxunk , the xxmaj state made an application xxunk xxmaj no . 41 of 1997 in xxup e.p. xxmaj no . 34 of 1993 seeking torecall the order dated 15.09.1997 . xxmaj by order xxunk , the executing court dismissed the saidapplication made by the xxunk 59 ) xxmaj felt aggrieved by this order , the xxmaj state xxunk petition before the xxmaj high xxmaj court . xxmaj by impugnedorder , the xxmaj high xxmaj court dismissed the revision petition . xxmaj against the said order , the xxmaj state has filed this appealby way of special leave before this xxunk xxmaj ms. xxmaj bina xxmaj madhavan , learned counselappearing for the appellant . xxmaj despite notice xxunk for the xxunk heard the learned counsel for theappellant - xxmaj state and on perusal of the record of thecase , we find absolutely no merit in this appeal . xxmaj theimpugned order reads as under:“the only question that arises forconsideration in this xxup crp is as to whetherthe order dated 15.09.1997 , passed in xxunk . 34 of 1993 , directing attachment of xxunk of the petitioner should have xxunk . xxmaj the order dated 15.09.1997 waspassed after giving opportunity of hearing toboth the parties . xxmaj the application xxunk of the said order was filed on theground that the decree - holder did not file xxunk memo . xxmaj in the opinion of this xxmaj court , as rightlyobserved by this xxmaj court , as rightly observed bythe learned trial xxmaj judge , if there is any xxunk 6 in the order dated 15.09.1997 , the same canbe rectified by the higher xxmaj courts . xxmaj as thelearned trial xxmaj judge has not exercised hisdiscretion , this xxmaj court does not see anyreason to interfere therewith . xxmaj for the reasons aforementioned , xxunk is dismissed . xxmaj no costs . ” xxunk perusal of the impugned order would go toshow that the reasoning given by the xxmaj high xxmaj court xxunk and proper . xxmaj as rightly held by the xxmaj high xxmaj court , theproper remedy available to the xxmaj state in this case wasto challenge the main order dated 15.09.1997 . xxmaj thisorder ( 15.09.1997 ) was not challenged by the xxmaj state . xxmaj it , therefore , attained finality . xxunk was challenged by the xxmaj state was an orderdated xxunk by which the application made bythe xxmaj state to recall the order dated 15.09.1997 wasdismissed by the executing xxmaj court . xxmaj the executing xxmaj courtwas , therefore , justified in rejecting this application byholding that since the order dated 15.09.1997 was notan ex - parte order , it was binding on the xxmaj state and the6page xxunk not having been challenged by them had to begiven effect to for realization of decreetal amount fromthe xxmaj state . xxmaj the xxmaj high xxmaj court was equally justified inupholding this order of the executing xxmaj court byimpugned order . xxunk order dated 15.09.1997 was never underchallenge in any proceedings at the instance of thestate , yet we perused the said order with a view to findout its sustainability . xxmaj we find that the executing xxmaj courtfound that the xxmaj state was liable to pay a sum ofrs.50,000 / - towards interest due to delayed paymentof decreetal sum for the period mentioned therein . xxmaj it isfor realization of this amount ( xxmaj rs.50,000 / - ) , thewarrant of attachment had been issued at the instanceof the respondents against the xxmaj state properties . 15)in our considered opinion , the xxmaj xxunk pursued this pity matter to this xxmaj court inthis appeal , which does not involve any arguable xxunk ' ],xxbos [ \" xxmaj page xxup 1reportablein xxup the xxup supreme xxup court xxup of xxup indiacivil xxup original xxup jurisdictionwrit xxup petition ( xxup civil ) xxup no . 13 xxup of xxunk xxmaj court xxmaj advocates - on - recordassociation and xxmaj another … .petitionersversusunion of xxmaj india … respondentwithwrit xxup petition ( c ) xxup no . 14 xxup of xxup 2015writ xxup petition ( c ) xxup no . 18 xxup of xxup 2015writ xxup petition ( c ) xxup no . 23 xxup of xxup xxunk xxup petition ( c ) xxup no.24 xxup of xxup 2015writ xxup petition ( c ) xxup no . 70 xxup of xxup 2015writ xxup petition ( c ) xxup no . 83 xxup of xxup 2015writ xxup petition ( c ) xxup no . 108 xxup of xxup 2015writ xxup petition ( c ) xxup no . 124 xxup of xxup 2015writ xxup petition ( c ) xxup no . 209 xxup of xxup 2015writ xxup petition ( c ) xxup no . 309 xxup of xxup 2015writ xxup petition ( c ) xxup no . 310 xxup of xxup 2015writ xxup petition ( c ) xxup no . 323 xxup of xxup 2015writ xxup petition ( c ) xxup no . 341 xxup of xxup xxunk xxup petition ( c ) xxup no . 391 xxup of xxup xxunk xxup petition ( c ) xxup no . 971 xxup of xxup xxunk r d e r1.the adjudication on the merits of the controversy , raised in this batch of xxup w.p. ( c ) xxmaj no . 13 of 2015 etc . etc . xxmaj page 1 of 16page xxunk , was rendered on 16th xxmaj october , 2015 , wherein a separate “ xxmaj order of the xxmaj court ” was also recorded . xxmaj in paragraph 5 of the xxmaj order of the xxmaj court , it was decided to consider the incorporation of additional appropriate measures , if any , for an improved working of the “ collegium system ” . xxmaj for the above purpose , hearing was fixed for ( and commenced on ) 3rd xxmaj november , 2015 . xxmaj mr. xxmaj mukul xxmaj rohatgi , learned xxmaj attorney xxmaj general for xxmaj india , preferred written suggestions and supplemented them with oral submissions . xxmaj likewise , other learned senior counsel were also heard and they too presented their views . xxmaj submissions were advanced freely , solely with the objective of introducing measures in the prevailing “ collegium system ” of appointment of xxmaj judges to the higher judiciary , which in the perception of the concerned learned counsel , would improve the working of the xxunk the first hearing itself , it emerged that the suggestions were on diverse issues . a few suggestions , though honestly and meaningfully expressed , contained diametrically opposite recommendations . xxmaj it was therefore felt that the suggestions received should be compiled in an orderly manner so as to enable all concerned stakeholders to have a bird ’s eye view of the same , thereby possibly making the debate thereon more judicious . xxmaj accordingly , on the nomination by the learned xxmaj attorney xxmaj general , of xxmaj mrs. xxmaj pinki xxmaj anand , xxmaj additional xxmaj solicitor xxmaj general , and on the unanimous endorsement of all the learned counsel representing the petitioners , of xxmaj mr. xxmaj arvind xxup p. xxmaj datar , xxmaj senior xxmaj advocate , a two - member committee was constituted . xxmaj the committee was requested to make a xxup w.p. ( c ) xxmaj no . 13 of 2015 etc . etc . xxmaj page 2 of 16page xxunk of the suggestions received upto 4th xxmaj november , 2015 . xxmaj the above committee presented the compilation on 5th xxmaj november , xxunk hearing the xxmaj chairman of the xxmaj bar xxmaj council of xxmaj india and learned counsel some of whom had travelled from distant xxmaj states , it was felt that a further opportunity should be afforded to the stakeholders to furnish their valuable contributions on the matter . xxmaj it is therefore , that the following order came to be passed on 5th xxmaj november , xxunk . xxmaj pinky xxmaj anand , learned xxmaj additional xxmaj solicitor xxmaj general , and xxmaj mr. xxmaj arvind xxmaj datar , learned xxmaj senior xxmaj advocate have made a compilation of suggestions received up to xxunk hours on xxunk , in furtherance of our motion xxmaj bench order dated xxunk . a large number of learned counsel have even today prayed for further time to make suggestions . xxmaj they have also requested for time on behalf of private individuals for the same purpose . xxmaj the xxmaj chairman of the xxmaj bar xxmaj council of xxmaj india has also made a prayer , that the xxmaj bar xxmaj council of xxmaj india which is the apex body of all the xxmaj state xxmaj bar xxmaj councils , be permitted to gather suggestions from all stake holders , and submit such of the suggestions as it approves , for consideration by this xxmaj court . xxmaj the learned xxmaj attorney xxmaj general for xxmaj india has volunteered to facilitate the prayer made by the learned counsel , by web - hosting the compilation made by the xxmaj additional xxmaj solicitor xxmaj general and the learned xxmaj senior xxmaj counsel referred to above , on the web site of the xxmaj department of xxmaj justice , xxmaj ministry of xxmaj law and xxmaj justice , xxmaj new xxmaj delhi , and also , to issue a public notice in the media seeking suggestions from all those who may desire to make contribution by 17.00 hours on 13.11.2015 ( up to xxunk by the xxmaj bar xxmaj council of xxmaj india ) . xxmaj suggestions may be made in the four categories , i.e. , xxmaj transparency , xxmaj collegium xxmaj secretariat , xxmaj eligibility xxmaj criteria and xxmaj complaints . xxmaj we appreciate the efforts made by the learned xxmaj attorney xxmaj general for xxmaj india . xxmaj he may web - host the compilation and issue a xxunk / 15 etc.etc . 8 public notice . xxmaj likewise , all those who desire to make suggestions may do so directly , on the website of the xxmaj department of xxmaj justice , xxmaj ministry of xxmaj law & xxmaj justice , xxmaj new xxmaj delhi . xxmaj suggestions received by 17.00 hours on 13.11.2015 shall be entertained . xxmaj no further suggestions will be entertained . xxmaj all such suggestions will be forwarded by the xxmaj department of xxmaj justice to the learned counsel who had assisted this xxmaj court in the previous compilation , for xxup w.p. ( c ) xxmaj no . 13 of 2015 etc . etc . xxmaj page 3 of 16page xxunk additional suggestions in the earlier compilation , for consideration . xxmaj list on 18.11.2015 for hearing . xxmaj hearing shall be limited to two days and will conclude on 19.11.2015 . xxmaj hearing shall be limited to such of the counsel who are short - listed and allowed time by a xxmaj committee comprising of learned xxmaj attorney xxmaj general for xxmaj india , the xxmaj chairman , xxmaj bar xxmaj council of xxmaj india , and xxmaj mr. xxmaj fali xxup s. xxmaj nariman , learned xxmaj senior xxmaj advocate . xxmaj no other counsel shall be xxunk the resumed hearing , all those who desired to address the xxmaj court were afforded an opportunity of being heard . xxmaj after all , this assistance to the xxmaj bench was being rendered pro bono xxunk , in the interest of the judiciary as an institution , as well as for and on behalf of all xxunk is important to note that the compilation of the written suggestions placed before us was in the nature of a summary prepared out of approximately xxunk pages of views expressed . xxmaj we had a very challenging responsibility to embark upon and reflect , and thereafter , to xxunk such of the suggestions as were likely to improve the “ collegium system ” . xxmaj only then would we be in a position to sponsor their introduction into the xxmaj memorandum of xxmaj procedure for the appointment of xxmaj judges of the higher xxunk though the task seemed to be xxunk , we felt obliged to take up the responsibility , as it was after all , for an improvement of the judicial system and such an opportunity must not be lost . xxmaj it was at this stage of our reflection , that the learned xxmaj attorney xxmaj general made an impassioned submission , not in any xxunk manner , but as a matter of faithful assistance , suggesting that we should desist from pursuing the contemplated course of action . xxmaj in this behalf it xxup w.p. ( c ) xxmaj no . 13 of 2015 etc . etc . xxmaj page 4 of 16page 5was pointed out , that the formulation of the xxmaj memorandum of xxmaj procedure was an administrative responsibility which fell in the executive domain . xxmaj it was submitted that this xxmaj court neither had the expertise nor the wherewithal for proposing amendments in the existing xxmaj memorandum of xxmaj procedure ( drawn on 30th xxmaj june , 1999 by the xxmaj government of xxmaj india ) , for improving the collegium system . xxmaj the learned xxmaj attorney xxmaj general in his submission candidly invited our attention to the following observations recorded in paragraph 478 of the xxmaj second xxmaj judges xxunk . … xxunk ) xxmaj on initiation of the proposal by the xxmaj chief xxmaj justice of xxmaj india or the xxmaj chief xxmaj justice of the xxmaj high xxmaj court , as the case may be , copies thereof should be sent simultaneously to all the other constitutional functionaries involved . xxmaj within the period of six weeks from receipt of the same , the other functionaries must convey their opinion to the xxmaj chief xxmaj justice of xxmaj india . xxmaj in case any such functionary disagrees , it should convey its disagreement within that period to the others . xxmaj the others , if they change their earlier opinion , must , within a further period of six weeks , so convey it to the xxmaj chief xxmaj justice of xxmaj india . xxmaj the xxmaj chief xxmaj justice of xxmaj india would then form his final opinion and convey it to the xxmaj president within four weeks , for final action to be taken . xxmaj it is appropriate that a memorandum of procedure be issued by the xxmaj government of xxmaj india to this effect , after consulting the xxmaj chief xxmaj justice of xxmaj india , and with the modifications , if any , suggested by the xxmaj chief xxmaj justice of xxmaj india to effectuate the purpose . … .”(emphasis supplied)it was submitted that even the nine - xxmaj judge xxmaj bench had left the task of drawing up the xxmaj memorandum of xxmaj procedure to the xxmaj government of xxunk was the further submission of the learned xxmaj attorney xxmaj general that the views expressed by this xxmaj court , while disposing of the main controversy would enable the xxmaj government of xxmaj india , to introduce amendments and to redraw the 1 xxmaj supreme xxmaj court xxmaj advocates - on - xxmaj record xxmaj association v. xxmaj union of xxmaj india , ( 1993 ) 4 xxup scc xxup xxunk ( c ) xxmaj no . 13 of 2015 etc . etc . xxmaj page 5 of 16page xxunk xxmaj memorandum of xxmaj procedure with the object of considering the criteria / benchmark for the appointment of xxmaj judges of the higher xxmaj judiciary , including widening the zone of consideration ; to introduce transparency in the matter of appointment of xxmaj judges to the higher judiciary , as would be appropriate , keeping in mind the sensitivity of the issue ; to make the present procedure broad based , by introducing supporting measures , whereby candidates can be screened and evaluated , and complaints against them are evaluated through a xxmaj secretariat constituted for the said purpose , under the control of the xxmaj chief xxmaj justice of xxmaj india , as supplemental ( and not as a substitute ) to the process contemplated through the xxmaj second xxmaj judges case and the xxmaj third xxmaj judges case2 as well as our judgment on merits in the present batch of xxunk may also record , that the introduction of the above changes referred to in the preceding paragraph , are broadly in tune with the majority of the suggestions . xxmaj these were also referred to by us by the committee under the category of “ transparency ” , “ secretariat ” , “ eligibility criteria ” and “ complaints ” , in our order dated 5th xxmaj november , xxunk the course of hearing , we were also informed by the learned xxmaj attorney xxmaj general , that the xxmaj memorandum of xxmaj procedure and introducing amendments therein , had always been prepared by the xxmaj government of xxmaj india in consultation with the xxmaj president of xxmaj india and the xxmaj chief xxmaj justice of xxmaj india . xxmaj this practice , we were informed , had been consistently adopted , in consonance xxunk xxmaj special xxmaj reference xxmaj no . 1 of 1998 , ( 1998 ) 7 xxup scc xxup xxunk ( c ) xxmaj no . 13 of 2015 etc . etc . xxmaj page 6 of 16page 7the directions contained in paragraph 478 of the xxmaj second xxmaj judges case . xxmaj in order to allay any fear that may be entertained by any of the stakeholders , it was submitted that the same procedure would be adopted now , if the task was entrusted to the executive . xxmaj we are in complete agreement with the suggestion of the learned xxmaj attorney xxmaj general . 10.in view of the above , the xxmaj government of xxmaj india may finalize the existing xxmaj memorandum of xxmaj procedure by supplementing it in consultation with the xxmaj chief xxmaj justice of xxmaj india . xxmaj the xxmaj chief xxmaj justice of xxmaj india will take a decision based on the unanimous view of the collegium comprising the four seniormost puisne xxmaj judges of the xxmaj supreme xxmaj court . xxmaj they shall take the following factors into consideration : xxmaj eligibility xxunk xxmaj memorandum of xxmaj procedure may indicate the eligibility criteria , such as the minimum age , for the guidance of the collegium ( both at the level of the xxmaj high xxmaj court and the xxmaj supreme xxmaj court ) for appointment of xxmaj judges , after inviting and taking into consideration the views of the xxmaj state xxmaj government and the xxmaj government of xxmaj india ( as the case may be ) from time to time . xxmaj transparency in the appointment xxunk eligibility criteria and the procedure as detailed in the xxmaj memorandum of xxmaj procedure for the appointment of xxmaj judges ought to be made available on the website of the xxmaj court concerned and on the website of the xxmaj department of xxmaj justice of the xxmaj government of xxmaj india . xxmaj the xxmaj memorandum of xxmaj procedure may provide for an appropriate procedure for xxunk the discussions including recording the xxup w.p. ( c ) xxmaj no . 13 of 2015 etc . etc . xxmaj page 7 of 16page xxunk opinion of the xxmaj judges in the collegium while making provision for the confidentiality of the minutes consistent with the requirement of transparency in the system of appointment of xxmaj judges . xxunk the interest of better management of the system of appointment of xxmaj judges , the xxmaj memorandum of xxmaj procedure may provide for the establishment of a xxmaj secretariat for each xxmaj high xxmaj court and the xxmaj supreme xxmaj court and prescribe its functions , duties and responsibilities . xxunk xxmaj memorandum of xxmaj procedure may provide for an appropriate mechanism and procedure for dealing with complaints against anyone who is being considered for appointment as a xxmaj judge . xxunk xxmaj memorandum of xxmaj procedure may provide for any other matter considered appropriate for ensuring transparency and accountability including interaction with the xxunk ) by the collegium of the xxmaj supreme xxmaj court , without sacrificing the confidentiality of the appointment xxunk . xxmaj it is made clear that the guidelines mentioned above are only broad suggestions for consideration and supplementing the xxmaj memorandum of xxmaj procedure for the faithful implementation of the principles laid down in the xxmaj second xxmaj judges case and the xxmaj third xxmaj judges case . xxup w.p. ( c ) xxmaj no . 13 of 2015 etc . etc . xxmaj page 8 of 16page 912 . xxmaj in view of the above , all matters having been collectively heard , are disposed of . . xxrep 5 . xxrep 10 … j ( xxmaj jagdish xxmaj singh xxmaj khehar ) xxrep 5 . xxrep 10 … j ( xxup j. xxmaj chelameswar ) xxrep 7 . xxrep 10 … j ( xxmaj madan xxup b. xxmaj lokur ) xxrep 7 . xxrep 10 … j ( xxmaj kurian xxmaj joseph ) xxrep 7 . xxrep 10 … xxunk xxmaj delhi ; ( xxmaj adarsh xxmaj kumar xxunk 16 , xxup xxunk ( c ) xxmaj no . 13 of 2015 etc . etc . xxmaj page 9 of 16page xxup xxunk xxup no.1a xxup court xxup no.3 xxup section x , xxup xxunk , xxup xxunk xxup the xxup supreme xxup court xxup of xxup xxunk xxup of proceedingswrit xxunk ) xxmaj xxunk / xxup xxunk xxup court xxup advocates - xxup on - xxup record xxup association xxup and xxup anr . xxmaj petitioner(s ) xxup versusunion xxup of xxup india respondent(s)with xxup w.p.(c ) xxmaj no.23 / xxup 2015w.p.(c ) xxmaj no.70 / xxup 2015w.p.(c ) xxmaj no.83 / xxup xxunk ) xxmaj xxunk / xxup 2015w.p.(c ) xxmaj no.108 / xxup 2015w.p.(c ) xxmaj no.124 / xxup 2015w.p.(c ) xxmaj no.309 / xxup 2015w.p.(c ) xxmaj no.310 / xxup 2015w.p.(c ) xxmaj xxunk / xxunk / xxunk / xxup 2015w.p.(c ) xxmaj no.14 / xxup 2015w.p.(c ) xxmaj no.18 / xxup 2015w.p.(c ) xxmaj no.24 / xxup 2015w.p.(c ) xxmaj no.209 / xxup xxunk xxup by : xxup hon'ble xxup jagdish xxup singh xxup khehar , xxup hon'ble xxup j. xxup chelameswar , xxup hon'ble xxup madan xxup b. xxup lokur , xxup hon'ble xxup kurian xxup joseph xxup and xxup hon'ble xxup adarsh xxup kumar xxup goel , xxunk : 16 / 12 / 2015 xxmaj these petitions were called on for pronouncement of xxmaj orders today . xxmaj for petitioner(s)mr . xxmaj surya xxmaj kant , xxmaj adv . xxmaj in xxup wp 13 / 2015mr . xxmaj dushyant xxmaj xxunk , xxmaj adv . xxmaj mr . xxmaj pranav xxmaj vyas , xxmaj adv . xxmaj for petitioner(s)mr . xxmaj dinesh xxmaj kumar xxmaj garg , xxunk xxup wp 23 / 2015for petitioner(s)mr . xxmaj santosh xxmaj paul , xxmaj adv . xxmaj in xxup wp 70 / 2015mr . xxmaj joseph xxmaj aristotle xxup s. , xxmaj adv . xxup w.p. ( c ) xxmaj no . 13 of 2015 etc . etc . xxmaj page 10 of 16page xxunk petitioner(s)mr . xxmaj prashant xxmaj bhushan , xxunk xxup wp 83 / 2015for petitioner(s)mr . xxmaj anil xxunk , xxmaj sr . xxmaj adv . xxmaj in xxup wp 108 / 2015mr . xxmaj prashant xxmaj kumar , xxmaj adv . xxmaj ms . xxmaj anindita xxmaj pujari , xxmaj adv . xxmaj mr . xxmaj syed xxmaj xxunk , xxmaj adv . xxmaj mr . xxmaj ranvir xxmaj singh , xxmaj adv . xxmaj mr . xxmaj jitendra xxmaj kr . xxmaj mohapatra , xxmaj adv . xxmaj for petitioner(s)mr . xxmaj xxunk xxmaj xxunk , xxunk xxup wp 124 / 2015mr . xxmaj ramesh xxmaj babu xxup m.r. , aorfor petitioner(s)mr . xxunk , in xxunk xxup wp 309 / 2015 xxmaj for petitioner(s)mr . xxmaj xxunk xxmaj bhowmick , xxunk xxup wp 310 / 2015for petitioner(s)mr . xxmaj xxunk xxmaj xxunk , xxunk xxup wp 323 / 2015in xxup xxunk ) 971 / xxunk . xxmaj prachi xxmaj xxunk , xxmaj adv . xxmaj in xxup wp(c ) 341 / xxunk . xxmaj xxunk xxunk , aorfor petitioner(s)mr . xxmaj manohar xxmaj lal xxmaj sharma , in xxunk xxup wp 14 / 2015for petitioner(s)mr . xxup r.k. xxmaj kapoor , in xxunk xxup wp 18 / 2015for petitioner(s)mr . xxmaj xxunk xxmaj bhattacharyya , in xxunk xxup wp 24 / 2015for petitioner(s)mr . xxmaj rajiv xxmaj daiya , in xxunk xxup wp 209 / 2015for respondent(s)mr . xxup p.s. xxmaj narasimha , xxunk . xxup v. xxmaj mohana , xxmaj sr . xxmaj xxunk for xxmaj mrs. xxmaj xxunk p , xxmaj adv . xxup w.p. ( c ) xxmaj no . 13 of 2015 etc . etc . xxmaj page 11 of 16page xxunk . xxmaj nikhil xxmaj rohatgi , xxmaj adv . xxmaj in xxup tp 391 / 2015mr . xxmaj sameer xxmaj rohatgi , xxmaj adv . xxmaj mr . xxunk , xxmaj adv . xxmaj mr . xxmaj xxunk xxmaj khosla , xxmaj adv . xxmaj mr . xxup b.v. xxmaj balaram xxmaj das , aorfor xxunk . xxmaj devashish xxmaj bharuka , xxup aor xxmaj for xxmaj state of xxmaj raj . xxmaj mr . xxmaj shiv xxmaj mangal xxmaj sharma , xxunk xxmaj ms . xxmaj ruchi xxmaj kohli , aorfor xxmaj state ofmr . xxmaj tapesh xxmaj kr . xxmaj singh , xxmaj adv . xxunk . xxmaj mohd . xxmaj xxunk , xxmaj adv . xxmaj mr . xxmaj xxunk xxmaj singh , xxmaj adv . xxmaj for xxmaj state of xxmaj mr . xxunk , xxunk . xxunk , xxmaj adv . xxmaj mr . xxmaj xxunk xxmaj kurup , xxmaj adv . xxmaj mr . xxmaj rohit xxmaj rathi , xxmaj adv . xxmaj mr . xxup a. xxmaj xxunk xxmaj raja , xxmaj adv . xxmaj in xxunk / xxunk . xxmaj arvind xxunk , xxmaj sr . xxmaj adv . xxmaj in xxup xxunk / xxunk . xxmaj gautam xxmaj narayan , xxmaj adv . xxmaj for xxmaj state of xxmaj mr . xxmaj xxunk xxmaj xxunk xxmaj xxunk , xxmaj adv . manipurmr . xxmaj ashok xxmaj kumar xxmaj singh , xxmaj adv . xxmaj for xxmaj state of xxmaj mr . xxmaj sanjay xxmaj kr . xxmaj visen , xxunk xxmaj state of xxunk . xxmaj mishra xxmaj saurabh , aorfor xxmaj state of xxunk . xxmaj xxunk xxmaj singh , xxunk . xxmaj pragati xxmaj neekhra , xxmaj adv . xxmaj for xxmaj govt . ofmr . xxunk , xxunk xxmaj state of xxunk . xxmaj gaurav xxmaj bhatia , aagmr . xxmaj xxunk xxmaj jaiswal , xxmaj adv . xxmaj mr . xxmaj som xxmaj raj xxmaj choudhary , xxmaj adv.for xxmaj mr . xxmaj xxunk xxmaj kumar , aorfor xxunk . xxmaj xxunk xxmaj kumar xxmaj mishra , xxmaj sr . xxmaj adv . xxmaj ms . xxmaj xxunk xxmaj dwivedi , xxmaj adv . xxup w.p. ( c ) xxmaj no . 13 of 2015 etc . etc . xxmaj page 12 of 16page xxunk xxmaj andaman & xxmaj mr . xxunk , xxmaj adv . xxmaj nicobar xxmaj admn . xxmaj mrs . xxunk , aorfor xxmaj state of xxmaj ms . xxmaj hemantika xxmaj wahi , xxunk xxmaj state of xxmaj mr . xxmaj jagjit xxmaj singh xxmaj chhabra , xxmaj adv . xxmaj punjab xxmaj mr . xxmaj gaurav xxmaj xxunk , xxmaj adv.for xxmaj mr. xxmaj kuldip xxmaj singh , aorfor xxmaj state of xxmaj mr . xxunk xxmaj kanna , xxunk xxunk . xxmaj jayant xxmaj patel , xxmaj adv . xxmaj for xxmaj state of xxmaj mr . xxmaj ritu xxmaj raj xxmaj biswas , xxmaj adv . xxunk . xxmaj xxunk xxmaj jain , xxmaj adv.for xxmaj mr . xxmaj gopal xxmaj singh , aorfor xxmaj state of xxmaj mr . xxmaj nishant r xxmaj xxunk , xxunk xxmaj state of xxmaj ms . xxmaj rachna xxmaj srivastava , xxunk xxmaj state of xxmaj ms . xxmaj aruna xxmaj mathur , xxmaj adv . xxunk . xxmaj xxunk xxmaj arputham , xxmaj adv . xxmaj ms . xxmaj anuradha xxmaj arputham , xxmaj adv . xxmaj mr . xxmaj yusuf , xxmaj adv . xxmaj mr . xxmaj shobhit xxmaj nanda , xxmaj adv . xxmaj for xxmaj state of xxmaj mrs . xxunk xxmaj xxunk , xxmaj adv . xxunk . xxmaj edward xxmaj xxunk , xxmaj adv . xxmaj mr . xxmaj amit xxmaj kumar xxmaj singh , xxmaj adv . xxmaj for xxmaj state of xxmaj mr. xxmaj xxunk xxmaj jain , xxmaj adv . xxmaj xxunk xxmaj mr. xxmaj gopal xxmaj singh , aormr . xxmaj gautam xxmaj xxunk , aormr . xxmaj xxunk xxmaj thakur , xxmaj adv.for xxmaj mr. xxmaj varinder xxmaj kr . xxmaj sharma , aormr . xxmaj xxunk xxmaj sankar xxmaj mishra , aormr . xxmaj niranjan xxmaj sahu , xxmaj adv . xxup w.p. ( c ) xxmaj no . 13 of 2015 etc . etc . xxmaj page 13 of 16page xxunk xxmaj mr. xxmaj justice xxmaj jagdish xxmaj singh xxmaj khehar pronounced the xxmaj order of the xxmaj bench comprising xxmaj his xxmaj lordship , xxmaj hon'ble xxmaj mr. xxmaj justice xxup j. xxmaj chelameswar , xxmaj hon'ble xxmaj mr. xxmaj justice xxmaj madan xxup b. xxmaj lokur , xxmaj hon'ble xxmaj mr. xxmaj justice xxmaj kurian xxmaj joseph and xxmaj hon'ble xxmaj mr. xxmaj justice xxmaj adarsh xxmaj kumar xxmaj goel . xxmaj for the reasons mentioned in the xxmaj reportable xxmaj order , which is placed on the file , the xxmaj court while disposing of all the matters collectively heard , directed as xxunk the course of hearing , we were also informed by the learned xxmaj attorney xxmaj general , that the xxmaj memorandum of xxmaj procedure and introducing amendments therein , had always been prepared by the xxmaj government of xxmaj india in consultation with the xxmaj president of xxmaj india and the xxmaj chief xxmaj justice of xxmaj india . xxmaj this practice , we were informed , had been consistently adopted , in consonance with the directions contained in paragraph 478 of the xxmaj second xxmaj judges case . xxmaj in order to allay any fear that may be entertained by any of the stakeholders , it was submitted that the same procedure would be adopted now , if the task was entrusted to the executive . xxmaj we are in complete agreement with the suggestion of the learned xxmaj attorney xxmaj general . 10.in view of the above , the xxmaj government of xxmaj india may finalize the existing xxmaj memorandum of xxmaj procedure by supplementing it in consultation with the xxmaj chief xxmaj justice of xxmaj india . xxmaj the xxmaj chief xxmaj justice of xxmaj india will take a decision based on the unanimous view of the collegium comprising the four seniormost puisne xxmaj judges of the xxmaj supreme xxmaj court . xxmaj they shall take the following factors into consideration : xxup w.p. ( c ) xxmaj no . 13 of 2015 etc . etc . xxmaj page 14 of 16 \" ],xxbos [ ' xxmaj page xxup 1non - xxup reportablein xxup the xxup supreme xxup court xxup of xxup india xxup civil xxup appellate xxup jurisdictioncivil xxup appeal xxup xxunk xxup of 2015 ( xxmaj arising out of xxunk of 2015 ) xxup hari xxup narayan xxup bansal ... xxup appellant(s ) xxup vs . xxup dada xxup dev xxup mandir xxup xxunk xxup sabha ( xxup xxunk xxup gaon ) xxup palam ... xxup respondent(s ) xxup with xxup xxunk xxup of 2015 @ xxunk of 2015 , xxup xxunk xxup of 2015 @ xxunk of 2015 , xxup xxunk xxup of 2015 @ xxunk of 2015 , xxup xxunk xxup of 2015 @ xxunk of 2015 , xxup xxunk xxup of 2015 @ xxunk of 2015 . j u d g m e n xxup tanil xxup r. xxup dave , j.1.leave granted.2.heard the learned xxunk main submission which has been advanced by the learned counsel appearing for the appellants is that the second appeal was dismissed by the xxmaj high xxmaj court without 1 ' ],xxbos [ ' xxmaj page 1crl . xxup a. xxmaj nos . 292 - 293 of xxup xxunk xxup the xxup supreme xxup court xxup of xxup indiacriminal xxup appellate xxup jurisdictioncriminal xxup appeal xxup nos . 292 - 293 xxup of xxunk xxmaj lodhi @ xxmaj xxunk xxmaj lodhi … .. xxmaj appellant versusstate of xxmaj madhya xxmaj pradesh … .. respondentj u d g m e n xxup tshiva xxup kirti xxup singh , xxup j.1 . xxmaj the appellant , charge - sheeted for offences under xxmaj section xxup xxunk , 364 , 376(2)(f ) / 511 and 201 of the xxmaj indian xxmaj penal xxmaj code ( for xxunk ) was tried by the xxmaj twelfth xxmaj additional xxmaj sessions xxmaj judge , xxmaj jabalpur insessions xxmaj trial xxmaj no . 324 of 2011 . xxmaj he was found guilty of committing themurder of a minor girl , aged about seven years and also of xxunk attempt to commit rape on her and for destruction of xxunk to the crime . xxmaj the trial court awarded punishment of death undersection 302 xxup ipc , xxup ri for life and a fine of xxmaj rs.1,000 / - with xxunk for offence under xxmaj section 364 xxup ipc , xxup ri for seven years xxunk fine for offence under xxmaj section 363 xxup ipc , xxup ri for seven years xxunk fine for offence under xxmaj section 376(2)(f ) / 511 xxup ipc and xxup ri for sevenyears with similar fine for offence under xxmaj section 201 xxup ipc . xxmaj all the1page 2crl . xxup a. xxmaj nos . 292 - 293 of xxunk of imprisonment were directed to run concurrently . xxmaj by theimpugned judgment the xxmaj high xxmaj court of xxmaj madhya xxmaj pradesh agreed with thefindings of the trial court and answered the criminal reference xxunk , confirming the death sentence and dismissed the criminalappeal preferred by the appellant . 2 . xxmaj learned senior advocate for the appellant , xxmaj ms. xxmaj meenakshi xxmaj xxunk made an attempt to challenge the conviction of the appellantitself by pointing out absence of any eye - witness of the incident xxunk of the entire prosecution case on circumstantial xxunk . xxmaj learned counsel for the xxmaj state countered the challenge toconviction by submitting that in law there is no hurdle in xxunk purely on circumstantial evidence . xxmaj on facts , he xxunk the trial court considered the entire evidence on record fairly and indetail and found the following five circumstances proved against xxunk accused asked the victim soon before the incident topurchase and bring “ xxmaj gutka ” for him and after sometime xxunk xxunk was last seen alive with the xxunk accused avoided to hand over the keys of his house for thesearch of xxunk and seizure of victim ’s dead body in a gunny xxunk the house of the xxunk 3crl . xxup a. xxmaj nos . 292 - 293 of xxunk of blood - stained clothes including bed sheet from thehouse of accused pursuant to his memorandum xxunk view of submission advanced on behalf of the appellant that thechain of evidence to prove his guilt beyond reasonable doubt was notcomplete , we have examined the relevant evidence and also thediscussion thereof made by the trial court in detail from paragraphs xxunk 32 of its judgment and similar exercise by the xxmaj high xxmaj court . xxmaj on acareful consideration of the evidence of xxunk xxmaj anil xxmaj kumar xxunk ) from where the victim bought “ xxmaj gutka ” for the accused and theevidence of complainant xxmaj xxunk @ xxmaj kshirsagar , xxmaj hemraj , xxmaj ram xxmaj kumar , xxmaj sitaram , xxmaj maharaj xxmaj singh along with medical evidence , seizure report xxunk from the forensic science laboratory confirming the presence ofhuman blood on the gunny bag , bed - sheet and bed - cover which wereseized from the house of accused , we find no good reason to interferewith the findings of the trial court duly confirmed by the xxmaj high xxmaj court thatthe appellant - accused kidnapped the victim and after subjecting her xxunk abuse , xxunk her to death . xxmaj the first submission on behalf ofthe appellant that the chain of circumstantial evidence is not completeand does not prove the guilt of accused is found to be without anysubstance . xxmaj we have no hesitation in confirming the xxunk there was no appeal before the xxmaj high xxmaj court from the side ofthe xxmaj state or the complainant nor there is any such appeal in this xxmaj court , xxmaj we have confirmed the conviction as made by the trial court but we xxunk 4crl . xxup a. xxmaj nos . 292 - 293 of xxunk hesitation in indicating our disapproval of the error committed by thetrial court in convicting the accused only for the attempted rape . xxmaj thepost - mortem report , besides showing injuries on the neck and xxunk several bruise marks on the left and right side of the abdomen aswell as an injury on the left side of the vagina . xxmaj the internal xxunk records thus : “ xxrep 6 … .. in the reproductive organ the xxunk was ruptured . xxmaj mild bleeding and xxunk were found . xxmaj vagina was congested and one finger could be inserted . xxmaj white xxunk coming out of vagina . ” xxmaj in view of aforesaid findings recorded in thepost - mortem report of the seven year old victim duly proved by xxmaj dr. xxunk ) , there was no justification not to hold the accused guilty of xxunk because xxup pw-9 in his oral deposition made a casual statement thatthere was attempt to commit rape on the deceased before her death . xxmaj itmay only be noticed that the xxmaj doctor confirmed that the death of thedeceased was caused by asphyxia from xxunk out the throat bystrangulation of the neck and all the injuries were ante mortem innature . xxmaj it may also be noted here that the post - mortem report ( xxmaj ex . xxmaj xxunk prepared and signed not only by xxmaj dr. xxmaj rakesh xxmaj xxunk ( xxup pw-9 ) but alsoby his colleague xxmaj dr. xxmaj ashish xxmaj raj who had also participated in the xxunk the xxunk that as it may , we have now to consider the next plea advancedon behalf of the appellant that the facts of the case do not make thecrime to be “ rarest of rare ” and hence in such a case the xxmaj courts xxunk 5crl . xxup a. xxmaj nos . 292 - 293 of xxunk not have awarded the death sentence . xxmaj in support of the xxunk , learned senior counsel has submitted that at the time of xxunk was aged only about twenty seven years and there was nomaterial to negate the chance of accused being reformed on account ofsentence of imprisonment and gaining further maturity . xxmaj on the basis ofinjuries which can be associated with rape , learned senior counselsubmitted that no doubt it was a heinous offence as the victim was xxunk years old but there were neither any broken bones nor xxunk etc . to make out a case of extreme brutality . xxmaj learned seniorcounsel referred to the statement of the accused recorded under xxmaj section313 of the xxmaj code of xxmaj criminal xxmaj procedure to point out that since xxunk the accused was living alone as his wife had deserted him and healso admitted that there was only one case under xxmaj section 354 xxunk against him . xxmaj reference was also made to xxunk of the accused recorded by the police in presence of somewitnesses to show that as per such statement the accused killed thedeceased because of loud cries by her . xxmaj according to learned counsel themurder was in a state of panic and not a premeditated act and therefore , the appellant deserves a lenient punishment , anything other than xxunk . xxmaj arora , learned senior counsel for the appellant placedreliance upon judgment in the case of xxmaj swamy xxmaj xxunk ) v . xxmaj state of xxmaj xxunk to underscore that although xxmaj xxunk ( 2008 ) 13 xxup scc xxunk 6crl . xxup a. xxmaj nos . 292 - 293 of xxunk ’s conviction under xxmaj sections 302 and 201 of the ipcwas affirmed with a finding that the crime was a cold xxunk yet this xxmaj court was not convinced to confirm the sentence ofdeath even after discussing the diabolical crime in which a xxunk woman fell in trap , divorced her husband married theaccused and suffered death at his hands only for lust of her xxunk . xxmaj the dead body was found buried under the floor of xxunk house , obviously to conceal the ghastly crime . xxmaj in such acrime , while xxunk over the vexed issue of adequate sentence inlieu of death sentence , this xxmaj court held that the xxmaj court had thepower to substitute death by imprisonment for life and also todirect that the convict would not be released from prison for therest of his life . a xxmaj constitution xxmaj bench judgment in the case ofunion of xxmaj india v. xxup v. xxmaj sriharan alias xxmaj murugan & xxmaj ors.2 has alsobeen cited to show that judgment in the case of swamyshraddananda ( 2 ) ( supra ) has been approved and followed . xxmaj inparagraphs 89 and 90 of this judgment it was explained that lifeimprisonment means the whole life span of the person convictedand therefore in the facts of a case while not confirming deathpenalty , this xxmaj court may , while exercising its power to impose the2 ( 2016 ) 7 xxup scc 16page 7crl . xxup a. xxmaj nos . 292 - 293 of xxunk of life imprisonment , specify the period upto which thesentence of life must remain intact so as to be proportionate to thenature of the crime xxunk submissions advanced on behalf of the xxmaj state will beconsidered hereinafter , but keeping in mind all the submissions , itis clear that there is no opposition to the contention advanced bylearned senior counsel for the appellant on the basis of xxunk ) ( supra ) and the xxmaj constitution xxmaj bench xxmaj judgment xxunk ( supra ) . xxmaj in that view of the matter and even otherwise weare in respectful agreement with the views expressed in xxunk . xxmaj the judicial innovation of xxunk the gap xxunk sentence on the one extreme and only 14 years of xxunk in the name of life imprisonment on the other , in ourview serves a laudable purpose as explained in those judgmentsand does not violate any positive mandate of law in the indianpenal xxmaj code or in the xxmaj code of xxmaj criminal xxmaj procedure . xxmaj hence , for doingcomplete justice in any case , this court can definitely follow the lawlaid down in the aforesaid judgments even by virtue of xxmaj article 142of the xxmaj constitution of xxmaj india . xxmaj the innovative approach reflected inthe aforesaid judgments , on the one hand helps the convict ingetting rid of death penalty in appropriate cases , on the other xxunk 8crl . xxup a. xxmaj nos . 292 - 293 of xxunk care of genuine concerns of the victim including the xxunk ensuring that life imprisonment shall actually xxunk for whole of the natural life or to a lesser extent asindicated by the court in the light of facts of a particular case . xxmaj since there is no party who is actually a xxunk on account of suchan approach in appropriate cases , we feel no hesitation inaccepting the submissions advanced by the appellant . xxmaj hence thelaw is reiterated that in appropriate cases where this court xxunk in maintaining death sentence , it may order that theconvict shall undergo imprisonment for whole of natural life or to alesser extent as may be xxunk counsel for the xxmaj state has made a strong attempt tosupport the death sentence . xxmaj according to him the judgments in thecase of xxmaj rajendra xxmaj pralhadrao xxmaj wasnik v. xxmaj state of xxmaj xxunk xxmaj shankar xxmaj kisanrao xxmaj khade v. xxmaj state of xxmaj xxunk xxunk relevant factors which should be looked for and examined forawarding or confirming death sentence . xxmaj he highlighted xxunk as brutality , helplessness of the victim , xxunk xxunk - meditated attack as well as societal concern in respect of a3 ( 2012 ) 4 xxup scc 374 ( 2013 ) 5 xxup scc xxunk ' ]\n",
       "y: CategoryList\n",
       "Overruled,Overruled,Overruled,Overruled,Overruled\n",
       "Path: .;\n",
       "\n",
       "Valid: LabelList (367 items)\n",
       "x: TextList\n",
       "xxbos [ ' xxup reportablein xxup the xxup supreme xxup court xxup of xxup indiacriminal xxup appellate xxup jurisdictioncriminal xxup appeal xxup no . 727 of xxunk xxmaj singh … appellantversusthe xxmaj state of xxmaj chhattisgarh and xxmaj anr . … xxmaj respondent xxup withcriminal xxup appeal xxup no . 1197 of xxunk xxmaj ram & xxmaj anr . … appellantsversusstate of xxmaj chhattisgarh … xxmaj respondent j u d g m e n xxup tmohan xxup m. xxup shantanagoudar , xxup j. xxmaj these appeals arise out of the judgment dated xxunk the xxmaj high xxmaj court of xxmaj chhattisgarh at xxmaj bilaspur in xxmaj criminal xxunk . 178 of 2011 and xxmaj criminal xxmaj appeal xxmaj no . 179 of 2011 confirmingthe judgment and order of conviction dated 20.01.2011 passedby the xxmaj additional xxmaj sessions xxmaj judge , xxmaj fast xxmaj track xxmaj court , xxunk , xxmaj district xxmaj bilaspur in xxup s.t. xxmaj no . 57 of 2010 convicting theappellants and other accused for offences punishable undersections 148 and 302 / 149 of the xxmaj indian xxmaj penal xxmaj code ( for xxunk ) and sentencing them xxunk case of the prosecution is that on account of xxunk with xxmaj pitambar xxmaj singh ( since deceased ) , the xxmaj accused xxmaj no . 1 xxunk xxmaj singh ( appellant in xxmaj criminal xxmaj appeal xxmaj no . 727 of 2015 ) , on22nd xxmaj january , 2007 , at evening time , was talking with the otheraccused regarding preparation to kill xxmaj pitambar xxmaj singh . xxmaj xxunk was heard by xxmaj sunderlal xxmaj rathore @ xxmaj sunder xxunk ( xxup pw \\ xad11 ) and xxmaj xxunk xxmaj singh ( xxup pw \\ xad12 ) , who xxunk through the same place . xxmaj further , it was the case of theprosecution that all the accused , armed with deadly weapons , went towards the field of one xxmaj bhagwat xxmaj seth and committed themurder of xxmaj pitambar xxmaj singh . xxup pw \\ xad9 and xxup pw \\ xad16 , who were near thescene of the occurrence , rushed to the spot after hearing the xxunk the injured , and saw all the accused assaulting the xxunk lathis and tabbal ( an agriculture implement made up ofiron ) . xxmaj it is stated by xxup pw \\ xad9 and xxup pw \\ xad16 that the tabbal was held bythe xxmaj accused xxmaj no . 4 , namely , xxmaj ashok xxmaj singh . xxmaj the injured xxunk and the accused fled away . xxmaj the dead body was seen by one xxmaj drupad xxmaj singh ( xxup pw \\ xad1 ) at xxunk the next morning , who in turn informed xxmaj nar xxmaj singh xxunk \\ xad17 ) , the informant . xxmaj thereafter , xxmaj drupad xxmaj singh and xxmaj nar xxunk together went to the place where the dead body was lying , and saw that xxmaj pitambar xxmaj singh was murdered . xxmaj the deceased wasthe uncle of the xxunk xxmaj trial xxmaj court as well as the xxmaj first xxmaj appellate xxmaj court , believing the testimonies of xxup pw \\ xad9 and xxup pw \\ xad16 who were the eyewitnesses of the incident , and the testimonies of xxup pw \\ xad11 and xxup pw \\ xad12 who deposed about the conspiracy to commit the murder ofthe deceased , convicted the accused for the offences punishableunder xxmaj sections 148 and 302 / 149 xxup ipc . xxmaj it is pertinent to state thatalthough charge was also framed under xxmaj section 120 \\ xadb xxup ipc , theaccused were acquitted in respect of the said xxunk xxmaj sanjay xxmaj hegde , learned senior counsel appearing for theappellant xxmaj balwan xxmaj singh , and xxmaj shri xxmaj rajeev xxmaj kumar xxmaj bansal , xxunk appearing for appellants xxmaj xxunk xxmaj ram and xxmaj xxunk xxunk , drew the attention of the xxmaj court to the relevant xxunk the depositions of the important witnesses , and submitted thatthe prosecution had planted the eye witnesses , namely , xxup pw \\ xxunk xxup pw \\ xad16 for the purpose of prosecuting the accused , xxunk witnesses were not present near the scene of occurrence . xxmaj they contended that the statements of these alleged eyewitnesses were recorded about eight days after the incident inquestion , though they were very much present in the village xxunk the police knew that these witnesses were the alleged eyewitnesses of the incident . xxmaj according to the learned counsel forthe appellants , the evidence of xxup pw \\ xad11 and xxup pw \\ xad12 is also vague , cryptic , and unreliable inasmuch as the courts below xxunk the accused for the offence under xxmaj section 120 \\ xadb xxunk contra , the learned counsel appearing for the xxmaj xxunk in support of the judgments of the courts below . 6.we find from the records that though the incident tookplace on 22nd xxmaj january , 2007 , the statements of the alleged eyewitnesses , namely , xxup pw \\ xad9 and xxup pw \\ xad16 , were recorded after xxunk of the incident . xxmaj the prosecution has tried to explain xxunk in recording the statement of the eye witnesses bycontending that they were scared of the accused , xxunk xxmaj singh who was the village xxmaj sarpanch ( xxunk ) ; the accused xxmaj balwan xxmaj singh was stated to be xxunk influential ; only after some of the accused were arrested , these witnesses came to the village and gave their statements tothe police during the course of investigation ; till such time , theeye witnesses xxup pw \\ xad9 and xxup pw \\ xad16 did not come to the village at alland were staying in different villages in their xxunk houses . xxmaj we are conscious of the fact that mere delay in recording ofthe statement of the eye witness by the investigating xxunk ipso facto raise suspicion in the mind of the xxmaj court aboutthe veracity of the prosecution case , more particularly , about theveracity of the eye witnesses . xxmaj in the normal course , this xxmaj courtwould have accepted the explanation offered by the witnesses orthe prosecution for not recording the statements at an xxunk in time , but the facts in this case are different inasmuch asit is admitted by the prosecution witnesses , more particularly bythe investigating officer , that xxup pw \\ xad9 was very much present in thevillage . xxup pw \\ xad2 and the investigating officer , during the course of5the investigation , had seen xxup pw \\ xad9 , being the xxmaj patel ( xxmaj patwari ) of thevillage . xxup pw \\ xad2 had admitted in the cross \\ xadexamination that he hadseen xxup pw \\ xad9 at the place of the incident when the police had cometo the village after the registration of the xxmaj first xxmaj information xxmaj report . xxup pw \\ xad2 is none else but the younger brother of xxup pw \\ xad9 , and theywere residing separately in one house . xxmaj thus , the evidence of xxup pw \\ xad2 can not be disbelieved insofar as it relates to the presence ofpw \\ xad9 in the village , and on the spot when the police had startedinvestigation . xxmaj furthermore , the investigating officer also testifiedthat immediately after reaching the village xxmaj semaria , where theincident took place , he had called the xxmaj patel ( xxup pw \\ xad9 ) . xxmaj xxunk admitted that he called xxup pw \\ xad9 to the place of theoccurrence and that he ( xxup pw \\ xad9 ) was present during the course ofthe investigation . xxup pw \\ xad9 , being the xxmaj patel of the village , could nothave kept the fact about the incident or about the complicity ofthe accused from the investigating officer at the first instance , had he really been an eye witness to the incident . xxmaj theinvestigating officer had proceeded to depose that , on his own , hehad recorded the statement of xxup pw \\ xad9 on xxunk , which meansthat xxup pw \\ xad9 had not informed the investigating officer that he wasan eye witness to the incident . xxmaj the investigating officer , on xxunk accord , had recorded the statement of xxup pw \\ xad9 . xxmaj it is thus clearthat the investigating officer knew very well , on the first day itself , that xxup pw \\ xad9 was an eye witness . xxmaj there was no reason as to why theinvestigating officer did not record the statement of the so \\ xxunk witness at the earliest point of time , more particularly when , at that point in time , the investigating officer did not have xxunk about the murderers . xxup pw \\ xad9 and xxup pw \\ xad16 are close friends , and on the date of theincident , had gone together to see xxmaj xxunk dance in the xxunk night , and at that point in time , both of them heard xxunk of the deceased and rushed to the spot and saw the xxunk the murder of the deceased . xxmaj it is also the evidence ofpw \\ xad9 and xxup pw \\ xad16 that the accused saw these witnesses at thetime of the occurrence of the murder inasmuch as thesewitnesses told all the accused not to beat / assault the deceased . xxmaj on hearing such utterance of these witnesses , the xxunk tried to chase them , but they fled away from the scene . xxmaj if this were true , then xxup pw \\ xad9 , who was present at the spot duringthe course of the investigation on the first day itself , would nothave left the police uninformed about the presence of xxup pw \\ xad16 xxunk is also relevant to note that xxup pw \\ xad16 is from a different village , namely , xxmaj xxunk , which is stated to be 75 xxup k.m. away fromthe place of incident , and on the date of the incident he had cometo the village xxmaj semaria where the incident had taken place . xxmaj theplace of work of xxup pw \\ xad16 is xxmaj xxunk , which is stated to be 70 xxunk from xxmaj semaria village . xxmaj it is curious to note that xxup pw \\ xad9 andpw \\ xad16 met on the date of incident after a gap of about 15 years , and thereafter went to watch the dance performance . xxmaj in ourconsidered opinion , the story , as put forth by the prosecution , that xxup pw \\ xad9 did not tell the investigating officer about the presenceof xxup pw \\ xad16 , is not believable . xxmaj according to xxup pw \\ xad16 , he came to thevillage xxmaj semaria after eight days , i.e. after the arrest of a xxunk , and gave the statement to the xxunk per the case of the prosecution , xxmaj balwan xxmaj singh is xxunk and influential person and the eye witnesses xxunk of him . xxmaj it is relevant to note that even at the time of therecording of the statements of xxup pw \\ xad9 and xxup pw \\ xad16 after eight daysof the incident , xxmaj balwan xxmaj singh was not arrested . xxmaj he was xxunk about two months from the recording of the statements ofthese witnesses . xxmaj it is relevant to note that these witnesses xxunk scared of other accused who were arrested . xxmaj be that as it may , we find that the whole story of the prosecution about thepresence of xxup pw \\ xad9 and xxup pw \\ xad16 on the spot at the time of xxunk to be artificial and xxunk prosecution also relies upon the evidence relating torecovery of sticks and tabbal which were bloodstained . xxmaj suchevidence may not be helpful to the prosecution in this caseinasmuch as there is no evidence to show that these articles xxunk with human blood , and more particularly with blood ofthe same blood group as that of the deceased . xxmaj as per theforensic xxmaj science xxmaj laboratory xxmaj report , the blood stains xxunk , and their origin could not be determined . xxmaj in xxmaj sattatiya v. xxmaj state of xxmaj maharashtra , ( 2008 ) 3 xxup scc xxunk of the crucial factors that had led this xxmaj court to reverse theconviction was that the bloodstains on the items seized in therecovery could not be linked with the blood of the deceased . xxmaj thisfactor was treated as a serious lacuna in the case of theprosecution . xxmaj similarly , in xxmaj shantabai and xxmaj ors . v. xxmaj state ofmaharashtra , ( 2008 ) 16 xxup scc 354 , the bloodstains on some of9the clothes seized from the accused in recovery belonged to adifferent blood group from that of the blood group of xxunk on the clothes of the deceased and on the sample of soil , axe , stones etc . which were taken from the spot by theinvestigating officer . xxmaj as a result of this mismatch , it was held thatthis circumstance was not proved against the accused . xxmaj it is also important to note the following observations madeby a xxmaj constitution xxmaj bench of this xxmaj court in xxmaj raghav xxunk & xxmaj ors . v. xxmaj state of xxup u.p. , xxup air ( 1963 ) xxup sc xxunk . xxmaj in this connection , reference may also bemade to circumstances 9 and 10 , relating to therecovery of the bloodstained earth from the house . xxmaj the bloodstained earth has not been proved to xxunk with human blood . xxmaj again , we are of opinionthat it would be far \\ xxunk to conclude from themere presence of bloodstained earth that earth xxunk with human blood and that the human xxunk of xxmaj kamla and xxmaj xxunk . xxmaj thesecircumstances have , therefore , no evidentiary value . ” ( xxmaj emphasis supplied)therefore , the five \\ xadjudge bench had ruled that in that casethe prosecution needed to prove that the bloodstains found onthe earth or the weapons were of a human origin and were of thesame blood group as that of the xxunk are also conscious of the fact that , at times , it may bevery difficult for the serologist to detect the origin of the xxunk to the disintegration of the serum , or insufficiency of blood \\ xadstains , or xxunk changes etc . xxmaj in such situations , thecourt , using its judicious mind , may deny the benefit of doubt tothe accused , depending on the facts and circumstances of eachcase , if other evidence of the prosecution is credible and xxunk doubt does not arise in the mind of the xxmaj court aboutthe investigation . xxmaj thus , in the case of xxup r. xxmaj shaji v. xxmaj state of xxmaj kerala , ( 2013 ) xxup 14scc 266 , this xxmaj court had xxunk . a failure by the serologist to detect theorigin of the blood due to disintegration of xxunk does not mean that the blood stuck on theaxe could not have been human blood at all . xxmaj sometimes it is possible , either because the stain isinsufficient in itself , or due to xxunk and xxunk xxunk , that xxunk may fail to detect the origin of the xxunk question . xxmaj however , in such a case , unless xxunk is of a reasonable dimension which xxunk conscientious mind may entertain withsome objectivity , no benefit can be claimed by theaccused in this regard . xxmaj once the recovery is madein pursuance of a disclosure statement made xxunk accused , the matching or non \\ xxunk ofblood xxunk ) loses xxunk observations were made by this xxmaj court in the case xxunk xxmaj singh v. xxmaj state of xxmaj rajasthan , ( 2001 ) 2 xxup scc 205 , whereinit was observed that it was not possible to accept the submissionmade on behalf of the accused that in the absence of the xxunk the origin of the blood , the accused could not havebeen convicted , inasmuch as it was only because of the lapse oftime that blood could not be classified successfully . xxmaj in the case of xxmaj jagroop xxmaj singh v. xxmaj state of xxmaj punjab , ( xxunk xxup scc 768 , this xxmaj court had ruled that as the recovery was madepursuant to a disclosure statement made by the accused , and xxunk report had found that the blood was of human origin , the non \\ xaddetermination of the blood group had lost itssignificance . xxmaj in the case of xxmaj state of xxmaj rajasthan v. xxmaj teja xxmaj ram andothers , ( 1999 ) 3 xxup scc 507 , the xxmaj court had observed that thefailure of the serologist to detect the origin of the blood , due xxunk of the serum , did not mean that the blood stuck onthe weapon could not have been human blood at all . xxmaj in xxunk , it was noted that it could not be said that in all caseswhere there was a failure in detecting the origin of blood , thecircumstance arising from recovery of the weapon would xxunk to xxunk . xxmaj it was thus observed that unless the xxunk of a reasonable dimension which a judicially xxunk entertained with some objectivity , no benefit could beclaimed by the xxunk , we can not lose sight of the fact that the accusedwould be in a disadvantageous position in case if theaforementioned dictum laid down by this xxmaj court in the cases xxunk xxmaj shaji ( supra ) , xxmaj xxunk xxmaj singh ( supra ) , xxmaj jagroop xxmaj singh ( supra)and xxmaj teja xxmaj ram ( supra ) relating to the blood \\ xadstains is applied ineach and every case . xxmaj non \\ xxunk of blood \\ xxunk or origin ofthe blood may assume importance in cases where the xxunk a defence or alleges mala fides on the part of theprosecution , or xxunk the prosecution of fabricating theevidence to wrongly implicate him in the commission of xxunk the case of xxmaj john xxmaj pandian v. xxmaj state xxmaj represented byinspector of xxmaj police , xxmaj tamil xxmaj nadu , ( 2010 ) 14 xxup scc 129 , thiscourt , on facts , observed that the evidence of recovery ofweapons was credible . xxmaj the xxmaj forensic xxmaj science xxmaj report ( xxup fsl ) xxunk disclosed that the blood was of human origin . xxmaj the xxmaj courtproceeded to conclude that since the evidence of recovery xxunk was proved to the satisfaction of the xxmaj court , it wassufficient that the prosecution had proved that the xxunk of human origin , even though the blood group could not xxunk cases discussed above highlight the burden that theprosecution would ordinarily have to discharge , depending on theother facts and circumstances of the case , for the xxunk to recovery to be considered against the accused . xxmaj at thesame time , as mentioned above , we are conscious of the fact thatit may not always be possible to inextricably link the xxunk the items seized in recovery to the blood of the deceased , dueto the possibility of disintegration of bloodstains on account ofthe time \\ xxunk in carrying out the recovery . xxmaj for this reason , xxunk xxmaj dayal v. xxmaj state of xxmaj rajasthan , ( 2018 ) 8 xxup scc 127 , xxunk of us ( xxmaj mohan xxup m. xxmaj shantanagoudar xxup j. ) had the occasion xxunk the judgment , this xxmaj court , relying on xxmaj teja xxmaj ram ( xxunk held that the failure to determine the blood group of xxunk collected from the scene of offence would not xxunk to the case of the prosecution . xxmaj in xxmaj prabhu xxmaj dayal case(supra ) , although the xxup fsl report could not determine the xxunk of the bloodstains on account of disintegration , the xxunk disclosed that the bloodstains were of human origin , andthe chain of circumstantial evidence was completed by thetestimonies of the other witnesses as well as the reportssubmitted by the xxmaj ballistic xxmaj expert and the xxmaj forensic sciencelaboratory regarding the weapon used to commit xxunk the aforementioned discussion , we can xxunk if the recovery of bloodstained articles is proved beyondreasonable doubt by the prosecution , and if the investigation wasnot found to be tainted , then it may be sufficient if theprosecution shows that the blood found on the articles is ofhuman origin though , even though the blood group is not xxunk of disintegration of blood . xxmaj the xxmaj court will have to come tothe conclusion based on the facts and circumstances of xxunk , and there can not be any fixed formula that the prosecutionhas to prove , or need not prove , that the blood groups xxunk the instant case , then , we could have placed xxunk on the recovery , had the prosecution at least proved thatthe blood was of human origin . xxmaj as observed supra , xxunk the evidence of pws 9 and 16 , the prosecution xxunk to xxunk the case from stage to stage . xxmaj hence , in theabsence of positive material indicating that the stained blood wasof human origin and of the same blood group as that of theaccused , it would be difficult for the xxmaj court to rely upon theaspect of recovery of the weapons and tabbal , and such xxunk not help the case of the xxunk remains is the evidence of xxup pw \\ xad11 and xxup pw \\ xad12 , whohave deposed about the preparation of conspiracy of the accusedto commit the murder of the deceased . xxmaj as mentioned earlier , allthe accused were acquitted for the offence of conspiracy , whichmeans that there are concurrent findings of both the courtsbelow that the prosecution has failed to prove the aspect ofconspiracy of the accused to commit the murder of the xxunk ' ],xxbos [ ' xxmaj page 11 xxup in xxup the xxup supreme xxup court xxup of xxup india xxup criminal xxup appellate xxup jurisdictioncriminal xxup appeal xxup no . xxunk xxup of 2015 ( xxmaj arising out of xxup s.l.p. ( xxmaj crl ) xxup no . xxunk of xxup xxunk xxup pal xxup singh … … xxup appellantversusstate xxup of xxup m.p. xxup and xxup ors . … … xxup respondentsj u d g m e n xxup tv . xxup gopala xxup gowda , xxup j. xxmaj leave granted.2.this criminal appeal by special leave is directed against the impugned judgment and order dated 04.03.2014 passed in xxmaj criminal xxmaj appeal xxmaj xxunk of 2013 by the xxmaj high xxmaj court of xxup m.p. at xxmaj gwalior whereby the xxmaj high xxmaj court has upheld the decision of the xxmaj sessions xxmaj court , xxmaj bhind , xxup m.p. ( the trial court ) in xxmaj sessions xxmaj case xxmaj no . 293 / 2010 by acquitting all the accused i.e. reportablepage xxunk nos . 2 to 6 herein . 3.the appellant herein made a written complaint dated xxunk regarding the death of his daughter , xxmaj ranjana ( hereinafter referred to as “ the deceased ” ) to the xxmaj addl . xxmaj superintendent of xxmaj police , xxmaj bhind , xxup m.p. xxmaj the xxup fir was registered on xxunk . xxmaj the trial court after the examination of evidence on record passed the judgment and order dated xxunk acquitting all the accused of the charges levelled against them for the offences punishable under xxmaj sections xxup 498a and xxup 304b of xxmaj indian xxmaj penal xxmaj code , 1860 ( for short “ xxup ipc ” ) and xxmaj section 4 of the xxmaj dowry xxmaj prohibition xxmaj act , 1961 and alternatively for the offence punishable under xxmaj section 302 of xxup ipc . xxmaj being aggrieved of the decision of the trial court , the appellant approached the xxmaj high xxmaj court against the order of acquittal of respondent nos . 2 to 6 . xxmaj the xxmaj high xxmaj court vide its judgment and order dated 04.03.2014 has upheld the trial court ’s decision of acquittal of all the accused persons . xxmaj the impugned judgment and order of the xxmaj high xxmaj court is challenged in this appeal before this xxmaj court questioning its correctness . xxmaj page xxunk aggrieved of the impugned judgment and order the appellant being the legal heir of the deceased filed an appeal before the xxmaj high xxmaj court under proviso to xxmaj section 372 of the xxmaj code of xxmaj criminal xxmaj procedure , 1973 ( for short “ the xxmaj cr . xxup p.c. ” ) . xxmaj the xxmaj high xxmaj court , however , has mechanically disposed of the appeal by passing a cryptic order without examining as to whether the leave to file an appeal filed by the appellant as provided under sub - xxmaj section ( 3 ) to xxmaj section 378 of xxmaj cr . xxup p.c. can be granted or not . xxmaj the correctness of the same is questioned by the appellant in this appeal inter alia urging various grounds . 5.mr . xxmaj prashant xxmaj shukla , the learned counsel on behalf of the appellant placed strong reliance upon the judgment rendered by xxmaj delhi xxmaj high xxmaj court in xxmaj ram xxmaj phal v. xxmaj state & xxmaj ors.1 wherein the xxmaj full xxmaj bench , after interpreting the proviso to xxmaj section 372 read with xxmaj section 2(wa ) of the xxmaj cr . xxup p.c. , has held that the father of the victim has locus standi to prefer an appeal , being a private party coming under the 1 221 ( 2015 ) xxup dlt 1page xxunk of victim under xxmaj section 2(wa ) of the xxmaj cr . xxup p.c. xxmaj it was contended by him that in the instant case , the appellant , being father of the deceased , has locus standi to file an appeal before the xxmaj high xxmaj court against the order of acquittal under proviso to xxmaj section 372 without seeking the leave of the xxmaj high xxmaj court as required under sub - xxmaj section ( 3 ) of xxmaj section 378 of xxmaj cr . xxup p.c. xxmaj thus , the appeal filed by the appellant was maintainable before the xxmaj high xxmaj court of xxup m.p. under the abovesaid provisions of xxmaj cr . xxup p.c. xxmaj he further urged that undoubtedly , the said legal aspect of the matter has not been dealt with by the xxmaj high xxmaj court and the appeal was decided on merits but without examining as to whether the leave to file an appeal by the appellant is required to be granted or not under the above provisions of xxmaj cr . xxup p.c. 6.the learned counsel for the appellant drew the attention of this xxmaj court towards the decision rendered by xxmaj delhi xxmaj high xxmaj court in the case referred to supra , wherein it has elaborately adverted to the definition of victim as defined under xxmaj section 2(wa ) of xxmaj cr . xxup p.c. and proviso to xxmaj section 372 of xxmaj cr . xxup p.c. and has xxmaj page xxunk them in the light of their legislative history . xxmaj it has also adverted to 154th xxmaj law xxmaj commission xxmaj report of 1996 in connection with the said legal provision of xxmaj cr . xxup p.c. and has succinctly held that where the victim is unable to prefer an appeal then the appeal can be preferred by persons - such as relatives , foster children , guardians , xxunk or live - in partners , etc . of the victim , who are in a position to do so in his / her behalf . xxmaj he urged that in the instant case , there is no need for the appellant , being the father of the deceased , to seek leave of the xxmaj high xxmaj court as provided under sub - xxmaj section ( 3 ) to xxmaj section 378 of xxmaj cr . xxup p.c. to maintain the appeal before it as it is his statutory right to prefer an appeal against the order of acquittal of all accused persons in view of proviso to xxmaj section 372 of xxmaj cr . xxunk was further urged by him that the xxmaj high xxmaj court ought to have granted the leave to the appellant to file an appeal by the appellant as required under sub - xxmaj section ( 3 ) of xxmaj section 378 of xxmaj cr . xxup p.c. and thereafter it ought to have examined and disposed of the appeal on merits . xxmaj page xxunk further vehemently contended that the appeal before the xxmaj high xxmaj court was filed by the appellant challenging the acquittal order passed by the trial court but the xxmaj high xxmaj court has concurred with the decision of the trial court mechanically without re - appreciating the evidence on record . xxmaj he further submitted that the decision of the xxmaj high xxmaj court suffers from error in law as the xxmaj high xxmaj court , being the xxmaj appellate xxmaj court , was required to re - appreciate the evidence on record to exercise its appellate jurisdiction in the appeal filed by the appellant with reference to the legal contentions urged in the memorandum of appeal but it has failed to do so . xxmaj the xxmaj high xxmaj court in a very cursory and casual manner has held that after a perusal of evidence on record it found no reason to interfere with the decision of the trial court as the prosecution has failed to establish beyond reasonable doubt that the charges levelled against all the accused are proved and it has dismissed the appeal by passing a cryptic order , which amounts to non - exercise of appellate jurisdiction properly by the xxmaj high xxmaj court . xxmaj thus , the xxmaj page xxunk judgment and order of the xxmaj high xxmaj court is vitiated in law and therefore , the same is required to be set aside by this xxmaj court . xxmaj he further requested this xxmaj court to remand the matter to the xxmaj high xxmaj court for re - appreciation of the evidence on record and pass appropriate order on merits of the case after hearing both the parties . 9.we have carefully examined the above mentioned provisions of xxmaj cr . xxup p.c. and the xxmaj full xxmaj bench decision of xxmaj delhi xxmaj high xxmaj court referred to supra upon which strong reliance is placed by the learned counsel for the appellant . xxmaj there is no doubt that the appellant , being the father of the deceased , has locus standi to prefer an appeal before the xxmaj high xxmaj court under proviso to xxmaj section 372 of xxmaj cr . xxup p.c. as he falls within the definition of victim as defined under xxmaj section 2(wa ) of xxmaj cr . xxup p.c. to question the correctness of the judgment and order of acquittal passed by the trial court in favour of respondent nos . 2 to 6 in xxmaj sessions xxmaj case xxmaj no . 293 / 2010 . 10.the proviso to xxmaj section 372 of xxmaj cr . xxup p.c. was amended by xxmaj act xxmaj no.5 of 2009 . xxmaj the said proviso confers a xxmaj page xxunk right upon the victim , as defined under xxmaj section 2(wa ) of xxmaj cr . xxup p.c. to prefer an appeal against an order passed by the trial court either acquitting the accused or convicting him / her for a lesser offence or imposing inadequate compensation . xxmaj in this regard , the xxmaj full xxmaj bench of xxmaj delhi xxmaj high xxmaj court in the case referred to supra has elaborately dealt with the legislative history of insertion of the proviso to xxmaj section 372 of xxmaj cr . xxup p.c. by xxmaj act xxmaj no . 5 of 2009 with effect from 31.12.2009 . xxmaj the relevant provision of xxmaj section 372 of xxmaj cr . xxup p.c. reads xxunk . xxmaj no appeal shall lie from any judgment or order of a xxmaj criminal xxmaj court except as provided for by this xxmaj code or by any other law for the time being in force : xxmaj provided that the victim shall have a right to prefer an appeal against any order passed by the xxmaj court acquitting the accused or convicting for a lesser offence or imposing inadequate compensation , and such appeal shall lie to the xxmaj court to which an appeal ordinarily lies against the order of conviction of such xxunk said amendment to the provision of xxmaj section 372 of xxmaj cr . xxup p.c. was prompted by 154th xxmaj law xxmaj commission xxmaj report . xxmaj the said xxmaj law xxmaj commission xxmaj report has undertaken a comprehensive review of xxmaj cr . xxup p.c. and its xxmaj page xxunk were found to be very appropriate in amending the xxmaj cr . xxup p.c. particularly in relation to provisions concerning arrest , custody and remand , procedure to be followed in summons and warrant - cases , compounding of offences and special protection in respect of women and inquiry and trial of persons of unsound mind . xxmaj further , the xxmaj law xxmaj commission in its report has noted the relevant aspect of the matter namely that the victims are the worst sufferers in a crime and they do not have much role in the xxmaj court proceedings . xxmaj they need to be given certain rights and compensation so that there is no distortion of the criminal justice system . xxmaj the said report of the xxmaj law xxmaj commission has also taken note of the views of the xxunk , xxunk and reformers of criminal justice system at length and has focused on xxunk , control of victimization and protection of the victims of crimes and the issues of compensation to be awarded in favour of them . xxmaj therefore , the xxmaj parliament on the basis of the aforesaid xxmaj report of the xxmaj law xxmaj commission , which is victim oriented in approach , has amended certain provisions of the xxmaj cr . xxup p.c. and in that amendment the xxmaj page xxunk to xxmaj section 372 of xxmaj cr . xxup p.c. was added to confer the statutory right upon the victim to prefer an appeal before the xxmaj high xxmaj court against acquittal order , or an order convicting the accused for the lesser offence or against the order imposing inadequate compensation . 11.the xxmaj full xxmaj bench of the xxmaj high xxmaj court of xxmaj delhi after examining the relevant provisions under xxmaj section 2(wa ) and proviso to xxmaj section 372 of xxmaj cr . xxup p.c. , in the light of their legislative history has held that the right to prefer an appeal conferred upon the victim or relatives of the victim by virtue of proviso to xxmaj section 372 is an independent statutory right . xxmaj therefore , it has held that there is no need for the victim in terms of definition under xxmaj section 2(wa ) of xxmaj cr . xxup p.c. to seek the leave of the xxmaj high xxmaj court as required under sub - xxmaj section ( 3 ) of xxmaj section 378 of xxmaj cr . xxup p.c. to prefer an appeal under proviso to xxmaj section 372 of xxmaj cr . xxup p.c. xxmaj the said view of the xxmaj high xxmaj court is not legally correct for the reason that the substantive provision of xxmaj section 372 of xxmaj cr . xxup p.c. clearly provides that no appeal shall lie from any judgment and order xxmaj page xxrep 4 1 of a xxmaj criminal xxmaj court except as provided for by xxmaj cr . xxup p.c. xxmaj further , sub - xxmaj section ( 3 ) to xxmaj section 378 of xxmaj cr . xxup p.c. provides that for preferring an appeal to the xxmaj high xxmaj court against an order of acquittal it is necessary to obtain its leave . xxmaj we have to refer to the rules of interpretation of statutes to find out what is the effect of the proviso to xxmaj section 372 of xxmaj cr . xxup p.c. , it is well established that the proviso of a statute must be given an interpretation limited to the subject - matter of the enacting provision . xxmaj reliance is placed on the decision of this xxmaj court rendered by four xxmaj judge xxmaj bench in xxmaj dwarka xxmaj prasad v. xxmaj dwarka xxmaj das xxmaj xxunk , the relevant para 18 of which reads thus:“18 . … a proviso must be limited to the subject - matter of the enacting clause . xxmaj it is a settled rule of construction that a proviso must prima facie be read and considered in relation to the principal matter to which it is a proviso . xxmaj it is not a separate or independent enactment . “ xxmaj words are dependent on the principal enacting words to which they are xxunk as a proviso . xxmaj they can not be read as divorced from their context ” ( xxmaj xxunk v. xxmaj xxunk , 1912 xxup ac 533 ) . xxmaj if the rule of construction is that prima facie a proviso should be limited in its operation to the subject - matter of the enacting clause , the stand we have taken is sound . xxmaj to expand the enacting clause , inflated by the proviso , sins against the fundamental rule of construction 2 ( 1976 ) 1 xxup scc xxunk xxunk a proviso must be considered in relation to the principal matter to which it stands as a proviso . a proviso ordinarily is but a proviso , although the golden rule is to read the whole section , inclusive of the proviso , in such manner that they mutually throw light on each other and result in a harmonious construction . ” ( emphasis laid by this xxmaj xxunk . xxmaj further , a three xxmaj judge xxmaj bench of this xxmaj court by majority of 2:1 in the case of xxup s. xxmaj sundaram xxmaj pillai v. xxup v.r. xxmaj xxunk has elaborately examined the scope of proviso to the substantive provision of the xxmaj section and rules of its interpretation . xxmaj the relevant paras are reproduced xxunk . xxmaj xxunk in xxmaj interpretation of xxmaj statutes at pages 294 - 295 has collected the following principles in regard to a xxunk one finds a proviso to a section the natural presumption is that , but for the proviso , the enacting part of the section would have included the subject - matter of the xxunk proviso must be construed with reference to the preceding parts of the clause to which it is xxunk the proviso is directly repugnant to a section , the proviso shall stand and be held a repeal of the section as the proviso speaks the latter intention of the xxunk the section is doubtful , a proviso may be used as a guide to its 3 ( 1985 ) 1 xxup scc xxunk xxunk : but when it is clear , a proviso can not imply the existence of words of which there is no trace in the xxunk proviso is subordinate to the main xxunk proviso does not enlarge an enactment except for compelling xxunk an unnecessary proviso is inserted by way of abundant xxunk construction placed upon a proviso which brings it into general harmony with the terms of section should xxunk a proviso is repugnant to the enacting part , the proviso will not prevail over the absolute terms of a later xxmaj act directed to be read as supplemental to the earlier xxunk proviso may sometimes contain a substantive provision . xxup xxx xxup xxx xxup xxx 32 . xxmaj in xxmaj xxunk xxmaj xxunk xxmaj xxunk v. xxmaj xxunk xxmaj xxunk it was held that the main object of a proviso is merely to qualify the main enactment . xxmaj in xxmaj madras and xxmaj southern xxmaj xxunk xxmaj railway xxmaj co. xxmaj ltd. v. xxmaj xxunk xxmaj municipality xxmaj lord xxmaj xxunk observed thus:“the proper function of a proviso is to except and deal with a case which would otherwise fall within the general language of the main enactment , and its effect is xxmaj page xxunk to that xxunk . xxmaj the above case was approved by this xxmaj court in xxup cit v. xxmaj indo xxmaj mercantile xxmaj bank xxmaj ltd. where xxmaj kapur , xxup j. held that the proper function of a proviso was merely to qualify the generality of the main enactment by providing an exception and taking out , as it were , from the main enactment a portion which , but for the proviso , would fall within the main enactment . xxmaj in xxmaj shah xxmaj bhojraj xxmaj xxunk xxmaj oil xxmaj mills and xxmaj xxunk xxmaj factory v. xxmaj xxunk xxmaj chandra xxmaj yograj xxmaj sinha xxmaj hidayatullah , xxup j. , as he then was , very aptly and succinctly indicated the parameters of a proviso xxunk a general rule , a proviso is added to an enactment to qualify or create an exception to what is in the enactment , and ordinarily , a proviso is not interpreted as stating a general rule . ” xxup xxx xxup xxx xxup xxunk . xxmaj while interpreting a proviso care must be taken that it is used to remove special cases from the general enactment and provide for them xxunk . xxmaj in short , generally speaking , a proviso is intended to limit the enacted provision so as to except something which would have otherwise been within it or in some measure to modify the enacting clause . xxmaj sometimes a proviso may be embedded in the main provision and becomes an integral part of it so as to amount to a substantive provision itself . ” ( emphasis xxunk , from a reading of the abovesaid legal position laid down by this xxmaj court in the cases referred to xxmaj page xxunk , it is abundantly clear that the proviso to xxmaj section 372 of xxmaj cr . xxup p.c. must be read along with its main enactment i.e. , xxmaj section 372 itself and together with sub - xxmaj section ( 3 ) to xxmaj section 378 of xxmaj cr . xxup p.c. otherwise the substantive provision of xxmaj section 372 of xxmaj cr . xxup p.c. will be rendered nugatory , as it clearly states that no appeal shall lie from any judgment or order of a xxmaj criminal xxmaj court except as provided by xxmaj cr . xxunk , to conclude on the legal issue : “ whether the appellant herein , being the father of the deceased , has statutory right to prefer an appeal to the xxmaj high xxmaj court against the order of acquittal under proviso to xxmaj section 372 of xxmaj cr . xxup p.c. without obtaining the leave of the xxmaj high xxmaj court as required under sub - xxmaj section ( 3 ) to xxmaj section 378 of xxmaj cr . xxup p.c. ” , this xxmaj court is of the view that the right of questioning the correctness of the judgment and order of acquittal by preferring an appeal to the xxmaj high xxmaj court is conferred upon the victim including the legal heir and others , as defined under xxmaj section 2(wa ) of xxmaj cr . xxup p.c. , under proviso to xxmaj section 372 , but only xxmaj page xxunk obtaining the leave of the xxmaj high xxmaj court as required under sub - xxmaj section ( 3 ) to xxmaj section 378 of xxmaj cr . xxup p.c. xxmaj the xxmaj high xxmaj court of xxup m.p. has failed to deal with this important legal aspect of the matter while passing the impugned judgment and order . xxunk to another contention of the learned counsel on behalf of the appellant regarding the failure on the part of the xxmaj high xxmaj court to re - appreciate the evidence it is clear from a perusal of the impugned judgment and order passed by the xxmaj high xxmaj court that it has dealt with the appeal in a very cursory and casual manner , without adverting to the legal contentions and evidence on record . xxmaj the xxmaj high xxmaj court in a very mechanical way has stated that after a perusal of the evidence on record it found no reason to interfere with the decision of the trial court as the prosecution has failed to establish the charges levelled against the accused beyond reasonable doubt and it has dismissed the appeal by passing a cryptic order . xxmaj this xxmaj court is of the view that the xxmaj high xxmaj court , being the xxmaj appellate xxmaj court , has to exercise its appellate jurisdiction keeping in ' ],xxbos [ ' xxmaj non - xxmaj reportable xxup in xxup the xxup supreme xxup court xxup of xxup indiacivil xxup appellate jurisdictioncivil xxmaj appeal xxmaj no . xxunk of 2019(arising out of xxup slp ( c ) xxmaj xxunk of xxup 2019)union xxup public xxup service xxup commission xxrep 4 . xxunk xxup singh & xxup ors . … . xxmaj respondent ( s)j u d g m e n xxup tl . xxup nageswara xxup rao , j.leave granted . 1.the point that arises for our consideration in thisappeal pertains to the eligibility of the first xxmaj respondent forappointment by way of direct recruitment to the post ofdrug xxmaj inspector in the xxmaj central xxmaj drugs xxmaj standard xxunk ( xxup cdsco ) , xxmaj ministry of xxmaj health and familywelfare . 2.the xxmaj union xxmaj public xxmaj service xxmaj commission , the xxmaj appellantherein , issued xxmaj advertisement xxmaj xxunk of 2015 inviting xxunk for recruitment of xxmaj drug xxmaj inspectors . xxmaj therequisite qualification for the post of xxmaj drug xxmaj inspector are : a . xxmaj degree in xxmaj pharmacy or xxmaj pharmaceutical xxunk xxmaj medicine with specialization in xxunk xxup or xxmaj microbiology from a xxunk xxup or equivalent . b . xxmaj eighteen months’ experience in the manufactureof at least one of the substances specified inschedule ‘ xxup c’ to the xxmaj drugs and xxmaj cosmetics xxmaj rules,1945 ; xxup or xxmaj eighteen months’ experience in testingof at least one of the substances specified inschedule ‘ xxup c’ to the xxmaj drugs and xxmaj cosmetics xxmaj rules,1945 in a laboratory approved for this purpose bythe licensing xxunk first xxmaj respondent submitted her online applicationon xxunk . xxmaj there is no doubt about xxmaj respondent xxmaj xxunk the requisite educational qualifications . xxmaj in sofar as the experience is concerned , the first xxmaj respondentsubmitted two certificates issued by m / s xxmaj alpa xxunk and m / s xxmaj mylan xxmaj laboratories xxmaj limited . xxmaj the xxunk showed that the first xxmaj respondent xxunk in testing as she worked in m / s alpalaboratories from 07.09.2012 to 05.03.2014 . xxmaj thecertificate issued by m / s xxmaj mylan xxmaj laboratories was to theeffect that the first xxmaj respondent worked as xxmaj analyst xxunk control during the period 13.04.2014 xxunk first xxmaj respondent qualified in the xxunk - based recruitment test . xxmaj initially , 496 candidateswere called for interview by a notice dated 16.09.2015 forselection to 147 posts of xxmaj drug xxmaj inspector which wereadvertised . xxmaj in the said list the name of the firstrespondent was not there . xxmaj thereafter , another notice wasissued by the xxmaj appellant on xxunk , calling xxunk for interview . xxmaj the first xxmaj respondent xxunk those who were asked to attend the interview . xxmaj she submitted the relevant documents regarding therequisite experience . xxmaj by a communication xxunk , the candidature of the first xxmaj respondent wascancelled on the ground that she lacked the xxunk in testing of substances specified in xxunk in a laboratory approved by the licensing authority . 35.the non - consideration of the first xxmaj respondent forselection to the post of xxmaj drug xxmaj inspector was challenged inthe xxmaj central xxmaj administrative xxmaj tribunal , xxmaj jabalpur xxmaj bench . xxmaj by aninterim order dated xxunk , the xxmaj tribunal directed theappellant to permit the first xxmaj respondent to participate inthe selection . xxmaj as the final result was declared during thependency of the xxup oa , the xxmaj tribunal passed an order makingthe declaration of result subject to the outcome of theoriginal xxmaj application . 6.the xxmaj tribunal finally allowed the xxmaj original xxmaj applicationand directed the xxmaj appellant to interview the firstrespondent and in case she secures a score which is morethan the last selected candidate in her category she waspermitted to be recommended for appointment . 7.aggrieved by the judgment of the xxmaj tribunal , theappellant filed a xxmaj writ xxmaj petition in the xxmaj high xxmaj court which wasdismissed . xxmaj hence , this appeal . 8.the controversy in the present appeal is regardingthe fulfillment of the condition of experience as required bythe xxmaj advertisement . xxmaj as stated earlier , the requisiteexperience for appointment as xxmaj drug xxmaj inspector is xxunk in the field of quality control and in testing ofdrugs prescribed in xxmaj schedule ‘ xxup c’ and ‘ xxup c-1’ in the xxmaj drugs andcosmetics xxmaj rules . xxmaj certificates that were produced by thefirst xxmaj respondent which were issued by m / s alpalaboratories and m / s xxmaj mylan xxmaj laboratories are placed onrecord . xxmaj the certificate issued by m / s xxmaj mylan lab xxunk would disclose that the first xxmaj respondent wasinvolved in different stages of testing in quality control xxunk the plant . xxmaj she was also involved in testing of one of thedrugs specified in xxmaj schedule ‘ xxup c’ and ‘ xxup c-1’ of the xxmaj drugs andcosmetics xxmaj rules . xxmaj according to the certificate , the firstrespondent worked for two years from 13.04.2014 in m / xxunk xxmaj laboratories . xxmaj the requirement of 18 xxunk to the xxmaj advertisement is for a period of two yearsprior to 01.03.2015 . xxmaj as the certificate does not satisfy therequirement of the xxmaj advertisement in view of the periodfrom 13.04.2014 to 01.03.2015 being less than 18 months , it was rightly not taken into consideration . xxmaj the xxunk that was produced by the first xxmaj respondentbefore the xxmaj appellant was issued by m / s xxmaj alpa xxmaj xxunk 05.03.2014 . xxmaj the first xxmaj respondent was certified to xxunk with m / s xxmaj alpa xxmaj laboratories from 07.09.2012 xxunk in the quality control department . xxmaj it wasmentioned in the certificate that the first xxmaj respondent wascarrying on all activities relating to quality controldepartment such as xxup rm / xxup pm sampling and analysis as wellas water sampling and testing , xxunk , xxunk checks , training etc . there is no mention of the firstrespondent having experience in testing xxmaj schedule ‘ xxmaj xxunk . xxmaj the candidature of the first xxmaj respondent wasrejected on the ground that the said certificate issued bym / s xxmaj alpa xxmaj laboratories could not satisfy the eligibilityconditions mentioned in the xxmaj advertisement . xxmaj yet xxunk dated 17.03.2015 issued by the m / s alpalaboratories was relied upon by the first xxmaj respondent . xxmaj according to the said certificate , the first xxmaj respondentworked for 18 months and had experience in testing ofdrugs specified in xxmaj schedule ‘ xxup c’ and ‘ xxup c-1’ of the xxmaj rules . xxmaj xxunk discloses that the job done by the firstrespondent was only for experience purpose without xxunk . xxunk the reply filed to the xxmaj original xxmaj application in thecentral xxmaj administrative xxmaj tribunal , the xxmaj appellant stated thatthe certificate issued by m / s xxmaj alpa xxmaj laboratories did notmention about xxmaj schedule ‘ xxup c’ drugs . xxmaj as stated earlier , thefirst xxmaj respondent produced two certificates issued by m / xxunk xxmaj laboratories . xxmaj the first one was issued on 05.03.2014 in which there was no mention of her experience in testingschedule ‘ xxup c’ drugs . xxmaj the second certificate is xxunk which refers to her experience in testingschedule ‘ xxup c’ and ‘ xxup c-1’ drugs . xxmaj it is relevant to note that thefirst xxmaj respondent submitted her online application form xxunk and the second certificate issued by m / s alpalaboratories is dated xxunk xxmaj tribunal was not impressed with the xxunk of the xxmaj appellant in rejecting the candidature of thefirst xxmaj respondent . xxmaj submissions made on behalf of theappellant relating to m / s xxmaj alpa xxmaj laboratories not being a xxunk firm and the experience certificate not xxunk ‘ xxup c’ drugs were rejected . xxmaj the contention of theappellant that the certificate dated 17.03.2015 can not berelied upon as the experience was on a non - xxunk ' ],xxbos [ \" xxup xxunk xxup the xxup supreme xxup court xxup of xxup indiacivil xxup appellate xxup jurisdictioncivil xxup appeal xxup nos.6977 - 6978 xxup of xxup 2019(diary xxup no . 8013 xxup of xxup 2015)ex - xxup sepoy ( xxup washerman ) xxup ram xxup khilawan xxrep 5 . xxup appellant(s)versusunion xxup of xxup india & xxup ors xxrep 6 . xxup respondent(s)j u d g m e n xxup themant xxup gupta , j.1)delay condoned . xxmaj appeals xxunk challenge in the present appeals is to orders passed by thearmed xxmaj forces xxmaj tribunal1 , xxmaj regional xxmaj bench , xxmaj lucknow on xxmaj october 21,2011 , xxmaj may 28 , 2013 and xxmaj june 30 , 2014 whereby , challenge to thedischarge of the appellant from service on xxmaj august 31 , 1993remained unsuccessful . 3)the appellant was enrolled in the xxmaj army as a xxmaj washerman onoctober 23 , 1987 . xxmaj he was discharged from service on medicalgrounds on xxmaj august 31 , 1993 due to “ xxup cns ( xxup in ) xxmaj seizure ” when he1 xxmaj xxunk put in xxmaj low xxmaj medical xxmaj category xxup bee on xxmaj august 27 , 1992.appellant , aggrieved against the discharge , submitted statutorycomplaint on xxmaj august 11 , 2007 wherein , the stand of the appellantwas that no show - cause notice was given to him by thecommanding xxmaj officer who sanctioned discharge under xxmaj rule 13(3)item xxup iii ( v ) of the xxmaj army xxmaj rules , 19542 . xxmaj such statutory complaint wasdeclined on xxmaj october 12 , 2007 , inter alia , on the ground that thoughthe appellant has given his option to serve in the shelteredappointment but no sheltered appointment was availablecommensurate with the trade to suitably employ in the publicinterest . xxmaj therefore , he was discharged under the provisions ofarmy xxmaj order 46 of 1980 read with xxmaj rule 13(3 ) xxmaj item iii(v ) of the xxunk appellant filed writ petition before the xxmaj high xxmaj court of xxmaj judicatureat xxmaj allahabad but subsequently on commencement of xxmaj armed forcestribunal xxmaj act , 2007 , the writ petition was transferred to the xxmaj tribunal , xxmaj regional xxmaj bench , xxmaj lucknow . xxmaj the learned xxmaj tribunal found that theappellant was placed in permanent xxmaj low xxmaj medical xxmaj category xxup bee andwas discharged from service on xxmaj august 31 , 1993 with only 05years 11 months and 08 days of service . xxmaj the xxmaj classified xxmaj specialisthas put the following restrictions on the appellant : “ not be allowed to swim or work near fire ormoving machinery and also to handle firearms toensure seizure precautions.”therefore , he could not be employed in other shelteredappointment in public interest . xxmaj the xxmaj tribunal found that the2 xxmaj xxunk has been given disability pension @20 % for five years . xxunk of the relevant provisions of the xxmaj rules need to bereproduced:“13 . xxmaj authorities empowered to authorizedischarge . – ( 1 ) xxmaj each of the authorities specified incolumn 3 of the xxmaj table below shall be the competentauthority to discharge service person subject to the xxmaj actspecified in column 1 thereof on the grounds specifiedin column 2 . xxrep 6 x tablecategorygrounds of dischargecompetentauthority toauthorisedischargemanner ofdischarge1234junior commissionerofficers xxrep 6 x xxmaj warrant xxmaj officer xxrep 6 x xxmaj persons enrolled under the act who have been attested(iii ) ( i ) xxrep 4 x ( ii ) xxrep 6 x ( iii ) xxmaj having been foundmedically unfit forfurther service . commandingofficerto be carried outonly on therecommendation ofan invaliding xxmaj board.(iii)(a ) xxmaj having beenfound to be inpermanent low medicalcategory xxup shape 2 / 3 bya medical board andwhen:-(i ) no shelteredappointment isavailable in the unit , or(ii ) is surplus to theorganization . commandingofficerthe individual willbe discharged fromservice on therecommendationsof xxmaj release medicalboard.(iv ) xxmaj at his own requestbefore fulfilling theconditions of hisenrolment . commandingofficerthe commandingofficer will exercisethe power onlywhen he is xxunk to thedesirability ofsanctioning theapplication and thestrength of the unitwill not thereby beunduly reduced.(v ) xxmaj all other classes ofdischarge . xxmaj brigade / xxmaj sub –areacommander . xxmaj the xxmaj brigade or xxmaj sub - xxmaj area xxmaj commanderbefore ordering thedischarge shall , ifthe circumstancesof the case permitgive to the personwhose discharge iscontemplated anopportunity toshow cause againstthe xxunk relevant provision is xxmaj army xxmaj order xxmaj no . 46 of 1980 , whichreads as under:“ao 46 / 80 xxmaj disposal of xxmaj permanent xxmaj low xxmaj medical categorypersonnel xxmaj other xxmaj than officersaim1 . xxmaj the aim of this xxmaj army xxmaj order is to lay downimplementation instructions for the disposal ofpermanent low medical category jcos / xxup or in terms ofministry of xxmaj defence xxmaj letter xxmaj no . a / 32395 / xxup viii / xxmaj org 2 ( mp)(c ) / xxup 713-s / a / d ( xxup ag ) dated 10 - 5 - 1977 as amended videcorrigendum xxmaj no . a / 32395 / x / xxmaj org 2 ( xxup mp ) ( c ) / 7167 / a / xxup d(ag ) dated 26 - 11 - 1979 , reproduced as xxmaj appendices xxmaj aand b respectively to this xxmaj order . xxmaj retention2 . xxmaj general principles(a ) xxmaj the employment of permanent low medical categorypersonnel , at all times , is subject to the availability ofsuitable alternative appointments commensurate withtheir medical category and also to the proviso that thiscan be justified in the public interest , and that theirretention will not exceed the sanctioned strength of theregiment / corps . xxmaj when such an appointment is xxunk or when their retention is either notconsidered necessary in the interest of the service or itexceeds the sanctioned strength of the regiment / corps , they will be discharged irrespective of the service put inby them.(b ) xxmaj ordinarily , permanent low medical categorypersonnel will be retained in service till completion of15 years ' service in the case of jcos and 10 years in thecase of xxup or ( including ncos ) . xxmaj however , such personnelmay continue to be retained in service beyond theabove period until they become due for discharge in thenormal manner subject to their willingness and thefulfilment of the stipulation laid in sub - para ( a ) xxunk counsel for the appellant relied upon judgment of thiscourt in xxmaj union of xxmaj india & xxmaj ors . v. xxmaj rajpal xxmaj singh3 wherein , thiscourt has held that if a person is to be discharged on the ground ofmedical unfitness , such discharge can not be passed withoutsubjecting him to the xxmaj invalidating xxmaj board as per procedure laiddown in xxmaj rule 13 . xxmaj the xxmaj court held as under:“30 . a plain reading of the xxmaj army xxmaj order shows that itcomes into operation after an opinion has been formedas to whether a particular personnel is to be retained inservice or not , if so for what period . xxmaj if a person is to beretained in service despite his low medical category fora particular period as stipulated in xxmaj army xxmaj order 46 of1980 , the question of subjecting him to the invalidatingboard may not arise . xxmaj however , if a person is to bedischarged on the ground of medical unfitness , at thatstage of his tenure of service or extended service withinthe meaning of the xxmaj army xxmaj order , he has to bedischarged as per the procedure laid down in xxmaj clause xxmaj i(ii)in xxmaj column 2 of the said xxunk the present case , the order of discharge is on the ground that3 ( 2009 ) 1 xxup scc xxunk appellant has been placed in xxmaj low xxmaj medical xxmaj category . xxmaj theextract from the order of communication of discharge reads asunder:“1 . xxmaj the personnel mentioned in xxmaj appendix ‘ xxup a’ to thisletter have been placed in xxmaj low xxmaj medical xxmaj category lowerthan ‘ xxup aye’ and become due for x discharge from serviceas per policy on discharge of permanent low medicalcategory personnel laid down in xxmaj army xxmaj order 46 / 80.they will report to xxmaj depot xxmaj coy xxup hq xxmaj wing xxup asc centre(south ) , xxmaj bangalore-7 and xxup sos from service w.e.f . thedates shown against their names . xxmaj no joining time xxunk argument of learned counsel for the respondents is that thedischarge of the appellant was under clause iii(v ) of xxmaj rule 13(3 ) ofthe xxmaj rules and , therefore , the question of subjecting the appellantto xxmaj invalidating xxmaj medical xxmaj board does not arise . xxmaj it is argued that suchis the case admitted by the appellant in his statutory complaint aswell . 10)we have heard learned counsel for the parties and find that thedischarge of the appellant was only under category 13(3)(iii)(iii ) ashe has been found medically unfit for further service . xxmaj clause ( v ) ofrule xxup 13(3)(iii ) would be applicable in respect of all other classes ofdischarge which do not find mention in xxmaj rule 13(3)(iii)(iii ) . xxmaj thecommunication of discharge from the service is on the ground thathe has been placed in the xxmaj low xxmaj medical xxmaj category . xxmaj once he hasbeen put in xxmaj low xxmaj medical xxmaj category , clause ( iii ) of xxmaj rule 13(3)(iii)would be applicable as such clause alone deals with discharge xxunk personnel is found medically unfit for further service . xxmaj there isno reference to sub - clause ( v ) of xxmaj army xxmaj rule xxup 13(3)(iii ) in the order ofdischarge . xxmaj still further , it is not the recital of a provision which isrelevant to determine as to whether the personnel is dischargedunder clause ( v ) or clause ( iii ) of xxmaj rule xxup 13(3)(iii ) of the xxmaj rules . xxmaj it isthe object , language and the purport of the discharge which will berelevant to determine whether an army personnel had beendischarged under clause ( iii ) or clause ( v ) . xxmaj clause ( v ) is theresidual clause when other clauses are not applicable to suchpersonnel . xxmaj since the discharge of the appellant is covered byclause ( iii ) of xxmaj rule xxup 13(3)(iii ) of the xxmaj rules , as the discharge of theappellant was only on the ground of his medical unfitness forfurther service , therefore , he could not be invalidated out ofservice without the recommendation of the xxmaj invalidating xxmaj board . 11)this xxmaj court in xxmaj smt . xxmaj sulekha xxmaj rani v. xxmaj union of xxmaj india and xxmaj xxunk that when the discharge was on the ground of medicalunfitness , the xxmaj rule prescribes a particular procedure for discharge . xxmaj thus , an order of discharge passed without subjecting the officer toan xxmaj invalidating xxmaj board would be contrary to the statutory rule . thecourt held as under:“10 . xxmaj after considering the facts and material before us , we are of the view that the discharge of the appellant'sspouse without convening an xxmaj invalidation xxmaj medical xxmaj boardsuffers from an illegality . xxmaj the respondents have reliedupon the response purportedly addressed by the xxmaj jawanto the notice to show cause issued to him . xxmaj the4 xxmaj civil xxmaj appeal xxmaj no . 1280 of 2019 decided on xxmaj july 16 , xxunk xxmaj rule xxunk ) upon which reliance hasbeen placed had no application to the case . xxmaj it would xxunk in an area which is covered by xxunk , we find that discharge of the appellant was not underthe residual clause ( v ) but under clause ( iii ) of xxmaj rule xxup 13(3)(iii ) of therules . xxmaj since the discharge has proceeded without reference xxunk xxmaj medical xxmaj board , such discharge is not legallysustainable . xxunk said so , in terms of clause ( b ) of xxmaj general xxmaj principles of xxunk 46 of 1980 , he is entitled to be retained for ten years beingin the rank of personnel of xxmaj other xxmaj ranks . xxmaj since , he joined theservice on xxmaj october 23 , 1987 , he would be deemed to bedischarged only on xxmaj october 22 , 1997 . xxunk a consequence thereof , the appellant became entitled topension in addition to disability pension which was granted to himfor a period of five years . xxmaj however , the appellant will not beentitled to arrears of salary for the period up to the date ofdischarge inter alia on the ground of no work no pay but he shall beentitled to arrears of pension for a period of three years prior tofiling of xxmaj writ xxmaj petition xxmaj no . xxunk of 2007 which was transferred tothe xxmaj tribunal . xxmaj the arrears of pension be paid to the appellant withina period of six months from the date of receipt of copy of this xxunk view of the above , the appeals are xxunk xxrep 45 . xxup j.(l. xxup nageswara xxup rao ) xxrep 45 . xxup j.(hemant xxup xxunk xxup delhi;september 2 , xxup xxunk xxup the xxup supreme xxup court xxup of xxup indiacivil xxup appellate xxup jurisdictioncivil xxup appeal xxup nos.6977 - 6978 xxup of xxup 2019(diary xxup no . 8013 xxup of xxup 2015)ex - xxup sepoy ( xxup washerman ) xxup ram xxup khilawan xxrep 5 . xxup appellant(s)versusunion xxup of xxup india & xxup ors xxrep 6 . xxup respondent(s)j u d g m e n xxup themant xxup gupta , xxunk condoned . xxmaj appeals xxunk challenge in the present appeals is to orders passed by thearmed xxmaj forces xxmaj tribunal5 , xxmaj regional xxmaj bench , xxmaj lucknow on xxmaj october 21,2011 , xxmaj may 28 , 2013 and xxmaj june 30 , 2014 whereby , challenge to thedischarge of the appellant from service on xxmaj august 31 , 1993remained unsuccessful . 18)the appellant was enrolled in the xxmaj army as a xxmaj washerman onoctober 23 , 1987 . xxmaj he was discharged from service on medicalgrounds on xxmaj august 31 , 1993 due to “ xxup cns ( xxup in ) xxmaj seizure ” when xxunk xxmaj xxunk put in xxmaj low xxmaj medical xxmaj category xxup bee on xxmaj august 27 , 1992.appellant , aggrieved against the discharge , submitted statutorycomplaint on xxmaj august 11 , 2007 wherein , the stand of the appellantwas that no show - cause notice was given to him by thecommanding xxmaj officer who sanctioned discharge under xxmaj rule 13(3)item xxup iii ( v ) of the xxmaj army xxmaj rules , 19546 . xxmaj such statutory complaint wasdeclined on xxmaj october 12 , 2007 , inter alia , on the ground that thoughthe appellant has given his option to serve in the shelteredappointment but no sheltered appointment was availablecommensurate with the trade to suitably employ in the publicinterest . xxmaj therefore , he was discharged under the provisions ofarmy xxmaj order 46 of 1980 read with xxmaj rule 13(3 ) xxmaj item iii(v ) of the xxunk appellant filed writ petition before the xxmaj high xxmaj court of xxmaj judicatureat xxmaj allahabad but subsequently on commencement of xxmaj armed forcestribunal xxmaj act , 2007 , the writ petition was transferred to the xxmaj tribunal , xxmaj regional xxmaj bench , xxmaj lucknow . xxmaj the learned xxmaj tribunal found that theappellant was placed in permanent xxmaj low xxmaj medical xxmaj category xxup bee andwas discharged from service on xxmaj august 31 , 1993 with only 05years 11 months and 08 days of service . xxmaj the xxmaj classified xxmaj specialisthas put the following restrictions on the appellant : “ not be allowed to swim or work near fire ormoving machinery and also to handle firearms toensure seizure precautions.”therefore , he could not be employed in other shelteredappointment in public interest . xxmaj the xxmaj tribunal found that the6 xxmaj xxunk has been given disability pension @20 % for five years . xxunk of the relevant provisions of the xxmaj rules need to bereproduced:“13 . xxmaj authorities empowered to authorizedischarge . – ( 1 ) xxmaj each of the authorities specified incolumn 3 of the xxmaj table below shall be the competentauthority to discharge service person subject to the xxmaj actspecified in column 1 thereof on the grounds specifiedin column 2 . xxrep 6 x tablecategorygrounds of dischargecompetentauthority toauthorisedischargemanner ofdischarge1234junior commissionerofficers xxrep 6 x xxmaj warrant xxmaj officer xxrep 6 x xxmaj persons enrolled under the act who have been attested(iii ) ( i ) xxrep 4 x ( ii ) xxrep 6 x ( iii ) xxmaj having been foundmedically unfit forfurther service . commandingofficerto be carried outonly on therecommendation ofan invaliding xxmaj board.(iii)(a ) xxmaj having beenfound to be inpermanent low medicalcategory xxup shape 2 / 3 bya medical board andwhen:-(i ) no shelteredappointment isavailable in the unit , or(ii ) is surplus to theorganization . commandingofficerthe individual willbe discharged fromservice on therecommendationsof xxmaj release medicalboard.(iv ) xxmaj at his own requestbefore fulfilling theconditions of hisenrolment . commandingofficerthe commandingofficer will exercisethe power onlywhen he is xxunk to thedesirability ofsanctioning theapplication and thestrength of the unitwill not thereby beunduly reduced.(v ) xxmaj all other classes ofdischarge . xxmaj brigade / xxmaj sub –areacommander . xxmaj the xxmaj brigade or xxmaj sub - xxmaj area xxmaj commanderbefore ordering thedischarge shall , ifthe circumstancesof the case permitgive to the personwhose discharge iscontemplated anopportunity toshow cause againstthe xxunk relevant provision is xxmaj army xxmaj order xxmaj no . 46 of 1980 , whichreads as under:“ao 46 / 80 xxmaj disposal of xxmaj permanent xxmaj low xxmaj medical categorypersonnel xxmaj other xxmaj than officersaim1 . xxmaj the aim of this xxmaj army xxmaj order is to lay downimplementation instructions for the disposal ofpermanent low medical category jcos / xxup or in terms ofministry of xxmaj defence xxmaj letter xxmaj no . a / 32395 / xxup viii / xxmaj org 2 ( mp)(c ) / xxup 713-s / a / d ( xxup ag ) dated 10 - 5 - 1977 as amended videcorrigendum xxmaj no . a / 32395 / x / xxmaj org 2 ( xxup mp ) ( c ) / 7167 / a / xxup d(ag ) dated 26 - 11 - 1979 , reproduced as xxmaj appendices xxmaj aand b respectively to this xxmaj order . xxmaj retention2 . xxmaj general principles(a ) xxmaj the employment of permanent low medical categorypersonnel , at all times , is subject to the availability ofsuitable alternative appointments commensurate withtheir medical category and also to the proviso that thiscan be justified in the public interest , and that theirretention will not exceed the sanctioned strength of theregiment / corps . xxmaj when such an appointment is xxunk or when their retention is either notconsidered necessary in the interest of the service or itexceeds the sanctioned strength of the regiment / corps , they will be discharged irrespective of the service put inby them.(b ) xxmaj ordinarily , permanent low medical categorypersonnel will be retained in service till completion of15 years ' service in the case of jcos and 10 years in thecase of xxup or ( including ncos ) . xxmaj however , such personnelmay continue to be retained in service beyond theabove period until they become due for discharge in thenormal manner subject to their willingness and thefulfilment of the stipulation laid in sub - para ( a ) xxunk counsel for the appellant relied upon judgment of thiscourt in xxmaj union of xxmaj india & xxmaj ors . v. xxmaj rajpal xxmaj singh7 wherein , thiscourt has held that if a person is to be discharged on the ground ofmedical unfitness , such discharge can not be passed withoutsubjecting him to the xxmaj invalidating xxmaj board as per procedure laiddown in xxmaj rule 13 . xxmaj the xxmaj court held as under:“30 . a plain reading of the xxmaj army xxmaj order shows that itcomes into operation after an opinion has been formedas to whether a particular personnel is to be retained inservice or not , if so for what period . xxmaj if a person is to beretained in service despite his low medical category fora particular period as stipulated in xxmaj army xxmaj order 46 of1980 , the question of subjecting him to the invalidatingboard may not arise . xxmaj however , if a person is to bedischarged on the ground of medical unfitness , at thatstage of his tenure of service or extended service withinthe meaning of the xxmaj army xxmaj order , he has to bedischarged as per the procedure laid down in xxmaj clause xxmaj i(ii)in xxmaj column 2 of the said xxunk the present case , the order of discharge is on the ground xxunk ( 2009 ) 1 xxup scc xxunk appellant has been placed in xxmaj low xxmaj medical xxmaj category . xxmaj theextract from the order of communication of discharge reads asunder:“1 . xxmaj the personnel mentioned in xxmaj appendix ‘ xxup a’ to thisletter have been placed in xxmaj low xxmaj medical xxmaj category lowerthan ‘ xxup aye’ and become due for x discharge from serviceas per policy on discharge of permanent low medicalcategory personnel laid down in xxmaj army xxmaj order 46 / 80.they will report to xxmaj depot xxmaj coy xxup hq xxmaj wing xxup asc centre(south ) , xxmaj bangalore-7 and xxup sos from service w.e.f . thedates shown against their names . xxmaj no joining time xxunk argument of learned counsel for the respondents is that thedischarge of the appellant was under clause iii(v ) of xxmaj rule 13(3 ) ofthe xxmaj rules and , therefore , the question of subjecting the appellantto xxmaj invalidating xxmaj medical xxmaj board does not arise . xxmaj it is argued that suchis the case admitted by the appellant in his statutory complaint aswell . 25)we have heard learned counsel for the parties and find that thedischarge of the appellant was only under category 13(3)(iii)(iii ) ashe has been found medically unfit for further service . xxmaj clause ( v ) ofrule xxup 13(3)(iii ) would be applicable in respect of all other classes ofdischarge which do not find mention in xxmaj rule xxup 13(3)(iii ) . xxmaj thecommunication of discharge from the service is on the ground thathe has been placed in the xxmaj low xxmaj medical xxmaj category . xxmaj once he hasbeen put in xxmaj low xxmaj medical xxmaj category , clause ( iii ) of xxmaj rule 13(3)(iii)would be applicable as such clause alone deals with discharge xxunk personnel is found medically unfit for further service . xxmaj there isno reference to sub - clause ( v ) of xxmaj army xxmaj rule xxup 13(3)(iii ) in the order ofdischarge . xxmaj still further , it is not the recital of a provision which isrelevant to determine as to whether the personnel is dischargedunder clause ( v ) or clause ( iii ) of xxmaj rule xxup 13(3)(iii ) of the xxmaj rules . xxmaj it isthe object , language and the purport of the discharge which will berelevant to determine whether an army personnel had beendischarged under clause ( iii ) or clause ( v ) . xxmaj clause ( v ) is theresidual clause when other clauses are not applicable to suchpersonnel . xxmaj since the discharge of the appellant is covered byclause ( iii ) of xxmaj rule xxup 13(3)(iii ) of the xxmaj rules , as the discharge of theappellant was only on the ground of his medical unfitness forfurther service , therefore , he could not be invalidated out ofservice without the recommendation of the xxmaj invalidating xxmaj board . xxunk xxmaj court in xxmaj smt . xxmaj sulekha xxmaj rani v. xxmaj union of xxmaj india and xxmaj xxunk that when the discharge was on the ground of medicalunfitness , the xxmaj rule prescribes a particular procedure for discharge . xxmaj thus , an order of discharge passed without subjecting the officer toan xxmaj invalidating xxmaj board would be contrary to the statutory rule . thecourt held as under:“10 . xxmaj after considering the facts and material before us , we are of the view that the discharge of the appellant'sspouse without convening an xxmaj invalidation xxmaj medical xxmaj boardsuffers from an illegality . xxmaj the respondents have reliedupon the response purportedly addressed by the xxmaj jawanto the notice to show cause issued to him . xxmaj the8 xxmaj civil xxmaj appeal xxmaj no . 1280 of 2019 decided on xxmaj july 16 , xxunk \" ],xxbos [ ' xxup 1reportable xxup in xxup the xxup supreme xxup court xxup of xxup indiacivil xxup appellate xxup jurisdictioncivil xxup appeal xxup xxunk \\ xxunk xxup of xxup xxunk xxup saini xxup and xxup anr. … . xxup appellants : xxmaj versus : xxup the xxup oriental xxup insurance xxup companyltd . xxup and xxup ors. … xxup .respondents j u d g m e n xxup ta.m. xxmaj khanwilkar , j.1.these appeals take exception to the judgment and orderdated 1st xxmaj february , 2016 passed by the xxmaj high xxmaj court of xxmaj punjaband xxmaj haryana at xxmaj chandigarh in xxup f.a.o. xxmaj xxunk , xxunk , xxunk , 1183 , xxunk , xxunk , 4596 , 4597 & 4598 of 2013 , wherebythe xxmaj high xxmaj court modified the award passed by the motoraccident xxmaj claims xxmaj tribunal , xxmaj yamuna xxmaj nagar , xxmaj xxunk , on thefinding that it was a case of “ contributory negligence ” xxunk held that the claimants – injured were entitled xxunk 50 % of the total compensation awarded to them includingthe enhanced compensation . 2.the sole question raised in the present appeals is aboutthe justness and tenability of the approach of the xxmaj high xxmaj courtin reversing the finding of fact recorded by the xxmaj tribunal on thefactum that the motor accident which occurred on xxunk , 2011 at about 10.30 xxup p.m. was due to parking of theoffending vehicle bearing xxmaj no . xxup hr \\ xad02 \\ xxunk \\ xxunk ( xxmaj gas xxmaj tanker ) inthe middle of the road in a negligent manner . 3.in the petition for compensation filed before the motoraccident xxmaj claims xxmaj tribunal ( for short , “ the xxmaj tribunal ” ) , it wasalleged that the accident was caused due to parking of theoffending xxmaj gas xxmaj tanker in the middle of the road without xxunk or parking lights . xxmaj the claimant examined the eye \\ xadwitness xxmaj sohan xxmaj lal ( xxup pw \\ xad7 ) who , in his affidavit , gave anaccount of the cause of accident in the following words : “ … xxmaj that on 15.12.2011 at about 10.30 xxup p.m. i along xxunk xxmaj ajit xxmaj singh was present near xxmaj xxunk xxunk , on the xxmaj national xxmaj highway , ( which leads xxunk ) in the area of xxmaj village xxmaj xxunk , xxup p.s. xxmaj xxunk . xxmaj atthat time all the traffic was diverted on the xxmaj eastern xxunk the road , as the xxmaj western side of road was closed dueto construction work . xxmaj in meantime , a xxmaj maruti xxmaj car xxmaj no . xxup hr \\ xad02 \\ xxunk / xxunk came from xxmaj jammu side ( xxmaj xxunk side ) xxunk against the back of the xxmaj gas xxmaj tanker as the driverof car could not spot the parked tanker due xxunk \\ xxunk of the oncoming traffic from front side . xxmaj then we rushed towards the spot of accident , xxunk that the said tanker was standing xxunk middle of the road , without any indicators xxunk lights . xxmaj due to the accident the car xxunk extensively . xxmaj the driver of the xxmaj car and a xxunk by his side , died at the spot . xxmaj two children , whowere on the rear seat of car were also xxunk xxunk said witness was cross \\ xadexamined by therespondents . xxmaj the relevant portion of his cross \\ xxunk thus : “ … xxmaj we were standing on xxmaj dhaba on duty with xxunk . xxmaj the truck was standing just opposite xxunk on the other side of the road . i was able to see thetruck at that time . xxmaj there was no fog at that time . xxmaj therewas lights on the dhaba and the truck was visible to xxunk to light of dhaba . i was standing at the xxunk 70 ft . from the truck because there was xxunk me and the truck . i have heard the voice / xxunk by the accident only then i noticed at the xxunk against the truck . i have not seen the car beforethe accident , and only seen after the accident . i reachedthe spot after hearing the sound of accident . i can not tellthe speed of the car because i have not seen the car . xxmaj xxunk is about 88 ft . wide i.e. 44 ft . on each side with xxunk in between . xxmaj the left portion of the truck was xxunk the edge of the road towards the xxunk xxunk respondents had opposed the claim petition anddenied their liability but did not lead any evidence on therelevant issue to dispel the relevant fact . xxmaj the xxmaj tribunal afteranalysing the evidence , including the xxmaj site xxmaj map ( xxmaj ext . p \\ xxunk on record along with charge \\ xadsheet filed against thedriver of the xxmaj gas xxmaj tanker and the arguments of therespondents , answered issue xxmaj no.1 against the respondents inthe following words : “ 21 . xxmaj our own xxmaj hon’ble xxmaj high xxmaj court in a case xxunk xxmaj singh and other xxmaj vs . xxmaj xxunk xxmaj singh and others , ( xxunk xxup plr 507 held that while considering a claim petition , the xxmaj tribunal is required to hold an enquiry and act not xxunk court so as to find whether the claimants xxunk the occurrence beyond shadow of anyreasonable doubt . xxmaj in the enquiry , if there is prima facieevidence of the occurrence there is no reason todisbelieve such evidence . xxmaj the statements coupled withthe facts of registration of xxup fir and trial of the accused ina criminal court are sufficient to arrive at a conclusionthat the accident has taken place . xxmaj likewise , in xxunk xxmaj vs . xxmaj satbir , 2011 ( 2 ) xxup rcr © 379 ( xxup sc ) xxmaj hon’ble apexcourt has held that in a case relating to motor accidentclaims , the claimants are not required to xxunk the case xxunk is required to be done in a criminal trial . xxmaj the xxmaj courtmust keep this distinction in mind . xxmaj strict proof of anaccident caused by a particular bus in a particularmanner may not be possible to be done by the claimants . xxmaj the claimants were merely to establish their case on thetouchstone of preponderance of probability . xxmaj the standardof proof beyond reasonable doubt could not have beenapplied . 22 . xxmaj after considering the submissions made by both theparties , i find that xxup pw7 xxmaj sohan xxmaj lal eye \\ xadwitness to theoccurrence has specifically stated in his affidavit xxmaj ex . xxup pw7 / a tendered in his evidence that on 15.12.2011 atabout xxunk p.m. he alongwith xxup xxunk xxmaj ajit xxmaj singh waspresent near xxmaj xxunk xxmaj xxunk xxmaj dhaba on the xxmaj national highway leads to xxmaj xxunk . xxmaj all the traffic of road was xxunk the eastern side of the road on account of closure xxunk on western side due to construction work . xxmaj in themeantime a xxmaj maruti car bearing xxmaj no . xxup hr \\ xad02 \\ xxunk \\ xxunk camefrom xxmaj jammu side and struck against the back of xxunk as the driver of the car could not spot the xxunk due to the flash lights of the oncoming traffic xxunk side . xxmaj then they rushed towards the spot of xxunk noticed that the said tanker was standing parked inthe middle of the road without any indicators or xxunk . 23 . xxmaj the statement of this witness clearlyestablishes that this was the sole negligence on thepart of the driver of the gas tanker especially whenthe accident was caused on 15.12.2011 that too atabout 10.30 p.m. which is generally time of xxunk . xxmaj in this way , the driver of the car cannotbe held in any way negligent in this accident . xxmaj moreover , as per xxmaj rules 15 of the xxmaj road xxmaj xxunk no vehicle is to be parked on busy road . 624 . xxmaj the arguments of learned counsel for respondentthat xxup pw7 xxmaj sohan xxmaj lal has stated in his cross \\ xadexaminationthat there was no fog at that time and there were xxunk the xxmaj dhaba and the truck was visible to him due xxunk of xxmaj dhaba and he was standing at the distance of xxunk from the truck being road between him and the xxunk he noticed at the car when he heard voice / xxunk by the accident so the respondent no.1 is not atall negligent in this accident but these xxunk not make the car driver to be in any xxunk and can not give clean chit to the driverof the gas tanker because there is a differencebetween the visibility of a standing vehicle from aplace where the person is standing and by a personwho is coming driving the vehicle because due xxunk lights of vehicles coming from front side thevehicle coming from opposite side can not xxunk the standing vehicle in the road that too xxunk time when there is neither any indicator xxunk lights nor xxunk lights nor any xxunk given on the back of the xxunk , therefore , the driver of the car can not beheld to be in any way negligent rather it is the xxunk on the part of the driver of the xxunk xxmaj tanker as held in xxmaj xxunk xxmaj devi and others’ xxunk xxup acj xxunk ) , xxmaj mohan xxmaj lal ’s case ( 2007 1 xxup xxunk ( xxmaj allahabad ) . xxmaj it is not the case of the respondentthat the parking lights of the standing truck wereon or there were any other indication n the backside of the vehicle standing on the road to enablethe coming vehicle to see the standing truck . xxmaj theother arguments of learned counsel for respondentno.3 that the road was sufficient wide road andthat the car driver could have avoided theaccident , so the driver of the car was xxunk in causing the accident can not beaccepted when it has already been held that xxunk has been caused due to sole negligence ofthe driver of the offending stationed truck in xxunk road . xxmaj the proposition of law laid down in xxmaj smt . xxmaj harbans xxmaj kaur & others ’s case ( 2010 4 xxup plr 422 ( xxunk xxup t.m. xxmaj xxunk & another ’s case ( 2005 xxup iv xxup acc xxup xxunk ) is not disputed at all but these authorities are nothelpful to the respondents being not applicable on thefacts and circumstances of the present case . xxmaj likewise , non \\ xadexamination of minor children of the age of 14 and xxunk who lost their father and mother in the xxunk be held to be in any way detrimental to the caseof the claimants when eye witness to the occurrence hasproved the accident having been caused by xxunk of respondent no.1 / driver of the xxunk . xxmaj moreover , in xxmaj girdhari xxmaj lal xxmaj vs . xxmaj radhey xxmaj sham andothers , 1993 ( 2 ) xxup plr 109 , xxmaj xxunk xxmaj devi and othersvs . xxmaj kewal xxmaj ram and others , 2008 ( 1 ) xxup plr 444 xxunk and others ’s case ( 2012 xxup acj xxunk own xxmaj hon’ble xxmaj high xxmaj court has held that ‘ it is , prima facie safe to conclude in claim cases thatthe accident has occurred on account of rash xxunk driving of the driver , if the driver xxunk the criminal trial on account of rash xxunk xxunk . xxmaj moreover , the respondent no.1 / driver of theoffending vehicle has not appeared in the xxunk to deny the accident having been caused byhim , therefore , i am inclined to draw an adverseinference against the respondent no.1 . xxmaj in thiscontext , i draw support from a judgment of thehon’ble xxmaj punjab & xxmaj haryana xxmaj high xxmaj court reported xxunk xxmaj devi vs. xxmaj krishan xxmaj kumar xxmaj xxunk andothers , 1986 xxup acj 331 . xxmaj moreover , the respondentno.1 has also not filed any complaint to xxunk about his false implication in xxunk case so it can not be accepted that therespondent no.1 has been falsely implicated in thiscase . 27 . xxmaj in view of above discussion , it is held that theclaimants have proved that the accident has been causedby respondent no.1 by parking the offending xxunk xxmaj no . xxup hr \\ xad02 \\ xxunk \\ xxunk on the middle of the road ina negligent manner wherein xxmaj vinod xxmaj saini and xxmaj smt . xxunk have been died and claimants xxmaj xxunk xxmaj saini xxunk xxmaj saini have received injuries on their person . xxmaj sh . xxmaj vinod xxmaj saini deceased who was driving ill xxunk car onthat day can not be held to be negligent in any way . xxmaj accordingly , this issue is decided in favour of xxunk xxunk the matter travelled to the xxmaj high xxmaj court by way ofappeal for enhancement of compensation , while accepting theclaim of the claimants \\ xxunk for giving additionalcompensation , the xxmaj high xxmaj court overturned the finding of factrecorded by the xxmaj tribunal in relation to issue xxmaj no.1 and opinedthat it was a case of contributory negligence of the driver ofthe xxmaj maruti xxmaj car which met with the accident . xxmaj the xxmaj high xxmaj xxunk the said issue in its judgment as can be xxunk paragraphs 14 & 15 , which read thus : “ 14 . xxmaj so far as the issue of contributory negligence isconcerned , it has come in the testimony of xxmaj sohan xxmaj lal , xxup pw \\ xad7 , that the tanker / offending vehicle was xxunk indicator but the same was visible from adistance of 70 ft . xxmaj moreover , a perusal of site plan xxmaj ex . p xxunk that the offending vehicle was not parked in themiddle of the road . 15 . xxmaj in view of the statement of xxup pw \\ xad7 and site plan xxmaj ex . p \\ xad45 , it is proved that the tanker / offending vehicle xxunk from a distance of 70 ft . and not parked in themiddle of the road . xxmaj therefore , in the concerned opinion ofthis xxmaj court , it is a case of contributory negligence . ” 7.in the present appeals , the moot question is whether thehigh xxmaj court committed manifest error in reversing the xxunk decision of the xxmaj tribunal on issue xxmaj no.1 answeredagainst the respondents , instead concluding that it was a caseof 50 % contributory negligence on the part of the xxunk of the xxmaj maruti xxmaj car . 8.after having perused the evidence of xxup pw \\ xad7 , xxmaj site xxmaj map ( xxmaj ext . p \\ xad45 ) and the detailed analysis undertaken by the xxmaj tribunal , we have no hesitation in taking the view that the approach ofthe xxmaj high xxmaj court in reversing the conclusion arrived at by thetribunal on issue xxmaj no.1 has been very casual , if not cryptic xxunk . xxmaj indeed , the appeal before the xxmaj high xxmaj court is requiredto be decided on fact and law . xxmaj that , however , would not xxunk xxmaj high xxmaj court to casually overturn the finding of factrecorded by the xxmaj tribunal . xxmaj as is evident from the analysis doneby the xxmaj tribunal , it is a well considered opinion and a xxunk . xxmaj the xxmaj high xxmaj court has not adverted to any specific reasonas to why the view taken by the xxmaj tribunal was incorrect or notsupported by the evidence on record . xxmaj it is well settled that thenature of proof required in cases concerning accident claims xxunk different from the one in criminal cases , whichmust be beyond any reasonable doubts . xxmaj the xxmaj tribunal appliedthe correct test in the analysis of the evidence before it . xxmaj notably , the xxmaj high xxmaj court has not doubted the evidence of xxup pw \\ xxunk being unreliable nor has it discarded his version that thedriver of the xxmaj maruti xxmaj car could not spot the parked xxmaj gas xxmaj xxunk to the flash lights of the oncoming traffic from the xxunk . xxmaj further , the xxmaj tribunal also adverted to the xxunk against the driver of the xxmaj gas xxmaj tanker of xxunk his vehicle in a negligent manner in the middle of theroad . xxmaj the xxmaj site xxmaj plan ( xxmaj ext . p \\ xad45 ) reinforces the version of xxup pw \\ xxunk the xxmaj truck ( xxmaj gas xxmaj tanker ) was parked in the middle of xxunk but the xxmaj high xxmaj court opined to the contrary withoutassigning any reason whatsoever . xxmaj in our view , the xxmaj site xxunk . p \\ xad45 ) filed along with the charge \\ xadsheet does not supportthe finding recorded by the xxmaj high xxmaj court that the xxmaj gas xxmaj xxunk not parked in the middle of the road . xxmaj notably , the highcourt has also not doubted the claimant ’s plea that the xxunk / offending vehicle was parked without any indicator xxunk lights . xxmaj the fact that xxup pw \\ xad7 who was standing on theopposite side of the road at a distance of about 70 feet , xxunk the xxmaj gas xxmaj tanker parked on the other side of the road doesnot discredit his version that the xxmaj maruti xxmaj car coming from theopposite side could not spot the xxmaj gas xxmaj tanker due to flash xxunk the oncoming traffic from the front side . xxmaj it is not in disputethat the road is a busy road . xxmaj in the cross \\ xadexamination , xxunk any attempt been made to discredit the version of xxup pw \\ xxunk has any suggestion been made that no vehicle with xxunk on was coming from the opposite direction of the xxunk xxmaj tanker at the relevant time . ' ]\n",
       "y: CategoryList\n",
       "Allowed,Allowed,Allowed,Overruled,Allowed\n",
       "Path: .;\n",
       "\n",
       "Test: None, model=SequentialRNN(\n",
       "  (0): MultiBatchEncoder(\n",
       "    (module): AWD_LSTM(\n",
       "      (encoder): Embedding(60000, 400, padding_idx=1)\n",
       "      (encoder_dp): EmbeddingDropout(\n",
       "        (emb): Embedding(60000, 400, padding_idx=1)\n",
       "      )\n",
       "      (rnns): ModuleList(\n",
       "        (0): WeightDropout(\n",
       "          (module): LSTM(400, 1152, batch_first=True)\n",
       "        )\n",
       "        (1): WeightDropout(\n",
       "          (module): LSTM(1152, 1152, batch_first=True)\n",
       "        )\n",
       "        (2): WeightDropout(\n",
       "          (module): LSTM(1152, 400, batch_first=True)\n",
       "        )\n",
       "      )\n",
       "      (input_dp): RNNDropout()\n",
       "      (hidden_dps): ModuleList(\n",
       "        (0): RNNDropout()\n",
       "        (1): RNNDropout()\n",
       "        (2): RNNDropout()\n",
       "      )\n",
       "    )\n",
       "  )\n",
       "  (1): PoolingLinearClassifier(\n",
       "    (layers): Sequential(\n",
       "      (0): BatchNorm1d(1200, eps=1e-05, momentum=0.1, affine=True, track_running_stats=True)\n",
       "      (1): Dropout(p=0.2, inplace=False)\n",
       "      (2): Linear(in_features=1200, out_features=50, bias=True)\n",
       "      (3): ReLU(inplace=True)\n",
       "      (4): BatchNorm1d(50, eps=1e-05, momentum=0.1, affine=True, track_running_stats=True)\n",
       "      (5): Dropout(p=0.1, inplace=False)\n",
       "      (6): Linear(in_features=50, out_features=3, bias=True)\n",
       "    )\n",
       "  )\n",
       "), opt_func=functools.partial(<class 'torch.optim.adam.Adam'>, betas=(0.9, 0.99)), loss_func=FlattenedLoss of CrossEntropyLoss(), metrics=[<function accuracy at 0x7f43cf935320>], true_wd=True, bn_wd=True, wd=0.01, train_bn=True, path=PosixPath('/home/jupyter/tutorials/data'), model_dir='models', callback_fns=[functools.partial(<class 'fastai.basic_train.Recorder'>, add_time=True, silent=False)], callbacks=[RNNTrainer\n",
       "learn: ...\n",
       "alpha: 2.0\n",
       "beta: 1.0], layer_groups=[Sequential(\n",
       "  (0): Embedding(60000, 400, padding_idx=1)\n",
       "  (1): EmbeddingDropout(\n",
       "    (emb): Embedding(60000, 400, padding_idx=1)\n",
       "  )\n",
       "), Sequential(\n",
       "  (0): WeightDropout(\n",
       "    (module): LSTM(400, 1152, batch_first=True)\n",
       "  )\n",
       "  (1): RNNDropout()\n",
       "), Sequential(\n",
       "  (0): WeightDropout(\n",
       "    (module): LSTM(1152, 1152, batch_first=True)\n",
       "  )\n",
       "  (1): RNNDropout()\n",
       "), Sequential(\n",
       "  (0): WeightDropout(\n",
       "    (module): LSTM(1152, 400, batch_first=True)\n",
       "  )\n",
       "  (1): RNNDropout()\n",
       "), Sequential(\n",
       "  (0): PoolingLinearClassifier(\n",
       "    (layers): Sequential(\n",
       "      (0): BatchNorm1d(1200, eps=1e-05, momentum=0.1, affine=True, track_running_stats=True)\n",
       "      (1): Dropout(p=0.2, inplace=False)\n",
       "      (2): Linear(in_features=1200, out_features=50, bias=True)\n",
       "      (3): ReLU(inplace=True)\n",
       "      (4): BatchNorm1d(50, eps=1e-05, momentum=0.1, affine=True, track_running_stats=True)\n",
       "      (5): Dropout(p=0.1, inplace=False)\n",
       "      (6): Linear(in_features=50, out_features=3, bias=True)\n",
       "    )\n",
       "  )\n",
       ")], add_time=True, silent=False)"
      ]
     },
     "execution_count": 10,
     "metadata": {},
     "output_type": "execute_result"
    }
   ],
   "source": [
    "learn = text_classifier_learner(data_clas, AWD_LSTM, drop_mult=0.5)\n",
    "learn.load_encoder(path/'fine_tuned_enc_FD_LMC')"
   ]
  },
  {
   "cell_type": "code",
   "execution_count": 25,
   "metadata": {},
   "outputs": [
    {
     "data": {
      "text/html": [],
      "text/plain": [
       "<IPython.core.display.HTML object>"
      ]
     },
     "metadata": {},
     "output_type": "display_data"
    },
    {
     "name": "stdout",
     "output_type": "stream",
     "text": [
      "LR Finder is complete, type {learner_name}.recorder.plot() to see the graph.\n"
     ]
    }
   ],
   "source": [
    "learn.lr_find()"
   ]
  },
  {
   "cell_type": "code",
   "execution_count": 26,
   "metadata": {},
   "outputs": [
    {
     "data": {
      "image/png": "[encoded data removed]",
      "text/plain": [
       "<Figure size 432x288 with 1 Axes>"
      ]
     },
     "metadata": {
      "needs_background": "light"
     },
     "output_type": "display_data"
    }
   ],
   "source": [
    "learn.recorder.plot()"
   ]
  },
  {
   "cell_type": "code",
   "execution_count": 30,
   "metadata": {},
   "outputs": [
    {
     "data": {
      "text/html": [
       "<table border=\"1\" class=\"dataframe\">\n",
       "  <thead>\n",
       "    <tr style=\"text-align: left;\">\n",
       "      <th>epoch</th>\n",
       "      <th>train_loss</th>\n",
       "      <th>valid_loss</th>\n",
       "      <th>accuracy</th>\n",
       "      <th>time</th>\n",
       "    </tr>\n",
       "  </thead>\n",
       "  <tbody>\n",
       "    <tr>\n",
       "      <td>0</td>\n",
       "      <td>0.617810</td>\n",
       "      <td>0.610092</td>\n",
       "      <td>0.645777</td>\n",
       "      <td>18:15</td>\n",
       "    </tr>\n",
       "  </tbody>\n",
       "</table>"
      ],
      "text/plain": [
       "<IPython.core.display.HTML object>"
      ]
     },
     "metadata": {},
     "output_type": "display_data"
    }
   ],
   "source": [
    "learn.fit_one_cycle(1, 2e-02, moms=(0.8,0.7))\n",
    "#65.9"
   ]
  },
  {
   "cell_type": "code",
   "execution_count": 29,
   "metadata": {},
   "outputs": [],
   "source": [
    "learn.save(path/'first_FD_LMC')"
   ]
  },
  {
   "cell_type": "code",
   "execution_count": 11,
   "metadata": {},
   "outputs": [],
   "source": [
    "learn.load(path/'first_FD_LMC');"
   ]
  },
  {
   "cell_type": "code",
   "execution_count": 18,
   "metadata": {},
   "outputs": [
    {
     "data": {
      "text/html": [
       "<table border=\"1\" class=\"dataframe\">\n",
       "  <thead>\n",
       "    <tr style=\"text-align: left;\">\n",
       "      <th>epoch</th>\n",
       "      <th>train_loss</th>\n",
       "      <th>valid_loss</th>\n",
       "      <th>accuracy</th>\n",
       "      <th>time</th>\n",
       "    </tr>\n",
       "  </thead>\n",
       "  <tbody>\n",
       "    <tr>\n",
       "      <td>0</td>\n",
       "      <td>0.370214</td>\n",
       "      <td>0.561735</td>\n",
       "      <td>0.746594</td>\n",
       "      <td>18:45</td>\n",
       "    </tr>\n",
       "    <tr>\n",
       "      <td>1</td>\n",
       "      <td>0.299656</td>\n",
       "      <td>0.606928</td>\n",
       "      <td>0.749319</td>\n",
       "      <td>19:21</td>\n",
       "    </tr>\n",
       "  </tbody>\n",
       "</table>"
      ],
      "text/plain": [
       "<IPython.core.display.HTML object>"
      ]
     },
     "metadata": {},
     "output_type": "display_data"
    }
   ],
   "source": [
    "learn.freeze_to(-2)\n",
    "learn.fit_one_cycle(2, slice(1e-2/(2.6**4),1e-2), moms=(0.8,0.7))"
   ]
  },
  {
   "cell_type": "code",
   "execution_count": 19,
   "metadata": {},
   "outputs": [],
   "source": [
    "learn.save(path/'second_FD_LMC')"
   ]
  },
  {
   "cell_type": "code",
   "execution_count": 12,
   "metadata": {},
   "outputs": [],
   "source": [
    "learn.load(path/'second_FD_LMC');"
   ]
  },
  {
   "cell_type": "code",
   "execution_count": 12,
   "metadata": {},
   "outputs": [
    {
     "data": {
      "text/html": [
       "<table border=\"1\" class=\"dataframe\">\n",
       "  <thead>\n",
       "    <tr style=\"text-align: left;\">\n",
       "      <th>epoch</th>\n",
       "      <th>train_loss</th>\n",
       "      <th>valid_loss</th>\n",
       "      <th>accuracy</th>\n",
       "      <th>time</th>\n",
       "    </tr>\n",
       "  </thead>\n",
       "  <tbody>\n",
       "    <tr>\n",
       "      <td>0</td>\n",
       "      <td>0.183098</td>\n",
       "      <td>0.702280</td>\n",
       "      <td>0.760218</td>\n",
       "      <td>20:17</td>\n",
       "    </tr>\n",
       "  </tbody>\n",
       "</table>"
      ],
      "text/plain": [
       "<IPython.core.display.HTML object>"
      ]
     },
     "metadata": {},
     "output_type": "display_data"
    }
   ],
   "source": [
    "learn.freeze_to(-3)\n",
    "learn.fit_one_cycle(1, slice(5e-3/(2.6**4),5e-3), moms=(0.8,0.7),wd=0.3)\n",
    "#77.6\n",
    "#run it 2-3 times more"
   ]
  },
  {
   "cell_type": "code",
   "execution_count": 14,
   "metadata": {},
   "outputs": [],
   "source": [
    "learn.save(path/'third_FD_LMC')"
   ]
  },
  {
   "cell_type": "code",
   "execution_count": 11,
   "metadata": {},
   "outputs": [],
   "source": [
    "learn.load(path/'third_FD_LMC');"
   ]
  },
  {
   "cell_type": "code",
   "execution_count": null,
   "metadata": {},
   "outputs": [
    {
     "data": {
      "text/html": [
       "\n",
       "    <div>\n",
       "        <style>\n",
       "            /* Turns off some styling */\n",
       "            progress {\n",
       "                /* gets rid of default border in Firefox and Opera. */\n",
       "                border: none;\n",
       "                /* Needs to be in here for Safari polyfill so background images work as expected. */\n",
       "                background-size: auto;\n",
       "            }\n",
       "            .progress-bar-interrupted, .progress-bar-interrupted::-webkit-progress-bar {\n",
       "                background: #F44336;\n",
       "            }\n",
       "        </style>\n",
       "      <progress value='2' class='' max='3', style='width:300px; height:20px; vertical-align: middle;'></progress>\n",
       "      66.67% [2/3 1:52:58<56:29]\n",
       "    </div>\n",
       "    \n",
       "<table border=\"1\" class=\"dataframe\">\n",
       "  <thead>\n",
       "    <tr style=\"text-align: left;\">\n",
       "      <th>epoch</th>\n",
       "      <th>train_loss</th>\n",
       "      <th>valid_loss</th>\n",
       "      <th>accuracy</th>\n",
       "      <th>time</th>\n",
       "    </tr>\n",
       "  </thead>\n",
       "  <tbody>\n",
       "    <tr>\n",
       "      <td>0</td>\n",
       "      <td>0.090478</td>\n",
       "      <td>0.817791</td>\n",
       "      <td>0.765668</td>\n",
       "      <td>55:39</td>\n",
       "    </tr>\n",
       "    <tr>\n",
       "      <td>1</td>\n",
       "      <td>0.092325</td>\n",
       "      <td>0.910829</td>\n",
       "      <td>0.762943</td>\n",
       "      <td>57:19</td>\n",
       "    </tr>\n",
       "  </tbody>\n",
       "</table><p>\n",
       "\n",
       "    <div>\n",
       "        <style>\n",
       "            /* Turns off some styling */\n",
       "            progress {\n",
       "                /* gets rid of default border in Firefox and Opera. */\n",
       "                border: none;\n",
       "                /* Needs to be in here for Safari polyfill so background images work as expected. */\n",
       "                background-size: auto;\n",
       "            }\n",
       "            .progress-bar-interrupted, .progress-bar-interrupted::-webkit-progress-bar {\n",
       "                background: #F44336;\n",
       "            }\n",
       "        </style>\n",
       "      <progress value='161' class='' max='207', style='width:300px; height:20px; vertical-align: middle;'></progress>\n",
       "      77.78% [161/207 32:10<09:11 0.0900]\n",
       "    </div>\n",
       "    "
      ],
      "text/plain": [
       "<IPython.core.display.HTML object>"
      ]
     },
     "metadata": {},
     "output_type": "display_data"
    }
   ],
   "source": [
    "#learn.unfreeze()\n",
    "learn.fit_one_cycle(3, slice(1e-3/(2.6**4),1e-3), moms=(0.8,0.7))"
   ]
  },
  {
   "cell_type": "code",
   "execution_count": 15,
   "metadata": {},
   "outputs": [],
   "source": [
    "learn.save(path/'Final_FD_LMC')"
   ]
  },
  {
   "cell_type": "code",
   "execution_count": null,
   "metadata": {},
   "outputs": [],
   "source": [
    "learn.predict(\"I really loved that movie, it was awesome!\")"
   ]
  },
  {
   "cell_type": "code",
   "execution_count": null,
   "metadata": {},
   "outputs": [],
   "source": [
    "help(TextList)"
   ]
  },
  {
   "cell_type": "code",
   "execution_count": null,
   "metadata": {
    "scrolled": true
   },
   "outputs": [],
   "source": [
    "help(learn.predict)"
   ]
  },
  {
   "cell_type": "code",
   "execution_count": 27,
   "metadata": {},
   "outputs": [
    {
     "data": {
      "text/plain": [
       "7354"
      ]
     },
     "execution_count": 27,
     "metadata": {},
     "output_type": "execute_result"
    }
   ],
   "source": [
    "gc.collect()"
   ]
  },
  {
   "cell_type": "code",
   "execution_count": null,
   "metadata": {},
   "outputs": [],
   "source": [
    "doc(TextDataBunch)"
   ]
  },
  {
   "cell_type": "code",
   "execution_count": null,
   "metadata": {},
   "outputs": [],
   "source": []
  }
 ],
 "metadata": {
  "kernelspec": {
   "display_name": "Python 3",
   "language": "python",
   "name": "python3"
  },
  "language_info": {
   "codemirror_mode": {
    "name": "ipython",
    "version": 3
   },
   "file_extension": ".py",
   "mimetype": "text/x-python",
   "name": "python",
   "nbconvert_exporter": "python",
   "pygments_lexer": "ipython3",
   "version": "3.7.4"
  }
 },
 "nbformat": 4,
 "nbformat_minor": 2
}
